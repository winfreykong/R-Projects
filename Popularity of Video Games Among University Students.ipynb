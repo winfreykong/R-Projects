{
  "cells": [
    {
      "cell_type": "code",
      "execution_count": 1,
      "metadata": {
        "colab": {
          "base_uri": "https://localhost:8080/",
          "height": 183
        },
        "id": "uIRv_ngORiiS",
        "outputId": "740c1505-4f2e-4709-f6a4-790875352b07",
        "vscode": {
          "languageId": "r"
        }
      },
      "outputs": [
        {
          "name": "stderr",
          "output_type": "stream",
          "text": [
            "Warning message in file(file, \"rt\"):\n",
            "“cannot open file 'videodata.txt': No such file or directory”\n"
          ]
        },
        {
          "ename": "ERROR",
          "evalue": "ignored",
          "output_type": "error",
          "traceback": [
            "Error in file(file, \"rt\"): cannot open the connection\nTraceback:\n",
            "1. read.table(\"videodata.txt\", header = TRUE)",
            "2. file(file, \"rt\")"
          ]
        }
      ],
      "source": [
        "data = read.table(\"videodata.txt\", header = TRUE)\n",
        "table = head(data)\n",
        "table"
      ]
    },
    {
      "cell_type": "code",
      "execution_count": null,
      "metadata": {
        "colab": {
          "base_uri": "https://localhost:8080/",
          "height": 493
        },
        "id": "oy7cxGn7Pliw",
        "outputId": "3a026ea6-7131-468e-e9d1-44236ae1ca94",
        "vscode": {
          "languageId": "r"
        }
      },
      "outputs": [
        {
          "data": {
            "text/plain": [
              "      time             like            where            freq      \n",
              " Min.   : 0.000   Min.   : 1.000   Min.   : 1.00   Min.   : 1.00  \n",
              " 1st Qu.: 0.000   1st Qu.: 2.000   1st Qu.: 3.00   1st Qu.: 2.00  \n",
              " Median : 0.000   Median : 3.000   Median : 3.00   Median : 3.00  \n",
              " Mean   : 1.243   Mean   : 4.077   Mean   :21.97   Mean   :16.46  \n",
              " 3rd Qu.: 1.250   3rd Qu.: 3.000   3rd Qu.: 5.00   3rd Qu.: 4.00  \n",
              " Max.   :30.000   Max.   :99.000   Max.   :99.00   Max.   :99.00  \n",
              "      busy            educ            sex              age       \n",
              " Min.   : 0.00   Min.   : 0.00   Min.   :0.0000   Min.   :18.00  \n",
              " 1st Qu.: 0.00   1st Qu.: 0.00   1st Qu.:0.0000   1st Qu.:19.00  \n",
              " Median : 0.00   Median : 1.00   Median :1.0000   Median :19.00  \n",
              " Mean   :12.15   Mean   :14.55   Mean   :0.5824   Mean   :19.52  \n",
              " 3rd Qu.: 1.00   3rd Qu.: 1.00   3rd Qu.:1.0000   3rd Qu.:20.00  \n",
              " Max.   :99.00   Max.   :99.00   Max.   :1.0000   Max.   :33.00  \n",
              "      home             math             work            own        \n",
              " Min.   :0.0000   Min.   : 0.000   Min.   : 0.00   Min.   :0.0000  \n",
              " 1st Qu.:1.0000   1st Qu.: 0.000   1st Qu.: 0.00   1st Qu.:0.0000  \n",
              " Median :1.0000   Median : 0.000   Median : 5.00   Median :1.0000  \n",
              " Mean   :0.7582   Mean   : 1.407   Mean   :10.37   Mean   :0.7363  \n",
              " 3rd Qu.:1.0000   3rd Qu.: 1.000   3rd Qu.:14.50   3rd Qu.:1.0000  \n",
              " Max.   :1.0000   Max.   :99.000   Max.   :99.00   Max.   :1.0000  \n",
              "     cdrom            email            grade      \n",
              " Min.   : 0.000   Min.   :0.0000   Min.   :2.000  \n",
              " 1st Qu.: 0.000   1st Qu.:1.0000   1st Qu.:3.000  \n",
              " Median : 0.000   Median :1.0000   Median :3.000  \n",
              " Mean   : 5.604   Mean   :0.7912   Mean   :3.253  \n",
              " 3rd Qu.: 0.000   3rd Qu.:1.0000   3rd Qu.:4.000  \n",
              " Max.   :99.000   Max.   :1.0000   Max.   :4.000  "
            ]
          },
          "metadata": {
            "tags": []
          },
          "output_type": "display_data"
        }
      ],
      "source": [
        "summary(data)"
      ]
    },
    {
      "cell_type": "markdown",
      "metadata": {
        "id": "iUUwWBZRN3ly"
      },
      "source": [
        "\n",
        "1.   Point estimate\n",
        "2.   Interval estimate\n",
        "\n",
        "\n",
        "\n",
        "\n"
      ]
    },
    {
      "cell_type": "markdown",
      "metadata": {
        "id": "VHRy8csLQQel"
      },
      "source": [
        "Find point estimate for the fraction of students who played a video game in the week prior to the survey\n"
      ]
    },
    {
      "cell_type": "code",
      "execution_count": null,
      "metadata": {
        "id": "6rNiI2qOVYHv",
        "vscode": {
          "languageId": "r"
        }
      },
      "outputs": [],
      "source": [
        "time_column = data['time']"
      ]
    },
    {
      "cell_type": "code",
      "execution_count": null,
      "metadata": {
        "colab": {
          "base_uri": "https://localhost:8080/",
          "height": 34
        },
        "id": "p5ZEyl4xUflF",
        "outputId": "74d958a4-f3f2-49cf-c6bd-2e7aeeaf5475",
        "vscode": {
          "languageId": "r"
        }
      },
      "outputs": [
        {
          "data": {
            "text/html": [
              "30"
            ],
            "text/latex": [
              "30"
            ],
            "text/markdown": [
              "30"
            ],
            "text/plain": [
              "[1] 30"
            ]
          },
          "metadata": {
            "tags": []
          },
          "output_type": "display_data"
        }
      ],
      "source": [
        "max(time_column) #no extraneous value at the \"time\" column"
      ]
    },
    {
      "cell_type": "code",
      "execution_count": null,
      "metadata": {
        "colab": {
          "base_uri": "https://localhost:8080/"
        },
        "id": "W4xyigpRPate",
        "outputId": "de874c7e-4b79-4516-a283-7d9dd93c7a4f",
        "vscode": {
          "languageId": "r"
        }
      },
      "outputs": [
        {
          "name": "stdout",
          "output_type": "stream",
          "text": [
            "Number of students who played: 34 \n",
            "Total number of respondents: 91"
          ]
        }
      ],
      "source": [
        "played_index = which(data$time > 0)\n",
        "data.played = data[played_index,]\n",
        "#count number of rows\n",
        "num_of_students_played = nrow(data.played)\n",
        "total_num_of_respondents = nrow(data)\n",
        "cat(\"Number of students who played:\", num_of_students_played, \"\\nTotal number of respondents:\", total_num_of_respondents)"
      ]
    },
    {
      "cell_type": "code",
      "execution_count": null,
      "metadata": {
        "colab": {
          "base_uri": "https://localhost:8080/",
          "height": 34
        },
        "id": "xJn4KOVDQfkK",
        "outputId": "5e329ed4-ac59-46d7-899d-188c4d9572e0",
        "vscode": {
          "languageId": "r"
        }
      },
      "outputs": [
        {
          "data": {
            "text/html": [
              "0.373626373626374"
            ],
            "text/latex": [
              "0.373626373626374"
            ],
            "text/markdown": [
              "0.373626373626374"
            ],
            "text/plain": [
              "[1] 0.3736264"
            ]
          },
          "metadata": {
            "tags": []
          },
          "output_type": "display_data"
        }
      ],
      "source": [
        "#calculate point estimate\n",
        "point_estimate_fraction_played = num_of_students_played/total_num_of_respondents\n",
        "point_estimate_fraction_played"
      ]
    },
    {
      "cell_type": "markdown",
      "metadata": {
        "id": "LYxxTZ8PRsp-"
      },
      "source": [
        "Find interval estimate for the fraction of students who played a video game in the week prior to the survey"
      ]
    },
    {
      "cell_type": "code",
      "execution_count": null,
      "metadata": {
        "id": "DphF6sckRbB1",
        "vscode": {
          "languageId": "r"
        }
      },
      "outputs": [],
      "source": [
        "#bootstrap to find the average point estimate (fraction of students who played)\n",
        "#we will sample the dataset with replication\n",
        "library(boot)"
      ]
    },
    {
      "cell_type": "code",
      "execution_count": null,
      "metadata": {
        "colab": {
          "base_uri": "https://localhost:8080/",
          "height": 204
        },
        "id": "NWNDeJj8Zjml",
        "outputId": "4284293e-4abe-4163-e0de-8155b8156efc",
        "vscode": {
          "languageId": "r"
        }
      },
      "outputs": [
        {
          "data": {
            "text/plain": [
              "\n",
              "ORDINARY NONPARAMETRIC BOOTSTRAP\n",
              "\n",
              "\n",
              "Call:\n",
              "boot(data = data, statistic = func, R = 1000, stype = \"i\")\n",
              "\n",
              "\n",
              "Bootstrap Statistics :\n",
              "     original        bias    std. error\n",
              "t1* 0.3736264 -0.0004615385  0.05032824"
            ]
          },
          "metadata": {
            "tags": []
          },
          "output_type": "display_data"
        }
      ],
      "source": [
        "#function to calculate fraction from sample\n",
        "func = function(data, indices=1:91){\n",
        "  d = data[indices,]\n",
        "  frac = nrow(d[which(d$time>0),])/nrow(d)\n",
        "  return(frac)\n",
        "}\n",
        "#bootstrap with 1000 replications\n",
        "results = boot(data, statistic=func, R=1000, stype=\"i\")\n",
        "results"
      ]
    },
    {
      "cell_type": "code",
      "execution_count": null,
      "metadata": {
        "colab": {
          "base_uri": "https://localhost:8080/",
          "height": 187
        },
        "id": "b5P2PMsdApZG",
        "outputId": "525cf18c-3c07-47de-e45a-7e9c60ce7547",
        "vscode": {
          "languageId": "r"
        }
      },
      "outputs": [
        {
          "data": {
            "text/plain": [
              "BOOTSTRAP CONFIDENCE INTERVAL CALCULATIONS\n",
              "Based on 1000 bootstrap replicates\n",
              "\n",
              "CALL : \n",
              "boot.ci(boot.out = results, type = \"basic\")\n",
              "\n",
              "Intervals : \n",
              "Level      Basic         \n",
              "95%   ( 0.2747,  0.4725 )  \n",
              "Calculations and Intervals on Original Scale"
            ]
          },
          "metadata": {
            "tags": []
          },
          "output_type": "display_data"
        }
      ],
      "source": [
        "boot.ci(results, type = \"basic\")"
      ]
    },
    {
      "cell_type": "markdown",
      "metadata": {
        "id": "6eYYlgRYkhmw"
      },
      "source": [
        "Using the basic bootstrap method to calculate interval estimate, we found that the 95% confidence interval of the proportion of students who played a video game is [0.275, 0.473], that is between 27 to 47 students approximately."
      ]
    },
    {
      "cell_type": "markdown",
      "metadata": {
        "id": "WB80h1XIlUDf"
      },
      "source": [
        "# Amount of time spent playing video games in the week prior to the survey VS reported frequency of play\n",
        "\n",
        "\n",
        "\n",
        "\n",
        "\n"
      ]
    },
    {
      "cell_type": "markdown",
      "metadata": {
        "id": "BMDdBvd_tU7S"
      },
      "source": [
        "Assumption: A student typically plays 2 hours of video games each time\n",
        "\n",
        "Based on this assumption, the ideal amount of time spent playing video games in a week based on the frequency of play is as follows:\n",
        "1.   Daily = 14 hours\n",
        "2.   Weekly = 2 hours\n",
        "3. Monthly = 0.5 hour (can be up to 2 hours if student plays once)\n",
        "4. Semesterly = 0.167 hour (can be up to 2 hours if student plays once)"
      ]
    },
    {
      "cell_type": "code",
      "execution_count": null,
      "metadata": {
        "colab": {
          "base_uri": "https://localhost:8080/",
          "height": 437
        },
        "id": "hJNZGJNfkd7m",
        "outputId": "1f5557fa-4079-4439-acd1-3251b3d5befe",
        "vscode": {
          "languageId": "r"
        }
      },
      "outputs": [
        {
          "data": {
            "image/png": "[encoded data removed]",
            "text/plain": [
              "Plot with title “Histogram of total time spent playing video games per week”"
            ]
          },
          "metadata": {
            "image/png": {
              "height": 420,
              "width": 420
            },
            "tags": []
          },
          "output_type": "display_data"
        }
      ],
      "source": [
        "#overview of amount of time spent playing video games\n",
        "hist(data$time, 30, main = \"Histogram of total time spent playing video games per week\", xlab = \"Time(hours)\")"
      ]
    },
    {
      "cell_type": "code",
      "execution_count": null,
      "metadata": {
        "colab": {
          "base_uri": "https://localhost:8080/",
          "height": 454
        },
        "id": "y8yHA-CDozUz",
        "outputId": "0a64bc44-0f8f-4cf0-fb9e-078f4d40f98c",
        "vscode": {
          "languageId": "r"
        }
      },
      "outputs": [
        {
          "name": "stdout",
          "output_type": "stream",
          "text": [
            "Number of students who play daily: 9"
          ]
        },
        {
          "data": {
            "image/png": "[encoded data removed]",
            "text/plain": [
              "Plot with title “Histogram of time spent playing video games (daily) in a week”"
            ]
          },
          "metadata": {
            "image/png": {
              "height": 420,
              "width": 420
            },
            "tags": []
          },
          "output_type": "display_data"
        }
      ],
      "source": [
        "#subsets of data based on frequency of play\n",
        "#subset1: daily\n",
        "daily_subset = data[which(data$freq == 1),]\n",
        "cat(\"Number of students who play daily:\", nrow(daily_subset))\n",
        "hist(daily_subset$time, 15, freq = FALSE, main = \"Histogram of time spent playing video games (daily) in a week\", xlab = \"Time(hours)\")"
      ]
    },
    {
      "cell_type": "code",
      "execution_count": null,
      "metadata": {
        "colab": {
          "base_uri": "https://localhost:8080/",
          "height": 454
        },
        "id": "qyaLP1mNqirj",
        "outputId": "a9367e73-42da-4bc0-8f84-6705d76494dc",
        "vscode": {
          "languageId": "r"
        }
      },
      "outputs": [
        {
          "name": "stdout",
          "output_type": "stream",
          "text": [
            "Number of students who play weekly: 28"
          ]
        },
        {
          "data": {
            "image/png": "[encoded data removed]",
            "text/plain": [
              "Plot with title “Histogram of time spent playing video games (weekly) in a week”"
            ]
          },
          "metadata": {
            "image/png": {
              "height": 420,
              "width": 420
            },
            "tags": []
          },
          "output_type": "display_data"
        }
      ],
      "source": [
        "#subsets of data based on frequency of play\n",
        "#subset2: weekly\n",
        "weekly_subset = data[which(data$freq == 2),]\n",
        "cat(\"Number of students who play weekly:\", nrow(weekly_subset))\n",
        "hist(weekly_subset$time, 15, freq = FALSE, main = \"Histogram of time spent playing video games (weekly) in a week\", xlab = \"Time(hours)\")"
      ]
    },
    {
      "cell_type": "code",
      "execution_count": null,
      "metadata": {
        "colab": {
          "base_uri": "https://localhost:8080/",
          "height": 454
        },
        "id": "uH1hq_dDrh1G",
        "outputId": "b3a82228-e13e-4c34-abe3-8dc1ce2b4aa2",
        "vscode": {
          "languageId": "r"
        }
      },
      "outputs": [
        {
          "name": "stdout",
          "output_type": "stream",
          "text": [
            "Number of students who play monthly: 18"
          ]
        },
        {
          "data": {
            "image/png": "[encoded data removed]",
            "text/plain": [
              "Plot with title “Histogram of time spent playing video games (monthly) in a week”"
            ]
          },
          "metadata": {
            "image/png": {
              "height": 420,
              "width": 420
            },
            "tags": []
          },
          "output_type": "display_data"
        }
      ],
      "source": [
        "#subsets of data based on frequency of play\n",
        "#subset3: monthly\n",
        "monthly_subset = data[which(data$freq == 3),]\n",
        "cat(\"Number of students who play monthly:\", nrow(monthly_subset))\n",
        "hist(monthly_subset$time, 15, freq = FALSE, main = \"Histogram of time spent playing video games (monthly) in a week\", xlab = \"Time(hours)\")"
      ]
    },
    {
      "cell_type": "code",
      "execution_count": null,
      "metadata": {
        "colab": {
          "base_uri": "https://localhost:8080/",
          "height": 454
        },
        "id": "2pZDeb7IsuFk",
        "outputId": "41dad3f0-1ce1-4b5d-f68d-19917d915b11",
        "vscode": {
          "languageId": "r"
        }
      },
      "outputs": [
        {
          "name": "stdout",
          "output_type": "stream",
          "text": [
            "Number of students who play semesterly: 23"
          ]
        },
        {
          "data": {
            "image/png": "[encoded data removed]",
            "text/plain": [
              "Plot with title “Histogram of time spent playing video games (semesterly) in a week”"
            ]
          },
          "metadata": {
            "image/png": {
              "height": 420,
              "width": 420
            },
            "tags": []
          },
          "output_type": "display_data"
        }
      ],
      "source": [
        "#subsets of data based on frequency of play\n",
        "#subset4: semesterly\n",
        "semesterly_subset = data[which(data$freq == 4),]\n",
        "cat(\"Number of students who play semesterly:\", nrow(semesterly_subset))\n",
        "hist(semesterly_subset$time, 15, freq = FALSE, main = \"Histogram of time spent playing video games (semesterly) in a week\", xlab = \"Time(hours)\")"
      ]
    },
    {
      "cell_type": "markdown",
      "metadata": {
        "id": "ZTwb0fz7vcaA"
      },
      "source": [
        "Consider external factors:\n",
        "\n",
        "\n",
        "1.   Student loves/hates math\n",
        "2.   Student plays when they are busy or not\n",
        "\n"
      ]
    },
    {
      "cell_type": "markdown",
      "metadata": {
        "id": "7FZeDeid0oZu"
      },
      "source": [
        "First, we will examine the 1st quartile of time spent = 0 hour"
      ]
    },
    {
      "cell_type": "code",
      "execution_count": null,
      "metadata": {
        "colab": {
          "base_uri": "https://localhost:8080/"
        },
        "id": "CuiyTU-Jv6Dx",
        "outputId": "2665fa73-92dd-423e-eb05-eca5ae5d8bf9",
        "vscode": {
          "languageId": "r"
        }
      },
      "outputs": [
        {
          "name": "stdout",
          "output_type": "stream",
          "text": [
            "Proportion of students who hate math: 0.4210526 \n",
            "Proportion of students who love math: 0.5789474 \n",
            "Proportion of students who play even when they are busy: 0.05263158\n",
            "Proportion of students who does not play if busy given they hate math: 0.7083333"
          ]
        }
      ],
      "source": [
        "#from the summary of data above, we know that 1st quartile of time spent is 0 hour\n",
        "q1_subset = data[which(data$time == 0.0),]\n",
        "q1_hate_math = nrow(q1_subset[which(q1_subset$math == 1),])/nrow(q1_subset)\n",
        "q1_play_if_busy = nrow(q1_subset[which(q1_subset$busy == 1),])/nrow(q1_subset)\n",
        "cat(\"Proportion of students who hate math:\", q1_hate_math, \n",
        "\"\\nProportion of students who love math:\", 1 - q1_hate_math,\n",
        "\"\\nProportion of students who play even when they are busy:\", q1_play_if_busy)\n",
        "\n",
        "#hate math but DOES NOT play when they are busy \n",
        "#(assume they work hard for the test)\n",
        "q1_busy_for_test = nrow(q1_subset[which(q1_subset$math == 1 & \n",
        "q1_subset$busy == 0),])/nrow(q1_subset[which(q1_subset$math == 1),])\n",
        "cat(\"\\nProportion of students who does not play if busy given they hate math:\",\n",
        "q1_busy_for_test)"
      ]
    },
    {
      "cell_type": "markdown",
      "metadata": {
        "id": "nCuqEWIqyrYE"
      },
      "source": [
        "Quite a significant proportion of students does not like math, however this can be justified by the fact that this group of students normally do not play when they are busy, assuming they are busy preparing for the test. Among students who hate math, approximately 71% of them do not play video games if they are busy."
      ]
    },
    {
      "cell_type": "markdown",
      "metadata": {
        "id": "5Y4Ohxn40vsg"
      },
      "source": [
        "Next, we will examine the students with time spent greater than the 3rd quartile = 1.25 hours"
      ]
    },
    {
      "cell_type": "code",
      "execution_count": null,
      "metadata": {
        "colab": {
          "base_uri": "https://localhost:8080/"
        },
        "id": "kCgOhyXWvX-Z",
        "outputId": "cde5e133-47ba-4ddc-dca4-82044780190d",
        "vscode": {
          "languageId": "r"
        }
      },
      "outputs": [
        {
          "name": "stdout",
          "output_type": "stream",
          "text": [
            "Proportion of students who hate math: 0.08695652 \n",
            "Proportion of students who love math: 0.9130435 \n",
            "Proportion of students who play even when they are busy: 0.5217391\n",
            "Proportion of students who play if busy given they love math: 0.4761905"
          ]
        }
      ],
      "source": [
        "#from the summary of data above, we know that 3rd quartile of time spent is 1.25 hours\n",
        "q3_subset = data[which(data$time > 1.250),]\n",
        "q3_hate_math = nrow(q3_subset[which(q3_subset$math == 1),])/nrow(q3_subset)\n",
        "q3_play_if_busy = nrow(q3_subset[which(q3_subset$busy == 1),])/nrow(q3_subset)\n",
        "cat(\"Proportion of students who hate math:\", q3_hate_math, \n",
        "\"\\nProportion of students who love math:\", 1 - q3_hate_math,\n",
        "\"\\nProportion of students who play even when they are busy:\", q3_play_if_busy)\n",
        "\n",
        "#love math and play when they are busy \n",
        "#(assume they work equally hard for the test)\n",
        "q3_busy_for_test = nrow(q3_subset[which(q3_subset$math == 0 & \n",
        "q3_subset$busy == 0),])/nrow(q3_subset[which(q3_subset$math == 0),])\n",
        "cat(\"\\nProportion of students who play if busy given they love math:\",\n",
        "q3_busy_for_test)"
      ]
    },
    {
      "cell_type": "markdown",
      "metadata": {
        "id": "aSwbKB7E45Pt"
      },
      "source": [
        "Very low proportion of students does not like math (less than 0.1%), most of them like math. However, more than half (52%) of them play video games even when they are busy, which can be one of the reasons why they spend more time playing video games than their peers. Among the majority who loves math, close to half (aprrox. 48% of students) play video games when they are busy. "
      ]
    },
    {
      "cell_type": "markdown",
      "metadata": {
        "id": "ZriUOHrjvT2W"
      },
      "source": [
        "Finally, benchmarking to our assumption"
      ]
    },
    {
      "cell_type": "code",
      "execution_count": null,
      "metadata": {
        "colab": {
          "base_uri": "https://localhost:8080/"
        },
        "id": "IMcq4pZPvWUd",
        "outputId": "46be5aaf-0c45-408c-f923-0090a988267e",
        "vscode": {
          "languageId": "r"
        }
      },
      "outputs": [
        {
          "name": "stdout",
          "output_type": "stream",
          "text": [
            "Proportion of students who played equal or more than the assumed time spent: 21\n",
            "Proportion of students who hate math: 0.04761905 \n",
            "Proportion of students who love math: 0.952381 \n",
            "Proportion of students who play even when they are busy: 0.4285714"
          ]
        }
      ],
      "source": [
        "#by assumption, playing daily = 14hours per week\n",
        "#playing weekly = 2hours per week\n",
        "#playing monthly = 0.5hour per week\n",
        "#playing semesterly = 0.167hour per week\n",
        "over_subset = data[which((data$freq == 1 & data$time >= 14) | \n",
        "(data$freq == 2 & data$time >= 2) |\n",
        "(data$freq == 3 & data$time >= 0.5) | \n",
        "(data$freq == 4 & data$time >= 0.167)),]\n",
        "\n",
        "cat(\"Proportion of students who played equal or more than the assumed time spent:\", nrow(over_subset))\n",
        "\n",
        "#now let's check their behaviour (hate math and play if busy)\n",
        "over_hate_math = nrow(over_subset[which(over_subset$math == 1),])/nrow(over_subset)\n",
        "over_play_if_busy = nrow(over_subset[which(over_subset$busy == 1),])/nrow(over_subset)\n",
        "cat(\"\\nProportion of students who hate math:\", over_hate_math, \n",
        "\"\\nProportion of students who love math:\", 1 - over_hate_math,\n",
        "\"\\nProportion of students who play even when they are busy:\", over_play_if_busy)"
      ]
    },
    {
      "cell_type": "markdown",
      "metadata": {
        "id": "qrHCkPj1-3fy"
      },
      "source": [
        "Surprisingly (or maybe not), a small proportion of them (approximately 0.05%) hates math. However, quite a significant proportion of them (more than 40%) plays games even when they are busy."
      ]
    },
    {
      "cell_type": "markdown",
      "metadata": {
        "id": "Ya47XJej56zi"
      },
      "source": [
        "Conclusion: It seems like the amount of time spent playing video games in the week is more associated with the students' habit of playing games (or not) when they are busy than whether they like math or not. This is based on the assumption that all students work equally hard for the test and they are busy preparing for the test."
      ]
    },
    {
      "cell_type": "markdown",
      "metadata": {
        "id": "K50z5Asr_Zwv"
      },
      "source": [
        "\n",
        "\n",
        "\n",
        "1.   Point estimate\n",
        "2.   Interval estimate\n",
        "\n",
        "\n",
        "The average amount of time spent playing video games in the week prior to the survey\n",
        "\n",
        "\n",
        "\n",
        "\n",
        "\n",
        "\n"
      ]
    },
    {
      "cell_type": "code",
      "execution_count": null,
      "metadata": {
        "colab": {
          "base_uri": "https://localhost:8080/"
        },
        "id": "7N94tAK2__hK",
        "outputId": "08ff944e-0be6-44a3-8b04-7c3d74e02062",
        "vscode": {
          "languageId": "r"
        }
      },
      "outputs": [
        {
          "name": "stdout",
          "output_type": "stream",
          "text": [
            "Point estimate of average amount of time spent: 1.242857"
          ]
        }
      ],
      "source": [
        "mean_time = mean(data$time)\n",
        "cat(\"Point estimate of average amount of time spent:\", mean_time)"
      ]
    },
    {
      "cell_type": "code",
      "execution_count": null,
      "metadata": {
        "colab": {
          "base_uri": "https://localhost:8080/"
        },
        "id": "mb5stbvw-5H3",
        "outputId": "ab02ad9b-6298-4f44-bcb6-71920c90a6a6",
        "vscode": {
          "languageId": "r"
        }
      },
      "outputs": [
        {
          "name": "stdout",
          "output_type": "stream",
          "text": [
            "Point estimate of average amount of time spent, removing 30-hour outlier: 0.9233333\n",
            "Point estimate of average amount of time spent, removing 14-hour and 30-hour outliers: 0.6261364"
          ]
        }
      ],
      "source": [
        "########## Added cell ############\n",
        "# still settle on the above answer, but just to see the impact of removing outliers:\n",
        "# throw out 30 hours outlier\n",
        "mean_wo_30 = mean(data[which(data$time < 30),]$time)\n",
        "cat(\"Point estimate of average amount of time spent, removing 30-hour outlier:\", mean_wo_30)\n",
        "\n",
        "# throw out 30 hours and 14 hours outlier\n",
        "mean_wo_14_30 = mean(data[which(data$time < 14),]$time)\n",
        "cat(\"\\nPoint estimate of average amount of time spent, removing 14-hour and 30-hour outliers:\", mean_wo_14_30)"
      ]
    },
    {
      "cell_type": "code",
      "execution_count": null,
      "metadata": {
        "colab": {
          "base_uri": "https://localhost:8080/"
        },
        "id": "ECbv0tvYAmcb",
        "outputId": "d7ab6de3-b6e3-41f1-aa68-b4265e721d88",
        "vscode": {
          "languageId": "r"
        }
      },
      "outputs": [
        {
          "name": "stdout",
          "output_type": "stream",
          "text": [
            "95% confidence interval of average amount of time spent: [ 0.4509744 , 2.03474 ]"
          ]
        }
      ],
      "source": [
        "sd_time = sd(data$time)\n",
        "upper_bound = mean_time + 2*sd_time/sqrt(nrow(data))\n",
        "lower_bound = mean_time - 2*sd_time/sqrt(nrow(data))\n",
        "cat(\"95% confidence interval of average amount of time spent: [\", lower_bound,\n",
        "\",\", upper_bound, \"]\")"
      ]
    },
    {
      "cell_type": "code",
      "execution_count": null,
      "metadata": {
        "colab": {
          "base_uri": "https://localhost:8080/",
          "height": 437
        },
        "id": "HvZmXmNpBShK",
        "outputId": "aa6bfee1-566a-4da4-995f-9edb3c80e273",
        "vscode": {
          "languageId": "r"
        }
      },
      "outputs": [
        {
          "data": {
            "image/png": "[encoded data removed]",
            "text/plain": [
              "Plot with title “Histogram of time spent playing video games (daily) in a week”"
            ]
          },
          "metadata": {
            "image/png": {
              "height": 420,
              "width": 420
            },
            "tags": []
          },
          "output_type": "display_data"
        }
      ],
      "source": [
        "#Review of shape of distribution of time spent\n",
        "hist(daily_subset$time, 15, freq = FALSE, main = \"Histogram of time spent playing video games (daily) in a week\", xlab = \"Time(hours)\")"
      ]
    },
    {
      "cell_type": "markdown",
      "metadata": {
        "id": "b5aCflHIB2YF"
      },
      "source": [
        "Simulation study - Bootstrap to determine the appropriateness of the interval estimate\n"
      ]
    },
    {
      "cell_type": "code",
      "execution_count": null,
      "metadata": {
        "colab": {
          "base_uri": "https://localhost:8080/",
          "height": 204
        },
        "id": "S-Ermi5wBvkN",
        "outputId": "40ec3edb-6b6a-4339-bcca-a2f1ca25da5a",
        "vscode": {
          "languageId": "r"
        }
      },
      "outputs": [
        {
          "data": {
            "text/plain": [
              "\n",
              "ORDINARY NONPARAMETRIC BOOTSTRAP\n",
              "\n",
              "\n",
              "Call:\n",
              "boot(data = data, statistic = func, R = 1000, stype = \"i\")\n",
              "\n",
              "\n",
              "Bootstrap Statistics :\n",
              "    original       bias    std. error\n",
              "t1* 1.242857 -0.004840659   0.3834618"
            ]
          },
          "metadata": {
            "tags": []
          },
          "output_type": "display_data"
        }
      ],
      "source": [
        "#function to calculate mean time of sample\n",
        "func = function(data, indices=1:91){\n",
        "  d = data[indices,]\n",
        "  avg_time = mean(d$time)\n",
        "  return(avg_time)\n",
        "}\n",
        "#bootstrap with 1000 replications\n",
        "boot2_results = boot(data, statistic=func, R=1000, stype=\"i\")\n",
        "boot2_results"
      ]
    },
    {
      "cell_type": "code",
      "execution_count": null,
      "metadata": {
        "colab": {
          "base_uri": "https://localhost:8080/",
          "height": 437
        },
        "id": "saneBSGvCVkb",
        "outputId": "b44354a4-b60d-42ba-a048-26efe4d3b385",
        "vscode": {
          "languageId": "r"
        }
      },
      "outputs": [
        {
          "data": {
            "image/png": "[encoded data removed]",
            "text/plain": [
              "Plot with title “Histogram of t”"
            ]
          },
          "metadata": {
            "image/png": {
              "height": 420,
              "width": 420
            },
            "tags": []
          },
          "output_type": "display_data"
        }
      ],
      "source": [
        "plot(boot2_results)"
      ]
    },
    {
      "cell_type": "code",
      "execution_count": null,
      "metadata": {
        "colab": {
          "base_uri": "https://localhost:8080/",
          "height": 187
        },
        "id": "1I_o_EanCkeO",
        "outputId": "c8496d4c-a5e8-4d08-f496-74a56dc22582",
        "vscode": {
          "languageId": "r"
        }
      },
      "outputs": [
        {
          "data": {
            "text/plain": [
              "BOOTSTRAP CONFIDENCE INTERVAL CALCULATIONS\n",
              "Based on 1000 bootstrap replicates\n",
              "\n",
              "CALL : \n",
              "boot.ci(boot.out = boot2_results, type = \"basic\")\n",
              "\n",
              "Intervals : \n",
              "Level      Basic         \n",
              "95%   ( 0.365,  1.862 )  \n",
              "Calculations and Intervals on Original Scale"
            ]
          },
          "metadata": {
            "tags": []
          },
          "output_type": "display_data"
        }
      ],
      "source": [
        "boot.ci(boot2_results, type = \"basic\")"
      ]
    },
    {
      "cell_type": "code",
      "execution_count": null,
      "metadata": {
        "id": "LMFWq3NSUlwm",
        "vscode": {
          "languageId": "r"
        }
      },
      "outputs": [],
      "source": [
        "#finding ways to plot the intervals"
      ]
    },
    {
      "cell_type": "markdown",
      "metadata": {
        "id": "dykr58puURX8"
      },
      "source": [
        "# Investigate if students enjoy playing video games in general\n",
        "\n",
        "\n",
        "\n",
        "\n",
        "\n"
      ]
    },
    {
      "cell_type": "code",
      "execution_count": null,
      "metadata": {
        "colab": {
          "base_uri": "https://localhost:8080/",
          "height": 303
        },
        "id": "xpPhonOOCuHp",
        "outputId": "057919a1-3048-4d55-83ea-db164d22fed2",
        "vscode": {
          "languageId": "r"
        }
      },
      "outputs": [
        {
          "data": {
            "text/html": [
              "<table class=\"dataframe\">\n",
              "<caption>A data.frame: 6 × 21</caption>\n",
              "<thead>\n",
              "\t<tr><th></th><th scope=col>action</th><th scope=col>adv</th><th scope=col>sim</th><th scope=col>sport</th><th scope=col>strategy</th><th scope=col>relax</th><th scope=col>coord</th><th scope=col>challenge</th><th scope=col>master</th><th scope=col>bored</th><th scope=col>⋯</th><th scope=col>graphic</th><th scope=col>time</th><th scope=col>frust</th><th scope=col>lonely</th><th scope=col>rules</th><th scope=col>cost</th><th scope=col>boring</th><th scope=col>friends</th><th scope=col>point</th><th scope=col>other2</th></tr>\n",
              "\t<tr><th></th><th scope=col>&lt;int&gt;</th><th scope=col>&lt;int&gt;</th><th scope=col>&lt;int&gt;</th><th scope=col>&lt;int&gt;</th><th scope=col>&lt;int&gt;</th><th scope=col>&lt;int&gt;</th><th scope=col>&lt;int&gt;</th><th scope=col>&lt;int&gt;</th><th scope=col>&lt;int&gt;</th><th scope=col>&lt;int&gt;</th><th scope=col>⋯</th><th scope=col>&lt;int&gt;</th><th scope=col>&lt;int&gt;</th><th scope=col>&lt;int&gt;</th><th scope=col>&lt;int&gt;</th><th scope=col>&lt;int&gt;</th><th scope=col>&lt;int&gt;</th><th scope=col>&lt;int&gt;</th><th scope=col>&lt;int&gt;</th><th scope=col>&lt;int&gt;</th><th scope=col>&lt;chr&gt;</th></tr>\n",
              "</thead>\n",
              "<tbody>\n",
              "\t<tr><th scope=row>1</th><td>0</td><td>0</td><td>0</td><td>0</td><td>1</td><td>1</td><td>0</td><td>1</td><td>1</td><td>0</td><td>⋯</td><td>0</td><td>1</td><td>0</td><td>0</td><td>0</td><td>1</td><td>0</td><td>0</td><td>1</td><td> </td></tr>\n",
              "\t<tr><th scope=row>2</th><td>0</td><td>1</td><td>0</td><td>0</td><td>1</td><td>0</td><td>0</td><td>0</td><td>0</td><td>1</td><td>⋯</td><td>0</td><td>1</td><td>1</td><td>0</td><td>0</td><td>0</td><td>0</td><td>0</td><td>0</td><td> </td></tr>\n",
              "\t<tr><th scope=row>3</th><td>1</td><td>0</td><td>0</td><td>1</td><td>1</td><td>1</td><td>0</td><td>0</td><td>0</td><td>0</td><td>⋯</td><td>0</td><td>0</td><td>0</td><td>0</td><td>0</td><td>1</td><td>0</td><td>0</td><td>0</td><td> </td></tr>\n",
              "\t<tr><th scope=row>4</th><td>0</td><td>0</td><td>0</td><td>0</td><td>1</td><td>0</td><td>0</td><td>1</td><td>0</td><td>0</td><td>⋯</td><td>0</td><td>1</td><td>0</td><td>0</td><td>0</td><td>0</td><td>0</td><td>0</td><td>0</td><td> </td></tr>\n",
              "\t<tr><th scope=row>5</th><td>0</td><td>0</td><td>0</td><td>0</td><td>1</td><td>1</td><td>0</td><td>1</td><td>1</td><td>0</td><td>⋯</td><td>0</td><td>0</td><td>0</td><td>0</td><td>1</td><td>1</td><td>0</td><td>0</td><td>0</td><td> </td></tr>\n",
              "\t<tr><th scope=row>6</th><td>1</td><td>0</td><td>0</td><td>1</td><td>1</td><td>1</td><td>0</td><td>0</td><td>1</td><td>1</td><td>⋯</td><td>0</td><td>1</td><td>1</td><td>0</td><td>0</td><td>1</td><td>0</td><td>0</td><td>0</td><td> </td></tr>\n",
              "</tbody>\n",
              "</table>\n"
            ],
            "text/latex": [
              "A data.frame: 6 × 21\n",
              "\\begin{tabular}{r|lllllllllllllllllllll}\n",
              "  & action & adv & sim & sport & strategy & relax & coord & challenge & master & bored & ⋯ & graphic & time & frust & lonely & rules & cost & boring & friends & point & other2\\\\\n",
              "  & <int> & <int> & <int> & <int> & <int> & <int> & <int> & <int> & <int> & <int> & ⋯ & <int> & <int> & <int> & <int> & <int> & <int> & <int> & <int> & <int> & <chr>\\\\\n",
              "\\hline\n",
              "\t1 & 0 & 0 & 0 & 0 & 1 & 1 & 0 & 1 & 1 & 0 & ⋯ & 0 & 1 & 0 & 0 & 0 & 1 & 0 & 0 & 1 &  \\\\\n",
              "\t2 & 0 & 1 & 0 & 0 & 1 & 0 & 0 & 0 & 0 & 1 & ⋯ & 0 & 1 & 1 & 0 & 0 & 0 & 0 & 0 & 0 &  \\\\\n",
              "\t3 & 1 & 0 & 0 & 1 & 1 & 1 & 0 & 0 & 0 & 0 & ⋯ & 0 & 0 & 0 & 0 & 0 & 1 & 0 & 0 & 0 &  \\\\\n",
              "\t4 & 0 & 0 & 0 & 0 & 1 & 0 & 0 & 1 & 0 & 0 & ⋯ & 0 & 1 & 0 & 0 & 0 & 0 & 0 & 0 & 0 &  \\\\\n",
              "\t5 & 0 & 0 & 0 & 0 & 1 & 1 & 0 & 1 & 1 & 0 & ⋯ & 0 & 0 & 0 & 0 & 1 & 1 & 0 & 0 & 0 &  \\\\\n",
              "\t6 & 1 & 0 & 0 & 1 & 1 & 1 & 0 & 0 & 1 & 1 & ⋯ & 0 & 1 & 1 & 0 & 0 & 1 & 0 & 0 & 0 &  \\\\\n",
              "\\end{tabular}\n"
            ],
            "text/markdown": [
              "\n",
              "A data.frame: 6 × 21\n",
              "\n",
              "| <!--/--> | action &lt;int&gt; | adv &lt;int&gt; | sim &lt;int&gt; | sport &lt;int&gt; | strategy &lt;int&gt; | relax &lt;int&gt; | coord &lt;int&gt; | challenge &lt;int&gt; | master &lt;int&gt; | bored &lt;int&gt; | ⋯ ⋯ | graphic &lt;int&gt; | time &lt;int&gt; | frust &lt;int&gt; | lonely &lt;int&gt; | rules &lt;int&gt; | cost &lt;int&gt; | boring &lt;int&gt; | friends &lt;int&gt; | point &lt;int&gt; | other2 &lt;chr&gt; |\n",
              "|---|---|---|---|---|---|---|---|---|---|---|---|---|---|---|---|---|---|---|---|---|---|\n",
              "| 1 | 0 | 0 | 0 | 0 | 1 | 1 | 0 | 1 | 1 | 0 | ⋯ | 0 | 1 | 0 | 0 | 0 | 1 | 0 | 0 | 1 | <!----> |\n",
              "| 2 | 0 | 1 | 0 | 0 | 1 | 0 | 0 | 0 | 0 | 1 | ⋯ | 0 | 1 | 1 | 0 | 0 | 0 | 0 | 0 | 0 | <!----> |\n",
              "| 3 | 1 | 0 | 0 | 1 | 1 | 1 | 0 | 0 | 0 | 0 | ⋯ | 0 | 0 | 0 | 0 | 0 | 1 | 0 | 0 | 0 | <!----> |\n",
              "| 4 | 0 | 0 | 0 | 0 | 1 | 0 | 0 | 1 | 0 | 0 | ⋯ | 0 | 1 | 0 | 0 | 0 | 0 | 0 | 0 | 0 | <!----> |\n",
              "| 5 | 0 | 0 | 0 | 0 | 1 | 1 | 0 | 1 | 1 | 0 | ⋯ | 0 | 0 | 0 | 0 | 1 | 1 | 0 | 0 | 0 | <!----> |\n",
              "| 6 | 1 | 0 | 0 | 1 | 1 | 1 | 0 | 0 | 1 | 1 | ⋯ | 0 | 1 | 1 | 0 | 0 | 1 | 0 | 0 | 0 | <!----> |\n",
              "\n"
            ],
            "text/plain": [
              "  action adv sim sport strategy relax coord challenge master bored ⋯ graphic\n",
              "1 0      0   0   0     1        1     0     1         1      0     ⋯ 0      \n",
              "2 0      1   0   0     1        0     0     0         0      1     ⋯ 0      \n",
              "3 1      0   0   1     1        1     0     0         0      0     ⋯ 0      \n",
              "4 0      0   0   0     1        0     0     1         0      0     ⋯ 0      \n",
              "5 0      0   0   0     1        1     0     1         1      0     ⋯ 0      \n",
              "6 1      0   0   1     1        1     0     0         1      1     ⋯ 0      \n",
              "  time frust lonely rules cost boring friends point other2\n",
              "1 1    0     0      0     1    0      0       1           \n",
              "2 1    1     0      0     0    0      0       0           \n",
              "3 0    0     0      0     1    0      0       0           \n",
              "4 1    0     0      0     0    0      0       0           \n",
              "5 0    0     0      1     1    0      0       0           \n",
              "6 1    1     0      0     1    0      0       0           "
            ]
          },
          "metadata": {
            "tags": []
          },
          "output_type": "display_data"
        }
      ],
      "source": [
        "follow_up_data = read.table(\"videoMultiple.txt\", header = TRUE)\n",
        "follow_up_table = head(follow_up_data)\n",
        "follow_up_table"
      ]
    },
    {
      "cell_type": "code",
      "execution_count": null,
      "metadata": {
        "colab": {
          "base_uri": "https://localhost:8080/",
          "height": 833
        },
        "id": "Y8GpMzofugFX",
        "outputId": "cf07d083-e6d0-42be-ce53-f3c392db3d74",
        "vscode": {
          "languageId": "r"
        }
      },
      "outputs": [
        {
          "data": {
            "text/plain": [
              "     action            adv              sim             sport       \n",
              " Min.   :0.0000   Min.   :0.0000   Min.   :0.0000   Min.   :0.0000  \n",
              " 1st Qu.:0.0000   1st Qu.:0.0000   1st Qu.:0.0000   1st Qu.:0.0000  \n",
              " Median :1.0000   Median :0.0000   Median :0.0000   Median :0.0000  \n",
              " Mean   :0.5172   Mean   :0.2874   Mean   :0.1724   Mean   :0.3908  \n",
              " 3rd Qu.:1.0000   3rd Qu.:1.0000   3rd Qu.:0.0000   3rd Qu.:1.0000  \n",
              " Max.   :1.0000   Max.   :1.0000   Max.   :1.0000   Max.   :1.0000  \n",
              " NA's   :4        NA's   :4        NA's   :4        NA's   :4       \n",
              "    strategy          relax            coord           challenge     \n",
              " Min.   :0.0000   Min.   :0.0000   Min.   :0.00000   Min.   :0.0000  \n",
              " 1st Qu.:0.0000   1st Qu.:0.0000   1st Qu.:0.00000   1st Qu.:0.0000  \n",
              " Median :1.0000   Median :1.0000   Median :0.00000   Median :0.0000  \n",
              " Mean   :0.6322   Mean   :0.6667   Mean   :0.04598   Mean   :0.2414  \n",
              " 3rd Qu.:1.0000   3rd Qu.:1.0000   3rd Qu.:0.00000   3rd Qu.:0.0000  \n",
              " Max.   :1.0000   Max.   :1.0000   Max.   :1.00000   Max.   :1.0000  \n",
              " NA's   :4        NA's   :4        NA's   :4         NA's   :4       \n",
              "     master           bored           other              graphic      \n",
              " Min.   :0.0000   Min.   :0.0000   Length:91          Min.   :0.0000  \n",
              " 1st Qu.:0.0000   1st Qu.:0.0000   Class :character   1st Qu.:0.0000  \n",
              " Median :0.0000   Median :0.0000   Mode  :character   Median :0.0000  \n",
              " Mean   :0.2874   Mean   :0.2759                      Mean   :0.2644  \n",
              " 3rd Qu.:1.0000   3rd Qu.:1.0000                      3rd Qu.:1.0000  \n",
              " Max.   :1.0000   Max.   :1.0000                      Max.   :1.0000  \n",
              " NA's   :4        NA's   :4                           NA's   :4       \n",
              "      time            frust            lonely            rules       \n",
              " Min.   :0.0000   Min.   :0.0000   Min.   :0.00000   Min.   :0.0000  \n",
              " 1st Qu.:0.0000   1st Qu.:0.0000   1st Qu.:0.00000   1st Qu.:0.0000  \n",
              " Median :0.0000   Median :0.0000   Median :0.00000   Median :0.0000  \n",
              " Mean   :0.4828   Mean   :0.2644   Mean   :0.04598   Mean   :0.1954  \n",
              " 3rd Qu.:1.0000   3rd Qu.:1.0000   3rd Qu.:0.00000   3rd Qu.:0.0000  \n",
              " Max.   :1.0000   Max.   :1.0000   Max.   :1.00000   Max.   :1.0000  \n",
              " NA's   :4        NA's   :4        NA's   :4         NA's   :4       \n",
              "      cost            boring          friends            point       \n",
              " Min.   :0.0000   Min.   :0.0000   Min.   :0.00000   Min.   :0.0000  \n",
              " 1st Qu.:0.0000   1st Qu.:0.0000   1st Qu.:0.00000   1st Qu.:0.0000  \n",
              " Median :0.0000   Median :0.0000   Median :0.00000   Median :0.0000  \n",
              " Mean   :0.4023   Mean   :0.1609   Mean   :0.02299   Mean   :0.3333  \n",
              " 3rd Qu.:1.0000   3rd Qu.:0.0000   3rd Qu.:0.00000   3rd Qu.:1.0000  \n",
              " Max.   :1.0000   Max.   :1.0000   Max.   :1.00000   Max.   :1.0000  \n",
              " NA's   :4        NA's   :4        NA's   :4         NA's   :4       \n",
              "    other2         \n",
              " Length:91         \n",
              " Class :character  \n",
              " Mode  :character  \n",
              "                   \n",
              "                   \n",
              "                   \n",
              "                   "
            ]
          },
          "metadata": {
            "tags": []
          },
          "output_type": "display_data"
        }
      ],
      "source": [
        "summary(follow_up_data)"
      ]
    },
    {
      "cell_type": "markdown",
      "metadata": {
        "id": "Avjwh46Gu-Pf"
      },
      "source": [
        "Note that there are 4 extraneous values (NA) in the data"
      ]
    },
    {
      "cell_type": "code",
      "execution_count": null,
      "metadata": {
        "id": "XekWnynPY0pg",
        "vscode": {
          "languageId": "r"
        }
      },
      "outputs": [],
      "source": [
        "library(tidyverse)"
      ]
    },
    {
      "cell_type": "code",
      "execution_count": null,
      "metadata": {
        "colab": {
          "base_uri": "https://localhost:8080/",
          "height": 283
        },
        "id": "rbevDulgXiBE",
        "outputId": "6633430f-1bc3-4f05-fc91-a7b82daa5583",
        "vscode": {
          "languageId": "r"
        }
      },
      "outputs": [
        {
          "data": {
            "text/html": [
              "<table class=\"dataframe\">\n",
              "<caption>A data.frame: 6 × 5</caption>\n",
              "<thead>\n",
              "\t<tr><th></th><th scope=col>action</th><th scope=col>adv</th><th scope=col>sim</th><th scope=col>sport</th><th scope=col>strategy</th></tr>\n",
              "\t<tr><th></th><th scope=col>&lt;int&gt;</th><th scope=col>&lt;int&gt;</th><th scope=col>&lt;int&gt;</th><th scope=col>&lt;int&gt;</th><th scope=col>&lt;int&gt;</th></tr>\n",
              "</thead>\n",
              "<tbody>\n",
              "\t<tr><th scope=row>1</th><td>0</td><td>0</td><td>0</td><td>0</td><td>1</td></tr>\n",
              "\t<tr><th scope=row>2</th><td>0</td><td>1</td><td>0</td><td>0</td><td>1</td></tr>\n",
              "\t<tr><th scope=row>3</th><td>1</td><td>0</td><td>0</td><td>1</td><td>1</td></tr>\n",
              "\t<tr><th scope=row>4</th><td>0</td><td>0</td><td>0</td><td>0</td><td>1</td></tr>\n",
              "\t<tr><th scope=row>5</th><td>0</td><td>0</td><td>0</td><td>0</td><td>1</td></tr>\n",
              "\t<tr><th scope=row>6</th><td>1</td><td>0</td><td>0</td><td>1</td><td>1</td></tr>\n",
              "</tbody>\n",
              "</table>\n"
            ],
            "text/latex": [
              "A data.frame: 6 × 5\n",
              "\\begin{tabular}{r|lllll}\n",
              "  & action & adv & sim & sport & strategy\\\\\n",
              "  & <int> & <int> & <int> & <int> & <int>\\\\\n",
              "\\hline\n",
              "\t1 & 0 & 0 & 0 & 0 & 1\\\\\n",
              "\t2 & 0 & 1 & 0 & 0 & 1\\\\\n",
              "\t3 & 1 & 0 & 0 & 1 & 1\\\\\n",
              "\t4 & 0 & 0 & 0 & 0 & 1\\\\\n",
              "\t5 & 0 & 0 & 0 & 0 & 1\\\\\n",
              "\t6 & 1 & 0 & 0 & 1 & 1\\\\\n",
              "\\end{tabular}\n"
            ],
            "text/markdown": [
              "\n",
              "A data.frame: 6 × 5\n",
              "\n",
              "| <!--/--> | action &lt;int&gt; | adv &lt;int&gt; | sim &lt;int&gt; | sport &lt;int&gt; | strategy &lt;int&gt; |\n",
              "|---|---|---|---|---|---|\n",
              "| 1 | 0 | 0 | 0 | 0 | 1 |\n",
              "| 2 | 0 | 1 | 0 | 0 | 1 |\n",
              "| 3 | 1 | 0 | 0 | 1 | 1 |\n",
              "| 4 | 0 | 0 | 0 | 0 | 1 |\n",
              "| 5 | 0 | 0 | 0 | 0 | 1 |\n",
              "| 6 | 1 | 0 | 0 | 1 | 1 |\n",
              "\n"
            ],
            "text/plain": [
              "  action adv sim sport strategy\n",
              "1 0      0   0   0     1       \n",
              "2 0      1   0   0     1       \n",
              "3 1      0   0   1     1       \n",
              "4 0      0   0   0     1       \n",
              "5 0      0   0   0     1       \n",
              "6 1      0   0   1     1       "
            ]
          },
          "metadata": {
            "tags": []
          },
          "output_type": "display_data"
        }
      ],
      "source": [
        "#select all the columns that answer the first follow up question\n",
        "q1_column = follow_up_data %>% select(\"action\", \"adv\", \"sim\", \"sport\", \"strategy\")\n",
        "q1_table = head(q1_column)\n",
        "q1_table"
      ]
    },
    {
      "cell_type": "code",
      "execution_count": null,
      "metadata": {
        "colab": {
          "base_uri": "https://localhost:8080/",
          "height": 283
        },
        "id": "P7itgvrqYZOQ",
        "outputId": "aabf35ef-4426-409d-9968-41160a29f17d",
        "vscode": {
          "languageId": "r"
        }
      },
      "outputs": [
        {
          "data": {
            "text/html": [
              "<table class=\"dataframe\">\n",
              "<caption>A data.frame: 6 × 6</caption>\n",
              "<thead>\n",
              "\t<tr><th></th><th scope=col>relax</th><th scope=col>coord</th><th scope=col>challenge</th><th scope=col>master</th><th scope=col>bored</th><th scope=col>other</th></tr>\n",
              "\t<tr><th></th><th scope=col>&lt;int&gt;</th><th scope=col>&lt;int&gt;</th><th scope=col>&lt;int&gt;</th><th scope=col>&lt;int&gt;</th><th scope=col>&lt;int&gt;</th><th scope=col>&lt;chr&gt;</th></tr>\n",
              "</thead>\n",
              "<tbody>\n",
              "\t<tr><th scope=row>1</th><td>1</td><td>0</td><td>1</td><td>1</td><td>0</td><td> </td></tr>\n",
              "\t<tr><th scope=row>2</th><td>0</td><td>0</td><td>0</td><td>0</td><td>1</td><td> </td></tr>\n",
              "\t<tr><th scope=row>3</th><td>1</td><td>0</td><td>0</td><td>0</td><td>0</td><td> </td></tr>\n",
              "\t<tr><th scope=row>4</th><td>0</td><td>0</td><td>1</td><td>0</td><td>0</td><td> </td></tr>\n",
              "\t<tr><th scope=row>5</th><td>1</td><td>0</td><td>1</td><td>1</td><td>0</td><td> </td></tr>\n",
              "\t<tr><th scope=row>6</th><td>1</td><td>0</td><td>0</td><td>1</td><td>1</td><td> </td></tr>\n",
              "</tbody>\n",
              "</table>\n"
            ],
            "text/latex": [
              "A data.frame: 6 × 6\n",
              "\\begin{tabular}{r|llllll}\n",
              "  & relax & coord & challenge & master & bored & other\\\\\n",
              "  & <int> & <int> & <int> & <int> & <int> & <chr>\\\\\n",
              "\\hline\n",
              "\t1 & 1 & 0 & 1 & 1 & 0 &  \\\\\n",
              "\t2 & 0 & 0 & 0 & 0 & 1 &  \\\\\n",
              "\t3 & 1 & 0 & 0 & 0 & 0 &  \\\\\n",
              "\t4 & 0 & 0 & 1 & 0 & 0 &  \\\\\n",
              "\t5 & 1 & 0 & 1 & 1 & 0 &  \\\\\n",
              "\t6 & 1 & 0 & 0 & 1 & 1 &  \\\\\n",
              "\\end{tabular}\n"
            ],
            "text/markdown": [
              "\n",
              "A data.frame: 6 × 6\n",
              "\n",
              "| <!--/--> | relax &lt;int&gt; | coord &lt;int&gt; | challenge &lt;int&gt; | master &lt;int&gt; | bored &lt;int&gt; | other &lt;chr&gt; |\n",
              "|---|---|---|---|---|---|---|\n",
              "| 1 | 1 | 0 | 1 | 1 | 0 | <!----> |\n",
              "| 2 | 0 | 0 | 0 | 0 | 1 | <!----> |\n",
              "| 3 | 1 | 0 | 0 | 0 | 0 | <!----> |\n",
              "| 4 | 0 | 0 | 1 | 0 | 0 | <!----> |\n",
              "| 5 | 1 | 0 | 1 | 1 | 0 | <!----> |\n",
              "| 6 | 1 | 0 | 0 | 1 | 1 | <!----> |\n",
              "\n"
            ],
            "text/plain": [
              "  relax coord challenge master bored other\n",
              "1 1     0     1         1      0          \n",
              "2 0     0     0         0      1          \n",
              "3 1     0     0         0      0          \n",
              "4 0     0     1         0      0          \n",
              "5 1     0     1         1      0          \n",
              "6 1     0     0         1      1          "
            ]
          },
          "metadata": {
            "tags": []
          },
          "output_type": "display_data"
        }
      ],
      "source": [
        "#select all the columns that answer the second follow up question\n",
        "q2_column = follow_up_data %>% select(\"relax\", \"coord\", \"challenge\", \"master\", \"bored\", \"other\")\n",
        "q2_table = head(q2_column)\n",
        "q2_table"
      ]
    },
    {
      "cell_type": "code",
      "execution_count": null,
      "metadata": {
        "colab": {
          "base_uri": "https://localhost:8080/",
          "height": 283
        },
        "id": "CQnuv5hiaN3t",
        "outputId": "8bdce25c-dde1-4e91-d83c-5f2740061b97",
        "vscode": {
          "languageId": "r"
        }
      },
      "outputs": [
        {
          "data": {
            "text/html": [
              "<table class=\"dataframe\">\n",
              "<caption>A data.frame: 6 × 10</caption>\n",
              "<thead>\n",
              "\t<tr><th></th><th scope=col>graphic</th><th scope=col>time</th><th scope=col>frust</th><th scope=col>lonely</th><th scope=col>rules</th><th scope=col>cost</th><th scope=col>boring</th><th scope=col>friends</th><th scope=col>point</th><th scope=col>other2</th></tr>\n",
              "\t<tr><th></th><th scope=col>&lt;int&gt;</th><th scope=col>&lt;int&gt;</th><th scope=col>&lt;int&gt;</th><th scope=col>&lt;int&gt;</th><th scope=col>&lt;int&gt;</th><th scope=col>&lt;int&gt;</th><th scope=col>&lt;int&gt;</th><th scope=col>&lt;int&gt;</th><th scope=col>&lt;int&gt;</th><th scope=col>&lt;chr&gt;</th></tr>\n",
              "</thead>\n",
              "<tbody>\n",
              "\t<tr><th scope=row>1</th><td>0</td><td>1</td><td>0</td><td>0</td><td>0</td><td>1</td><td>0</td><td>0</td><td>1</td><td> </td></tr>\n",
              "\t<tr><th scope=row>2</th><td>0</td><td>1</td><td>1</td><td>0</td><td>0</td><td>0</td><td>0</td><td>0</td><td>0</td><td> </td></tr>\n",
              "\t<tr><th scope=row>3</th><td>0</td><td>0</td><td>0</td><td>0</td><td>0</td><td>1</td><td>0</td><td>0</td><td>0</td><td> </td></tr>\n",
              "\t<tr><th scope=row>4</th><td>0</td><td>1</td><td>0</td><td>0</td><td>0</td><td>0</td><td>0</td><td>0</td><td>0</td><td> </td></tr>\n",
              "\t<tr><th scope=row>5</th><td>0</td><td>0</td><td>0</td><td>0</td><td>1</td><td>1</td><td>0</td><td>0</td><td>0</td><td> </td></tr>\n",
              "\t<tr><th scope=row>6</th><td>0</td><td>1</td><td>1</td><td>0</td><td>0</td><td>1</td><td>0</td><td>0</td><td>0</td><td> </td></tr>\n",
              "</tbody>\n",
              "</table>\n"
            ],
            "text/latex": [
              "A data.frame: 6 × 10\n",
              "\\begin{tabular}{r|llllllllll}\n",
              "  & graphic & time & frust & lonely & rules & cost & boring & friends & point & other2\\\\\n",
              "  & <int> & <int> & <int> & <int> & <int> & <int> & <int> & <int> & <int> & <chr>\\\\\n",
              "\\hline\n",
              "\t1 & 0 & 1 & 0 & 0 & 0 & 1 & 0 & 0 & 1 &  \\\\\n",
              "\t2 & 0 & 1 & 1 & 0 & 0 & 0 & 0 & 0 & 0 &  \\\\\n",
              "\t3 & 0 & 0 & 0 & 0 & 0 & 1 & 0 & 0 & 0 &  \\\\\n",
              "\t4 & 0 & 1 & 0 & 0 & 0 & 0 & 0 & 0 & 0 &  \\\\\n",
              "\t5 & 0 & 0 & 0 & 0 & 1 & 1 & 0 & 0 & 0 &  \\\\\n",
              "\t6 & 0 & 1 & 1 & 0 & 0 & 1 & 0 & 0 & 0 &  \\\\\n",
              "\\end{tabular}\n"
            ],
            "text/markdown": [
              "\n",
              "A data.frame: 6 × 10\n",
              "\n",
              "| <!--/--> | graphic &lt;int&gt; | time &lt;int&gt; | frust &lt;int&gt; | lonely &lt;int&gt; | rules &lt;int&gt; | cost &lt;int&gt; | boring &lt;int&gt; | friends &lt;int&gt; | point &lt;int&gt; | other2 &lt;chr&gt; |\n",
              "|---|---|---|---|---|---|---|---|---|---|---|\n",
              "| 1 | 0 | 1 | 0 | 0 | 0 | 1 | 0 | 0 | 1 | <!----> |\n",
              "| 2 | 0 | 1 | 1 | 0 | 0 | 0 | 0 | 0 | 0 | <!----> |\n",
              "| 3 | 0 | 0 | 0 | 0 | 0 | 1 | 0 | 0 | 0 | <!----> |\n",
              "| 4 | 0 | 1 | 0 | 0 | 0 | 0 | 0 | 0 | 0 | <!----> |\n",
              "| 5 | 0 | 0 | 0 | 0 | 1 | 1 | 0 | 0 | 0 | <!----> |\n",
              "| 6 | 0 | 1 | 1 | 0 | 0 | 1 | 0 | 0 | 0 | <!----> |\n",
              "\n"
            ],
            "text/plain": [
              "  graphic time frust lonely rules cost boring friends point other2\n",
              "1 0       1    0     0      0     1    0      0       1           \n",
              "2 0       1    1     0      0     0    0      0       0           \n",
              "3 0       0    0     0      0     1    0      0       0           \n",
              "4 0       1    0     0      0     0    0      0       0           \n",
              "5 0       0    0     0      1     1    0      0       0           \n",
              "6 0       1    1     0      0     1    0      0       0           "
            ]
          },
          "metadata": {
            "tags": []
          },
          "output_type": "display_data"
        }
      ],
      "source": [
        "#select all the columns that answer the third follow up question\n",
        "q3_column = follow_up_data %>% select(\"graphic\", \"time\", \"frust\", \"lonely\", \"rules\", \"cost\", \"boring\", \"friends\", \"point\", \"other2\")\n",
        "q3_table = head(q3_column)\n",
        "q3_table"
      ]
    },
    {
      "cell_type": "code",
      "execution_count": null,
      "metadata": {
        "colab": {
          "base_uri": "https://localhost:8080/",
          "height": 34
        },
        "id": "ce4WehZ6alr8",
        "outputId": "9600f065-8d1a-4cae-c47f-ba5871014273",
        "vscode": {
          "languageId": "r"
        }
      },
      "outputs": [
        {
          "data": {
            "text/html": [
              "91"
            ],
            "text/latex": [
              "91"
            ],
            "text/markdown": [
              "91"
            ],
            "text/plain": [
              "[1] 91"
            ]
          },
          "metadata": {
            "tags": []
          },
          "output_type": "display_data"
        }
      ],
      "source": [
        "nrow(q1_column)"
      ]
    },
    {
      "cell_type": "code",
      "execution_count": null,
      "metadata": {
        "colab": {
          "base_uri": "https://localhost:8080/",
          "height": 34
        },
        "id": "qjdujgbsarj1",
        "outputId": "77888240-bfcc-43cb-f268-a6c7b495f800",
        "vscode": {
          "languageId": "r"
        }
      },
      "outputs": [
        {
          "data": {
            "text/html": [
              "91"
            ],
            "text/latex": [
              "91"
            ],
            "text/markdown": [
              "91"
            ],
            "text/plain": [
              "[1] 91"
            ]
          },
          "metadata": {
            "tags": []
          },
          "output_type": "display_data"
        }
      ],
      "source": [
        "nrow(q2_column)"
      ]
    },
    {
      "cell_type": "code",
      "execution_count": null,
      "metadata": {
        "colab": {
          "base_uri": "https://localhost:8080/",
          "height": 34
        },
        "id": "FjF1TWijawGP",
        "outputId": "fecb4097-aaa7-4439-cf26-f7bea949be17",
        "vscode": {
          "languageId": "r"
        }
      },
      "outputs": [
        {
          "data": {
            "text/html": [
              "91"
            ],
            "text/latex": [
              "91"
            ],
            "text/markdown": [
              "91"
            ],
            "text/plain": [
              "[1] 91"
            ]
          },
          "metadata": {
            "tags": []
          },
          "output_type": "display_data"
        }
      ],
      "source": [
        "nrow(q3_column)"
      ]
    },
    {
      "cell_type": "code",
      "execution_count": null,
      "metadata": {
        "colab": {
          "base_uri": "https://localhost:8080/"
        },
        "id": "BGhI-yXXax7R",
        "outputId": "e8aa9f50-e73f-4aa8-d3b0-e457dd256d02",
        "vscode": {
          "languageId": "r"
        }
      },
      "outputs": [
        {
          "name": "stdout",
          "output_type": "stream",
          "text": [
            "Number of students who did not answer Q1: 12"
          ]
        }
      ],
      "source": [
        "#seems like we need to count the number of 1s\n",
        "#students who did not choose that option or did not answer at all are automatically assigned a 0\n",
        "#also students are allowed to choose multiple options\n",
        "#so we have to find the number of rows with all 0s (NA for other)\n",
        "num_no_ans1 = nrow(q1_column[which(q1_column$action == 0 & q1_column$adv == 0 & q1_column$sim == 0 & q1_column$sport == 0 & q1_column$strategy == 0),]) \n",
        "cat(\"Number of students who did not answer Q1:\", num_no_ans1)"
      ]
    },
    {
      "cell_type": "code",
      "execution_count": null,
      "metadata": {
        "colab": {
          "base_uri": "https://localhost:8080/"
        },
        "id": "23KQVEzVgsaG",
        "outputId": "ae5b489f-7980-40dd-d7e7-2231a5354807",
        "vscode": {
          "languageId": "r"
        }
      },
      "outputs": [
        {
          "name": "stdout",
          "output_type": "stream",
          "text": [
            "Number of students who did not answer Q2: 13"
          ]
        }
      ],
      "source": [
        "num_no_ans2 = nrow(q2_column[which(q2_column$relax == 0 & q2_column$coord == 0 & q2_column$challenge == 0 & q2_column$master == 0 & q2_column$bored == 0 & q2_column$other == \" \"),]) \n",
        "cat(\"Number of students who did not answer Q2:\", num_no_ans2)"
      ]
    },
    {
      "cell_type": "code",
      "execution_count": null,
      "metadata": {
        "colab": {
          "base_uri": "https://localhost:8080/"
        },
        "id": "V1izu2y4deJw",
        "outputId": "fc3e0c8c-a84e-4638-d6f1-0e15cd1ca258",
        "vscode": {
          "languageId": "r"
        }
      },
      "outputs": [
        {
          "name": "stdout",
          "output_type": "stream",
          "text": [
            "Number of students who did not like to play or never played: 21\n",
            "Number of students who like to play: 69"
          ]
        }
      ],
      "source": [
        "#let's cross check the number with the number of students who indicated \n",
        "#1 (never played), 4 (not really) and 5 (not at all) in the first survey\n",
        "num_dislike = nrow(data[which(data$like == 1 | data$like == 5 | data$like == 4),])\n",
        "num_like = nrow(data[which(data$like == 2 | data$like == 3),])\n",
        "cat(\"Number of students who did not like to play or never played:\", num_dislike)\n",
        "cat(\"\\nNumber of students who like to play:\", num_like)"
      ]
    },
    {
      "cell_type": "markdown",
      "metadata": {
        "id": "I7aQ__NbjF0P"
      },
      "source": [
        "Total number of students who indicated that they don't really like playing games or never played is 21, while the number of those who really skipped the questions is 13, seems like some students answered both Q1 & Q2 though they were instructed to not. \n",
        "\n",
        "Number of students who like and did not like does not sum up to 91, due to one extraneous value (99)"
      ]
    },
    {
      "cell_type": "markdown",
      "metadata": {
        "id": "Xa20E5hUzMBe"
      },
      "source": [
        "# Sentiment Analysis\n",
        "To measure the sentiment, perhaps we could set for follow-up Q2 and Q3 if at any row (one student) has more than 2 entries (noted as 1), it is considered as very positive or very negative."
      ]
    },
    {
      "cell_type": "code",
      "execution_count": null,
      "metadata": {
        "colab": {
          "base_uri": "https://localhost:8080/"
        },
        "id": "jJwO5CVJqMMz",
        "outputId": "1c6f3b78-ed0b-4bd3-ad4b-948c8fdf68b0",
        "vscode": {
          "languageId": "r"
        }
      },
      "outputs": [
        {
          "name": "stdout",
          "output_type": "stream",
          "text": [
            "Number of very positive responses: 18\n",
            "Proportion of very positive responses: 0.2432432"
          ]
        }
      ],
      "source": [
        "#for question 2\n",
        "#first remove the last column as it is not int\n",
        "q2_removed_other = q2_column[-6]\n",
        "q2_row_sum = rowSums(q2_removed_other)\n",
        "#add row_sum column\n",
        "q2.data.with.rowSum <- cbind(q2_column, row_sum = q2_row_sum)\n",
        "#count number of rows with more than 2 entries\n",
        "num_very_positive = nrow(q2.data.with.rowSum[which(q2.data.with.rowSum$row_sum > 2),])\n",
        "cat(\"Number of very positive responses:\", num_very_positive)\n",
        "cat(\"\\nProportion of very positive responses:\", num_very_positive/(nrow(q2_column) - num_no_ans2 - 4))"
      ]
    },
    {
      "cell_type": "code",
      "execution_count": null,
      "metadata": {
        "colab": {
          "base_uri": "https://localhost:8080/"
        },
        "id": "lEFvppCYcqD0",
        "outputId": "527b9a71-5272-4d0d-958e-b9b7463d259d",
        "vscode": {
          "languageId": "r"
        }
      },
      "outputs": [
        {
          "name": "stdout",
          "output_type": "stream",
          "text": [
            "Number of very negative responses: 36\n",
            "Proportion of very negative responses: 0.4137931"
          ]
        }
      ],
      "source": [
        "#for question 3\n",
        "#first remove the last column as it is not int\n",
        "q3_removed_other = q3_column[-10]\n",
        "q3_row_sum = rowSums(q3_removed_other)\n",
        "q3.data.with.rowSum <- cbind(q3_column, row_sum = q3_row_sum)\n",
        "num_very_negative = nrow(q3.data.with.rowSum[which(q3.data.with.rowSum$row_sum > 2),])\n",
        "cat(\"Number of very negative responses:\", num_very_negative)\n",
        "cat(\"\\nProportion of very negative responses:\", num_very_negative/(nrow(q3_column) - 4))"
      ]
    },
    {
      "cell_type": "markdown",
      "metadata": {
        "id": "QDJAvSgR03tf"
      },
      "source": [
        "Conclusion: There seem to be more negative responses than positive responses. However, there are other factors that affect the results, for example we removed rows with \"NA\" and did not consider the \"other\" column, also, there are more options for Q3 than for Q2 "
      ]
    },
    {
      "cell_type": "markdown",
      "metadata": {
        "id": "XOLff0B61dZL"
      },
      "source": [
        "# Look for the differences between those who like to play video games and those who don’t.\n",
        "\n",
        "Comparisons between:\n",
        "1. Male and female\n",
        "2. Work for pay and don’t\n",
        "3. With computer and without\n",
        "\n",
        "\n",
        "\n",
        "\n",
        "\n",
        "\n"
      ]
    },
    {
      "cell_type": "markdown",
      "metadata": {
        "id": "ZpQ6miyf8ARi"
      },
      "source": [
        "Given the scale for like to play, we categorize into two:\n",
        "1. Those who like to play video games: 2 (very much) and 3 (somewhat)\n",
        "2. Those who don't like to play video games: 1 (never played), 4 (not really) and 5 (not at all)"
      ]
    },
    {
      "cell_type": "code",
      "execution_count": null,
      "metadata": {
        "id": "__vWE_B702su",
        "vscode": {
          "languageId": "r"
        }
      },
      "outputs": [],
      "source": [
        "#create two subsets of data (like and dislike)\n",
        "like_data = data[which(data$like == 2 | data$like == 3),]\n",
        "dislike_data = data[which(data$like == 1 | data$like == 5 | data$like == 4),]"
      ]
    },
    {
      "cell_type": "markdown",
      "metadata": {
        "id": "LdR7wv4fC8Mt"
      },
      "source": [
        "Comparison between male and female "
      ]
    },
    {
      "cell_type": "code",
      "execution_count": null,
      "metadata": {
        "colab": {
          "base_uri": "https://localhost:8080/"
        },
        "id": "-NXjSTdiuVkt",
        "outputId": "f3ba7c5a-0381-4214-b1b2-8538a2566a2d",
        "vscode": {
          "languageId": "r"
        }
      },
      "outputs": [
        {
          "name": "stdout",
          "output_type": "stream",
          "text": [
            "Proportion of male who like gaming: 0.4777778\n",
            "Proportion of female who like gaming: 0.2888889\n",
            "Proportion of male who dislike gaming: 0.1\n",
            "Proportion of female who dislike gaming: 0.1333333"
          ]
        }
      ],
      "source": [
        "#first, compare between male (1) and female (0)\n",
        "#students who like playing video games\n",
        "num_male_like = nrow(like_data[which(like_data$sex == 1),])\n",
        "num_female_like = nrow(like_data[which(like_data$sex == 0),])\n",
        "m_like_pro = num_male_like/(nrow(like_data) + nrow(dislike_data))\n",
        "f_like_pro = num_female_like/(nrow(like_data) + nrow(dislike_data))\n",
        "cat(\"Proportion of male who like gaming:\", m_like_pro)\n",
        "cat(\"\\nProportion of female who like gaming:\", f_like_pro)\n",
        "\n",
        "num_male_dislike = nrow(dislike_data[which(dislike_data$sex == 1),])\n",
        "num_female_dislike = nrow(dislike_data[which(dislike_data$sex == 0),])\n",
        "m_dislike_pro = num_male_dislike/(nrow(like_data) + nrow(dislike_data))\n",
        "f_dislike_pro = num_female_dislike/(nrow(like_data) + nrow(dislike_data))\n",
        "cat(\"\\nProportion of male who dislike gaming:\", m_dislike_pro)\n",
        "cat(\"\\nProportion of female who dislike gaming:\", f_dislike_pro)"
      ]
    },
    {
      "cell_type": "code",
      "execution_count": null,
      "metadata": {
        "colab": {
          "base_uri": "https://localhost:8080/",
          "height": 437
        },
        "id": "Q0y53L918rZf",
        "outputId": "1b1d11db-9288-45ea-9805-582e27f62611",
        "vscode": {
          "languageId": "r"
        }
      },
      "outputs": [
        {
          "data": {
            "image/png": "[encoded data removed]",
            "text/plain": [
              "Plot with title “Comparison between male and female”"
            ]
          },
          "metadata": {
            "image/png": {
              "height": 420,
              "width": 420
            },
            "tags": []
          },
          "output_type": "display_data"
        }
      ],
      "source": [
        "sex_pro_vector = c(m_like_pro, f_like_pro, m_dislike_pro, f_dislike_pro)\n",
        "label_vector1 = c(\"male_like\", \"female_like\", \"male_dislike\", \"female_dislike\")\n",
        "barplot(sex_pro_vector, main = \"Comparison between male and female\", ylab = \"Proportion\", names.arg = label_vector1, col = c(\"blue\", \"red\"), space=c(0.1,0.1,1.0,0.1))\n",
        "legend(\"top\", c(\"Male\", \"Female\"), cex = 1.0, fill = c(\"blue\", \"red\"))"
      ]
    },
    {
      "cell_type": "markdown",
      "metadata": {
        "id": "_isy2pEHDCQw"
      },
      "source": [
        "Comparison between those who work for pay and those who don't"
      ]
    },
    {
      "cell_type": "code",
      "execution_count": null,
      "metadata": {
        "colab": {
          "base_uri": "https://localhost:8080/"
        },
        "id": "Ejl2NcpD_FPP",
        "outputId": "976d1170-7c73-41dc-fd3f-249470981abf",
        "vscode": {
          "languageId": "r"
        }
      },
      "outputs": [
        {
          "name": "stdout",
          "output_type": "stream",
          "text": [
            "Proportion of those who work and like gaming: 0.4\n",
            "Proportion of those who don't work and like gaming: 0.3333333\n",
            "Proportion of those who work and dislike gaming: 0.07777778\n",
            "Proportion of those who don't work and dislike gaming: 0.1555556"
          ]
        }
      ],
      "source": [
        "num_work_like = nrow(like_data[which(like_data$work > 0 & like_data$work != 99),])\n",
        "num_nowork_like = nrow(like_data[which(like_data$work == 0),])\n",
        "work_like_pro = num_work_like/(nrow(like_data) + nrow(dislike_data))\n",
        "noWork_like_pro = num_nowork_like/(nrow(like_data) + nrow(dislike_data))\n",
        "cat(\"Proportion of those who work and like gaming:\", work_like_pro)\n",
        "cat(\"\\nProportion of those who don't work and like gaming:\", noWork_like_pro)\n",
        "\n",
        "num_work_dislike = nrow(dislike_data[which(dislike_data$work > 0 & dislike_data$work != 99),])\n",
        "num_nowork_dislike = nrow(dislike_data[which(dislike_data$work == 0),])\n",
        "work_dislike_pro = num_work_dislike/(nrow(like_data) + nrow(dislike_data))\n",
        "noWork_dislike_pro = num_nowork_dislike/(nrow(like_data) + nrow(dislike_data))\n",
        "cat(\"\\nProportion of those who work and dislike gaming:\", work_dislike_pro)\n",
        "cat(\"\\nProportion of those who don't work and dislike gaming:\", noWork_dislike_pro)"
      ]
    },
    {
      "cell_type": "code",
      "execution_count": null,
      "metadata": {
        "colab": {
          "base_uri": "https://localhost:8080/",
          "height": 437
        },
        "id": "PQwjN2l6EVCN",
        "outputId": "5a3e981f-f40e-4530-eaf0-12b30743f348",
        "vscode": {
          "languageId": "r"
        }
      },
      "outputs": [
        {
          "data": {
            "image/png": "[encoded data removed]",
            "text/plain": [
              "Plot with title “Comparison between those who work for pay and who don't”"
            ]
          },
          "metadata": {
            "image/png": {
              "height": 420,
              "width": 420
            },
            "tags": []
          },
          "output_type": "display_data"
        }
      ],
      "source": [
        "work_pro_vector = c(work_like_pro, noWork_like_pro, work_dislike_pro, noWork_dislike_pro)\n",
        "label_vector2 = c(\"work_like\", \"noWork_like\", \"work_dislike\", \"noWork_dislike\")\n",
        "barplot(work_pro_vector, main = \"Comparison between those who work for pay and who don't\", ylab = \"Proportion\", names.arg = label_vector2, col = c(\"green\", \"red\"), space=c(0.1,0.1,0.9,0.1))\n",
        "legend(\"top\", c(\"Work\", \"NoWork\"), cex = 1.0, fill = c(\"green\", \"red\"))"
      ]
    },
    {
      "cell_type": "markdown",
      "metadata": {
        "id": "xFws2-ioFQo8"
      },
      "source": [
        "Comparison between those who own a computer and those who don't"
      ]
    },
    {
      "cell_type": "code",
      "execution_count": null,
      "metadata": {
        "colab": {
          "base_uri": "https://localhost:8080/"
        },
        "id": "NUC9XI_0FDth",
        "outputId": "795d1525-2861-4791-cc4a-5b259743ebe1",
        "vscode": {
          "languageId": "r"
        }
      },
      "outputs": [
        {
          "name": "stdout",
          "output_type": "stream",
          "text": [
            "Proportion of those who own a computer and like gaming: 0.5333333\n",
            "Proportion of those who don't own a computer and like gaming: 0.2333333\n",
            "Proportion of those who own a computer and dislike gaming: 0.2\n",
            "Proportion of those who don't own a computer and dislike gaming: 0.03333333"
          ]
        }
      ],
      "source": [
        "num_own_like = nrow(like_data[which(like_data$own == 1),])\n",
        "num_noOwn_like = nrow(like_data[which(like_data$own == 0),])\n",
        "own_like_pro = num_own_like/(nrow(like_data) + nrow(dislike_data))\n",
        "noOwn_like_pro = num_noOwn_like/(nrow(like_data) + nrow(dislike_data))\n",
        "cat(\"Proportion of those who own a computer and like gaming:\", own_like_pro)\n",
        "cat(\"\\nProportion of those who don't own a computer and like gaming:\", noOwn_like_pro)\n",
        "\n",
        "num_own_dislike = nrow(dislike_data[which(dislike_data$own == 1),])\n",
        "num_noOwn_dislike = nrow(dislike_data[which(dislike_data$own == 0),])\n",
        "own_dislike_pro = num_own_dislike/(nrow(like_data) + nrow(dislike_data))\n",
        "noOwn_dislike_pro = num_noOwn_dislike/(nrow(like_data) + nrow(dislike_data))\n",
        "cat(\"\\nProportion of those who own a computer and dislike gaming:\", own_dislike_pro)\n",
        "cat(\"\\nProportion of those who don't own a computer and dislike gaming:\", noOwn_dislike_pro)"
      ]
    },
    {
      "cell_type": "code",
      "execution_count": null,
      "metadata": {
        "colab": {
          "base_uri": "https://localhost:8080/",
          "height": 437
        },
        "id": "3_5Bmkk3TMm8",
        "outputId": "98c2399e-9c85-448e-cd83-c5f228601ba5",
        "vscode": {
          "languageId": "r"
        }
      },
      "outputs": [
        {
          "data": {
            "image/png": "[encoded data removed]",
            "text/plain": [
              "Plot with title “Comparison between those who own a computer and those who don't”"
            ]
          },
          "metadata": {
            "image/png": {
              "height": 420,
              "width": 420
            },
            "tags": []
          },
          "output_type": "display_data"
        }
      ],
      "source": [
        "own_pro_vector = c(own_like_pro, noOwn_like_pro, own_dislike_pro, noOwn_dislike_pro)\n",
        "label_vector2 = c(\"comp_like\", \"noComp_like\", \"comp_dislike\", \"noComp_dislike\")\n",
        "barplot(work_pro_vector, main = \"Comparison between those who own a computer and those who don't\", ylab = \"Proportion\", names.arg = label_vector2, col = c(\"blue\", \"purple\"), space=c(0,0.2,0.7,0.2))\n",
        "legend(\"top\", c(\"Own a computer\", \"No computer\"), cex = 1.0, fill = c(\"blue\", \"purple\"))"
      ]
    },
    {
      "cell_type": "markdown",
      "metadata": {
        "id": "ikVW-fLaVHA4"
      },
      "source": [
        "# Conclusion\n",
        "1. More males like playing video games than females\n",
        "2. More females dislike playing video games than males\n",
        "3. More working students who like to play games than those who do not work (guess it makes sense since majority of the students play game to relax)\n",
        "4. More non-working students dislike playing video games than working students.\n",
        "5. More students who own a computer like playing video games than those who don't\n",
        "6. More students who do not own a computer dislike playing video games than those with a computer\n"
      ]
    },
    {
      "cell_type": "markdown",
      "metadata": {
        "id": "062Km01AWAJG"
      },
      "source": [
        "# Chi-square test to determine the relationship between expected grade and actual grade of students"
      ]
    },
    {
      "cell_type": "code",
      "execution_count": null,
      "metadata": {
        "id": "hWMT_M3R32lU",
        "vscode": {
          "languageId": "r"
        }
      },
      "outputs": [],
      "source": [
        "#get the actual proportion of grade expected\n",
        "#this is out of 91 respondents\n",
        "A_proportion = nrow(data[which(data$grade == 4),])\n",
        "B_proportion = nrow(data[which(data$grade == 3),])\n",
        "C_proportion = nrow(data[which(data$grade == 2),])\n",
        "D_F_proportion = nrow(data[which(data$grade == 1 | data$grade == 0),])\n",
        "actual = c(A_proportion, B_proportion, C_proportion, D_F_proportion)"
      ]
    },
    {
      "cell_type": "code",
      "execution_count": null,
      "metadata": {
        "id": "IHnbyrg-4BOB",
        "vscode": {
          "languageId": "r"
        }
      },
      "outputs": [],
      "source": [
        "type = c(rep(c(\"expected\", \"actual\"), times = 4))\n",
        "grade = c(rep(c(\"A\", \"B\", \"C\", \"D or lower\"), each = 2))\n",
        "proportion = c(0.2*91, A_proportion, 0.3*91, B_proportion, 0.4*91, C_proportion, 0.1*91, D_F_proportion)"
      ]
    },
    {
      "cell_type": "code",
      "execution_count": null,
      "metadata": {
        "id": "KFLwvcndOzU2",
        "vscode": {
          "languageId": "r"
        }
      },
      "outputs": [],
      "source": [
        "library(ggplot2)"
      ]
    },
    {
      "cell_type": "code",
      "execution_count": null,
      "metadata": {
        "colab": {
          "base_uri": "https://localhost:8080/",
          "height": 437
        },
        "id": "ffgZKeT2TtsU",
        "outputId": "00f807da-a9e9-45b0-827f-00ef66ed7785",
        "vscode": {
          "languageId": "r"
        }
      },
      "outputs": [
        {
          "data": {
            "image/png": "[encoded data removed]",
            "text/plain": [
              "plot without title"
            ]
          },
          "metadata": {
            "image/png": {
              "height": 420,
              "width": 420
            },
            "tags": []
          },
          "output_type": "display_data"
        }
      ],
      "source": [
        "grade_prop = data.frame(type, grade, proportion)\n",
        "ggplot(grade_prop, aes(factor(grade), proportion, fill = type)) + \n",
        "  geom_bar(stat=\"identity\", position = \"dodge\") + \n",
        "  scale_fill_brewer(palette = \"Set1\")\n"
      ]
    },
    {
      "cell_type": "markdown",
      "metadata": {
        "id": "200D4iktY-cU"
      },
      "source": [
        "Let's try running a Chi-square test:\n",
        "\n",
        "Null hypothesis: The distribution of the actual grades does not follow the distribution of the expected grades\n",
        "\n",
        "Alternative hypothesis: The distribution of the actual grades does follow the distribution of the expected grades"
      ]
    },
    {
      "cell_type": "code",
      "execution_count": null,
      "metadata": {
        "colab": {
          "base_uri": "https://localhost:8080/",
          "height": 102
        },
        "id": "PKZuvI_PXPnE",
        "outputId": "661ea043-c714-41a5-a6bf-1df3ac839552",
        "vscode": {
          "languageId": "r"
        }
      },
      "outputs": [
        {
          "data": {
            "text/plain": [
              "           expected actual\n",
              "A              18.2   31.0\n",
              "B              27.3   52.0\n",
              "C              36.4    8.0\n",
              "D or lower      9.1    0.0"
            ]
          },
          "metadata": {
            "tags": []
          },
          "output_type": "display_data"
        }
      ],
      "source": [
        "grade_table <- matrix(proportion,ncol=2,byrow=TRUE)\n",
        "colnames(grade_table) <- c(\"expected\", \"actual\")\n",
        "rownames(grade_table) <- c(\"A\", \"B\", \"C\", \"D or lower\")\n",
        "grade_table <- as.table(grade_table)\n",
        "grade_table"
      ]
    },
    {
      "cell_type": "code",
      "execution_count": null,
      "metadata": {
        "colab": {
          "base_uri": "https://localhost:8080/",
          "height": 136
        },
        "id": "3FuwtfOBWnje",
        "outputId": "6228575e-a9d8-44fa-d6f7-ed7607a5c5c7",
        "vscode": {
          "languageId": "r"
        }
      },
      "outputs": [
        {
          "name": "stderr",
          "output_type": "stream",
          "text": [
            "Warning message in chisq.test(grade_table, correct = FALSE):\n",
            "“Chi-squared approximation may be incorrect”\n"
          ]
        },
        {
          "data": {
            "text/plain": [
              "\n",
              "\tPearson's Chi-squared test\n",
              "\n",
              "data:  grade_table\n",
              "X-squared = 38.289, df = 3, p-value = 2.455e-08\n"
            ]
          },
          "metadata": {
            "tags": []
          },
          "output_type": "display_data"
        }
      ],
      "source": [
        "chisq.test(grade_table, correct = FALSE)"
      ]
    },
    {
      "cell_type": "markdown",
      "metadata": {
        "id": "pbl04AliZPXM"
      },
      "source": [
        "We have a high chi-square value (38.289) and a very low p-value which is below the significance level of 0.05\n",
        "\n",
        "With that, we reject the null hypothesis as there is insufficient evidence to prove that the distribution of actual grades does not follow the distribution of expected grades"
      ]
    },
    {
      "cell_type": "code",
      "execution_count": null,
      "metadata": {
        "colab": {
          "base_uri": "https://localhost:8080/",
          "height": 34
        },
        "id": "v_K8IvSgNCDz",
        "outputId": "ea6fab8e-3696-4ec4-e81b-61e92d7823a1",
        "vscode": {
          "languageId": "r"
        }
      },
      "outputs": [
        {
          "data": {
            "text/html": [
              "4"
            ],
            "text/latex": [
              "4"
            ],
            "text/markdown": [
              "4"
            ],
            "text/plain": [
              "[1] 4"
            ]
          },
          "metadata": {
            "tags": []
          },
          "output_type": "display_data"
        }
      ],
      "source": [
        "expected_total_respondent = 95\n",
        "num_of_non_respondent = expected_total_respondent - nrow(data)\n",
        "num_of_non_respondent"
      ]
    },
    {
      "cell_type": "code",
      "execution_count": null,
      "metadata": {
        "colab": {
          "base_uri": "https://localhost:8080/",
          "height": 34
        },
        "id": "-gVwKFQuTFc4",
        "outputId": "e45e3ee3-7336-48d7-a408-cb1548e6b1a8",
        "vscode": {
          "languageId": "r"
        }
      },
      "outputs": [
        {
          "data": {
            "text/html": [
              "<style>\n",
              ".list-inline {list-style: none; margin:0; padding: 0}\n",
              ".list-inline>li {display: inline-block}\n",
              ".list-inline>li:not(:last-child)::after {content: \"\\00b7\"; padding: 0 .5ex}\n",
              "</style>\n",
              "<ol class=list-inline><li>31</li><li>52</li><li>8</li><li>4</li></ol>\n"
            ],
            "text/latex": [
              "\\begin{enumerate*}\n",
              "\\item 31\n",
              "\\item 52\n",
              "\\item 8\n",
              "\\item 4\n",
              "\\end{enumerate*}\n"
            ],
            "text/markdown": [
              "1. 31\n",
              "2. 52\n",
              "3. 8\n",
              "4. 4\n",
              "\n",
              "\n"
            ],
            "text/plain": [
              "[1] 31 52  8  4"
            ]
          },
          "metadata": {
            "tags": []
          },
          "output_type": "display_data"
        }
      ],
      "source": [
        "#found that there are 4 students who did not respond to the survey at all\n",
        "#add 4 students to the grade D or lower\n",
        "#this is out of 95 respondents\n",
        "A_adjusted = nrow(data[which(data$grade == 4),])\n",
        "B_adjusted = nrow(data[which(data$grade == 3),])\n",
        "C_adjusted = nrow(data[which(data$grade == 2),])\n",
        "D_F_adjusted = (nrow(data[which(data$grade == 1 | data$grade == 0),]) + num_of_non_respondent)\n",
        "adjusted1 = c(A_adjusted, B_adjusted, C_adjusted, D_F_adjusted)\n",
        "adjusted1"
      ]
    },
    {
      "cell_type": "code",
      "execution_count": null,
      "metadata": {
        "id": "ezdlgsC6TnKS",
        "vscode": {
          "languageId": "r"
        }
      },
      "outputs": [],
      "source": [
        "adjusted = c(0.2*expected_total_respondent, A_adjusted, 0.3*expected_total_respondent, B_adjusted, \n",
        "0.4*expected_total_respondent, C_adjusted, 0.1*expected_total_respondent, D_F_adjusted)"
      ]
    },
    {
      "cell_type": "code",
      "execution_count": null,
      "metadata": {
        "colab": {
          "base_uri": "https://localhost:8080/",
          "height": 437
        },
        "id": "fGrw4fiETx8Y",
        "outputId": "c135b233-6cbe-455c-8e21-e30aa257b8c4",
        "vscode": {
          "languageId": "r"
        }
      },
      "outputs": [
        {
          "data": {
            "image/png": "[encoded data removed]",
            "text/plain": [
              "plot without title"
            ]
          },
          "metadata": {
            "image/png": {
              "height": 420,
              "width": 420
            },
            "tags": []
          },
          "output_type": "display_data"
        }
      ],
      "source": [
        "grade_adjusted = data.frame(type, grade, adjusted)\n",
        "ggplot(grade_adjusted, aes(factor(grade), adjusted, fill = type)) + \n",
        "  geom_bar(stat=\"identity\", position = \"dodge\") + \n",
        "  scale_fill_brewer(palette = \"Set1\")"
      ]
    },
    {
      "cell_type": "markdown",
      "metadata": {
        "id": "DZe2wO86dfoc"
      },
      "source": [
        "Running another Chi-square test on the adjusted table:\n",
        "\n",
        "Null hypothesis: The distribution of the adjusted actual grades does not follow the distribution of the expected grades\n",
        "\n",
        "Alternative hypothesis: The distribution of the adjusted actual grades does follow the distribution of the expected grades"
      ]
    },
    {
      "cell_type": "code",
      "execution_count": null,
      "metadata": {
        "colab": {
          "base_uri": "https://localhost:8080/",
          "height": 102
        },
        "id": "fZ5RDSBvYNZX",
        "outputId": "53084320-0876-4aff-8c36-189d7813a612",
        "vscode": {
          "languageId": "r"
        }
      },
      "outputs": [
        {
          "data": {
            "text/plain": [
              "           expected actual_adjusted\n",
              "A              19.0            31.0\n",
              "B              28.5            52.0\n",
              "C              38.0             8.0\n",
              "D or lower      9.5             4.0"
            ]
          },
          "metadata": {
            "tags": []
          },
          "output_type": "display_data"
        }
      ],
      "source": [
        "grade_table_adjusted <- matrix(adjusted,ncol=2,byrow=TRUE)\n",
        "colnames(grade_table_adjusted) <- c(\"expected\", \"actual_adjusted\")\n",
        "rownames(grade_table_adjusted) <- c(\"A\", \"B\", \"C\", \"D or lower\")\n",
        "grade_table_adjusted <- as.table(grade_table_adjusted)\n",
        "grade_table_adjusted"
      ]
    },
    {
      "cell_type": "code",
      "execution_count": null,
      "metadata": {
        "colab": {
          "base_uri": "https://localhost:8080/",
          "height": 102
        },
        "id": "bTAmuDXZcsSp",
        "outputId": "fb8c91ac-7260-4c75-f625-2dd5da9099a9",
        "vscode": {
          "languageId": "r"
        }
      },
      "outputs": [
        {
          "data": {
            "text/plain": [
              "\n",
              "\tPearson's Chi-squared test\n",
              "\n",
              "data:  grade_table_adjusted\n",
              "X-squared = 31.546, df = 3, p-value = 6.522e-07\n"
            ]
          },
          "metadata": {
            "tags": []
          },
          "output_type": "display_data"
        }
      ],
      "source": [
        "chisq.test(grade_table_adjusted, correct = FALSE)"
      ]
    },
    {
      "cell_type": "markdown",
      "metadata": {
        "id": "AkasnU8xdVFt"
      },
      "source": [
        "We have a high chi-square value (31.546) and a very low p-value which is below the significance level of 0.05\n",
        "\n",
        "With that, we reject the null hypothesis as there is insufficient evidence to prove that the distribution of actual grades does not follow the distribution of expected grades"
      ]
    },
    {
      "cell_type": "markdown",
      "metadata": {
        "id": "KJzn2gdImUuv"
      },
      "source": [
        "# END OF CODE"
      ]
    }
  ],
  "metadata": {
    "colab": {
      "collapsed_sections": [],
      "provenance": []
    },
    "kernelspec": {
      "display_name": "R",
      "name": "ir"
    },
    "language_info": {
      "name": "R"
    }
  },
  "nbformat": 4,
  "nbformat_minor": 0
}
