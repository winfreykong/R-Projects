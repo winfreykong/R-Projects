{
  "cells": [
    {
      "cell_type": "code",
      "execution_count": null,
      "metadata": {
        "colab": {
          "base_uri": "https://localhost:8080/",
          "height": 281
        },
        "id": "hE4qqBJaIbsS",
        "outputId": "81b149ea-61a6-4570-cfa4-17edc87ed271",
        "vscode": {
          "languageId": "r"
        }
      },
      "outputs": [
        {
          "data": {
            "text/html": [
              "<table class=\"dataframe\">\n",
              "<caption>A data.frame: 6 × 7</caption>\n",
              "<thead>\n",
              "\t<tr><th></th><th scope=col>bwt</th><th scope=col>gestation</th><th scope=col>parity</th><th scope=col>age</th><th scope=col>height</th><th scope=col>weight</th><th scope=col>smoke</th></tr>\n",
              "\t<tr><th></th><th scope=col>&lt;int&gt;</th><th scope=col>&lt;int&gt;</th><th scope=col>&lt;int&gt;</th><th scope=col>&lt;int&gt;</th><th scope=col>&lt;int&gt;</th><th scope=col>&lt;int&gt;</th><th scope=col>&lt;int&gt;</th></tr>\n",
              "</thead>\n",
              "<tbody>\n",
              "\t<tr><th scope=row>1</th><td>120</td><td>284</td><td>0</td><td>27</td><td>62</td><td>100</td><td>0</td></tr>\n",
              "\t<tr><th scope=row>2</th><td>113</td><td>282</td><td>0</td><td>33</td><td>64</td><td>135</td><td>0</td></tr>\n",
              "\t<tr><th scope=row>3</th><td>128</td><td>279</td><td>0</td><td>28</td><td>64</td><td>115</td><td>1</td></tr>\n",
              "\t<tr><th scope=row>4</th><td>123</td><td>999</td><td>0</td><td>36</td><td>69</td><td>190</td><td>0</td></tr>\n",
              "\t<tr><th scope=row>5</th><td>108</td><td>282</td><td>0</td><td>23</td><td>67</td><td>125</td><td>1</td></tr>\n",
              "\t<tr><th scope=row>6</th><td>136</td><td>286</td><td>0</td><td>25</td><td>62</td><td> 93</td><td>0</td></tr>\n",
              "</tbody>\n",
              "</table>\n"
            ],
            "text/latex": [
              "A data.frame: 6 × 7\n",
              "\\begin{tabular}{r|lllllll}\n",
              "  & bwt & gestation & parity & age & height & weight & smoke\\\\\n",
              "  & <int> & <int> & <int> & <int> & <int> & <int> & <int>\\\\\n",
              "\\hline\n",
              "\t1 & 120 & 284 & 0 & 27 & 62 & 100 & 0\\\\\n",
              "\t2 & 113 & 282 & 0 & 33 & 64 & 135 & 0\\\\\n",
              "\t3 & 128 & 279 & 0 & 28 & 64 & 115 & 1\\\\\n",
              "\t4 & 123 & 999 & 0 & 36 & 69 & 190 & 0\\\\\n",
              "\t5 & 108 & 282 & 0 & 23 & 67 & 125 & 1\\\\\n",
              "\t6 & 136 & 286 & 0 & 25 & 62 &  93 & 0\\\\\n",
              "\\end{tabular}\n"
            ],
            "text/markdown": [
              "\n",
              "A data.frame: 6 × 7\n",
              "\n",
              "| <!--/--> | bwt &lt;int&gt; | gestation &lt;int&gt; | parity &lt;int&gt; | age &lt;int&gt; | height &lt;int&gt; | weight &lt;int&gt; | smoke &lt;int&gt; |\n",
              "|---|---|---|---|---|---|---|---|\n",
              "| 1 | 120 | 284 | 0 | 27 | 62 | 100 | 0 |\n",
              "| 2 | 113 | 282 | 0 | 33 | 64 | 135 | 0 |\n",
              "| 3 | 128 | 279 | 0 | 28 | 64 | 115 | 1 |\n",
              "| 4 | 123 | 999 | 0 | 36 | 69 | 190 | 0 |\n",
              "| 5 | 108 | 282 | 0 | 23 | 67 | 125 | 1 |\n",
              "| 6 | 136 | 286 | 0 | 25 | 62 |  93 | 0 |\n",
              "\n"
            ],
            "text/plain": [
              "  bwt gestation parity age height weight smoke\n",
              "1 120 284       0      27  62     100    0    \n",
              "2 113 282       0      33  64     135    0    \n",
              "3 128 279       0      28  64     115    1    \n",
              "4 123 999       0      36  69     190    0    \n",
              "5 108 282       0      23  67     125    1    \n",
              "6 136 286       0      25  62      93    0    "
            ]
          },
          "metadata": {
            "tags": []
          },
          "output_type": "display_data"
        }
      ],
      "source": [
        "data = read.table(\"babies.txt\", header = TRUE)\n",
        "# take a peek at the data\n",
        "head(data)"
      ]
    },
    {
      "cell_type": "markdown",
      "metadata": {
        "id": "b5ljfkKzUswt"
      },
      "source": [
        "## Exploratory data analysis"
      ]
    },
    {
      "cell_type": "code",
      "execution_count": null,
      "metadata": {
        "colab": {
          "base_uri": "https://localhost:8080/",
          "height": 260
        },
        "id": "Ya1Wl4M-TSdx",
        "outputId": "2f255550-8c41-4985-f372-eba5e45082d6",
        "vscode": {
          "languageId": "r"
        }
      },
      "outputs": [
        {
          "data": {
            "text/plain": [
              "      bwt          gestation         parity            age       \n",
              " Min.   : 55.0   Min.   :148.0   Min.   :0.0000   Min.   :15.00  \n",
              " 1st Qu.:108.8   1st Qu.:272.0   1st Qu.:0.0000   1st Qu.:23.00  \n",
              " Median :120.0   Median :280.0   Median :0.0000   Median :26.00  \n",
              " Mean   :119.6   Mean   :286.9   Mean   :0.2549   Mean   :27.37  \n",
              " 3rd Qu.:131.0   3rd Qu.:288.0   3rd Qu.:1.0000   3rd Qu.:31.00  \n",
              " Max.   :176.0   Max.   :999.0   Max.   :1.0000   Max.   :99.00  \n",
              "     height          weight        smoke       \n",
              " Min.   :53.00   Min.   : 87   Min.   :0.0000  \n",
              " 1st Qu.:62.00   1st Qu.:115   1st Qu.:0.0000  \n",
              " Median :64.00   Median :126   Median :0.0000  \n",
              " Mean   :64.67   Mean   :154   Mean   :0.4644  \n",
              " 3rd Qu.:66.00   3rd Qu.:140   3rd Qu.:1.0000  \n",
              " Max.   :99.00   Max.   :999   Max.   :9.0000  "
            ]
          },
          "metadata": {
            "tags": []
          },
          "output_type": "display_data"
        }
      ],
      "source": [
        "# find summary statistics of the data. Note the extraneous values (eg. 999).\n",
        "summary(data)"
      ]
    },
    {
      "cell_type": "code",
      "execution_count": null,
      "metadata": {
        "colab": {
          "base_uri": "https://localhost:8080/",
          "height": 35
        },
        "id": "HhRFXUFiTTLC",
        "outputId": "0abae4d9-0e92-47c6-c7e5-fb8061ef96c5",
        "vscode": {
          "languageId": "r"
        }
      },
      "outputs": [
        {
          "data": {
            "text/html": [
              "119.576860841424"
            ],
            "text/latex": [
              "119.576860841424"
            ],
            "text/markdown": [
              "119.576860841424"
            ],
            "text/plain": [
              "[1] 119.5769"
            ]
          },
          "metadata": {
            "tags": []
          },
          "output_type": "display_data"
        }
      ],
      "source": [
        "# find the mean of the birth weight (bwt) column\n",
        "mean(data$bwt)"
      ]
    },
    {
      "cell_type": "code",
      "execution_count": null,
      "metadata": {
        "colab": {
          "base_uri": "https://localhost:8080/",
          "height": 35
        },
        "id": "uMRKPu9qUizR",
        "outputId": "706f3181-c4c1-438a-d11d-9b3c67667b7b",
        "vscode": {
          "languageId": "r"
        }
      },
      "outputs": [
        {
          "data": {
            "text/html": [
              "18.2364518669726"
            ],
            "text/latex": [
              "18.2364518669726"
            ],
            "text/markdown": [
              "18.2364518669726"
            ],
            "text/plain": [
              "[1] 18.23645"
            ]
          },
          "metadata": {
            "tags": []
          },
          "output_type": "display_data"
        }
      ],
      "source": [
        "# find the standard deviation of the bwt\n",
        "sd(data$bwt)"
      ]
    },
    {
      "cell_type": "code",
      "execution_count": null,
      "metadata": {
        "colab": {
          "base_uri": "https://localhost:8080/",
          "height": 1000
        },
        "id": "UJaZ9NoQUoMc",
        "outputId": "f2070aee-7a3f-4203-f641-5df947d60899",
        "vscode": {
          "languageId": "r"
        }
      },
      "outputs": [
        {
          "data": {
            "text/html": [
              "<table class=\"dataframe\">\n",
              "<caption>A data.frame: 1236 × 1</caption>\n",
              "<thead>\n",
              "\t<tr><th scope=col>smoke</th></tr>\n",
              "\t<tr><th scope=col>&lt;int&gt;</th></tr>\n",
              "</thead>\n",
              "<tbody>\n",
              "\t<tr><td>0</td></tr>\n",
              "\t<tr><td>0</td></tr>\n",
              "\t<tr><td>1</td></tr>\n",
              "\t<tr><td>0</td></tr>\n",
              "\t<tr><td>1</td></tr>\n",
              "\t<tr><td>0</td></tr>\n",
              "\t<tr><td>0</td></tr>\n",
              "\t<tr><td>0</td></tr>\n",
              "\t<tr><td>0</td></tr>\n",
              "\t<tr><td>1</td></tr>\n",
              "\t<tr><td>0</td></tr>\n",
              "\t<tr><td>1</td></tr>\n",
              "\t<tr><td>1</td></tr>\n",
              "\t<tr><td>1</td></tr>\n",
              "\t<tr><td>0</td></tr>\n",
              "\t<tr><td>0</td></tr>\n",
              "\t<tr><td>1</td></tr>\n",
              "\t<tr><td>1</td></tr>\n",
              "\t<tr><td>0</td></tr>\n",
              "\t<tr><td>1</td></tr>\n",
              "\t<tr><td>0</td></tr>\n",
              "\t<tr><td>1</td></tr>\n",
              "\t<tr><td>0</td></tr>\n",
              "\t<tr><td>0</td></tr>\n",
              "\t<tr><td>0</td></tr>\n",
              "\t<tr><td>1</td></tr>\n",
              "\t<tr><td>0</td></tr>\n",
              "\t<tr><td>1</td></tr>\n",
              "\t<tr><td>0</td></tr>\n",
              "\t<tr><td>1</td></tr>\n",
              "\t<tr><td>⋮</td></tr>\n",
              "\t<tr><td>1</td></tr>\n",
              "\t<tr><td>1</td></tr>\n",
              "\t<tr><td>1</td></tr>\n",
              "\t<tr><td>0</td></tr>\n",
              "\t<tr><td>1</td></tr>\n",
              "\t<tr><td>1</td></tr>\n",
              "\t<tr><td>0</td></tr>\n",
              "\t<tr><td>0</td></tr>\n",
              "\t<tr><td>0</td></tr>\n",
              "\t<tr><td>1</td></tr>\n",
              "\t<tr><td>0</td></tr>\n",
              "\t<tr><td>0</td></tr>\n",
              "\t<tr><td>1</td></tr>\n",
              "\t<tr><td>0</td></tr>\n",
              "\t<tr><td>0</td></tr>\n",
              "\t<tr><td>1</td></tr>\n",
              "\t<tr><td>1</td></tr>\n",
              "\t<tr><td>1</td></tr>\n",
              "\t<tr><td>1</td></tr>\n",
              "\t<tr><td>1</td></tr>\n",
              "\t<tr><td>1</td></tr>\n",
              "\t<tr><td>1</td></tr>\n",
              "\t<tr><td>0</td></tr>\n",
              "\t<tr><td>0</td></tr>\n",
              "\t<tr><td>0</td></tr>\n",
              "\t<tr><td>0</td></tr>\n",
              "\t<tr><td>0</td></tr>\n",
              "\t<tr><td>1</td></tr>\n",
              "\t<tr><td>0</td></tr>\n",
              "\t<tr><td>0</td></tr>\n",
              "</tbody>\n",
              "</table>\n"
            ],
            "text/latex": [
              "A data.frame: 1236 × 1\n",
              "\\begin{tabular}{l}\n",
              " smoke\\\\\n",
              " <int>\\\\\n",
              "\\hline\n",
              "\t 0\\\\\n",
              "\t 0\\\\\n",
              "\t 1\\\\\n",
              "\t 0\\\\\n",
              "\t 1\\\\\n",
              "\t 0\\\\\n",
              "\t 0\\\\\n",
              "\t 0\\\\\n",
              "\t 0\\\\\n",
              "\t 1\\\\\n",
              "\t 0\\\\\n",
              "\t 1\\\\\n",
              "\t 1\\\\\n",
              "\t 1\\\\\n",
              "\t 0\\\\\n",
              "\t 0\\\\\n",
              "\t 1\\\\\n",
              "\t 1\\\\\n",
              "\t 0\\\\\n",
              "\t 1\\\\\n",
              "\t 0\\\\\n",
              "\t 1\\\\\n",
              "\t 0\\\\\n",
              "\t 0\\\\\n",
              "\t 0\\\\\n",
              "\t 1\\\\\n",
              "\t 0\\\\\n",
              "\t 1\\\\\n",
              "\t 0\\\\\n",
              "\t 1\\\\\n",
              "\t ⋮\\\\\n",
              "\t 1\\\\\n",
              "\t 1\\\\\n",
              "\t 1\\\\\n",
              "\t 0\\\\\n",
              "\t 1\\\\\n",
              "\t 1\\\\\n",
              "\t 0\\\\\n",
              "\t 0\\\\\n",
              "\t 0\\\\\n",
              "\t 1\\\\\n",
              "\t 0\\\\\n",
              "\t 0\\\\\n",
              "\t 1\\\\\n",
              "\t 0\\\\\n",
              "\t 0\\\\\n",
              "\t 1\\\\\n",
              "\t 1\\\\\n",
              "\t 1\\\\\n",
              "\t 1\\\\\n",
              "\t 1\\\\\n",
              "\t 1\\\\\n",
              "\t 1\\\\\n",
              "\t 0\\\\\n",
              "\t 0\\\\\n",
              "\t 0\\\\\n",
              "\t 0\\\\\n",
              "\t 0\\\\\n",
              "\t 1\\\\\n",
              "\t 0\\\\\n",
              "\t 0\\\\\n",
              "\\end{tabular}\n"
            ],
            "text/markdown": [
              "\n",
              "A data.frame: 1236 × 1\n",
              "\n",
              "| smoke &lt;int&gt; |\n",
              "|---|\n",
              "| 0 |\n",
              "| 0 |\n",
              "| 1 |\n",
              "| 0 |\n",
              "| 1 |\n",
              "| 0 |\n",
              "| 0 |\n",
              "| 0 |\n",
              "| 0 |\n",
              "| 1 |\n",
              "| 0 |\n",
              "| 1 |\n",
              "| 1 |\n",
              "| 1 |\n",
              "| 0 |\n",
              "| 0 |\n",
              "| 1 |\n",
              "| 1 |\n",
              "| 0 |\n",
              "| 1 |\n",
              "| 0 |\n",
              "| 1 |\n",
              "| 0 |\n",
              "| 0 |\n",
              "| 0 |\n",
              "| 1 |\n",
              "| 0 |\n",
              "| 1 |\n",
              "| 0 |\n",
              "| 1 |\n",
              "| ⋮ |\n",
              "| 1 |\n",
              "| 1 |\n",
              "| 1 |\n",
              "| 0 |\n",
              "| 1 |\n",
              "| 1 |\n",
              "| 0 |\n",
              "| 0 |\n",
              "| 0 |\n",
              "| 1 |\n",
              "| 0 |\n",
              "| 0 |\n",
              "| 1 |\n",
              "| 0 |\n",
              "| 0 |\n",
              "| 1 |\n",
              "| 1 |\n",
              "| 1 |\n",
              "| 1 |\n",
              "| 1 |\n",
              "| 1 |\n",
              "| 1 |\n",
              "| 0 |\n",
              "| 0 |\n",
              "| 0 |\n",
              "| 0 |\n",
              "| 0 |\n",
              "| 1 |\n",
              "| 0 |\n",
              "| 0 |\n",
              "\n"
            ],
            "text/plain": [
              "     smoke\n",
              "1    0    \n",
              "2    0    \n",
              "3    1    \n",
              "4    0    \n",
              "5    1    \n",
              "6    0    \n",
              "7    0    \n",
              "8    0    \n",
              "9    0    \n",
              "10   1    \n",
              "11   0    \n",
              "12   1    \n",
              "13   1    \n",
              "14   1    \n",
              "15   0    \n",
              "16   0    \n",
              "17   1    \n",
              "18   1    \n",
              "19   0    \n",
              "20   1    \n",
              "21   0    \n",
              "22   1    \n",
              "23   0    \n",
              "24   0    \n",
              "25   0    \n",
              "26   1    \n",
              "27   0    \n",
              "28   1    \n",
              "29   0    \n",
              "30   1    \n",
              "⋮    ⋮    \n",
              "1207 1    \n",
              "1208 1    \n",
              "1209 1    \n",
              "1210 0    \n",
              "1211 1    \n",
              "1212 1    \n",
              "1213 0    \n",
              "1214 0    \n",
              "1215 0    \n",
              "1216 1    \n",
              "1217 0    \n",
              "1218 0    \n",
              "1219 1    \n",
              "1220 0    \n",
              "1221 0    \n",
              "1222 1    \n",
              "1223 1    \n",
              "1224 1    \n",
              "1225 1    \n",
              "1226 1    \n",
              "1227 1    \n",
              "1228 1    \n",
              "1229 0    \n",
              "1230 0    \n",
              "1231 0    \n",
              "1232 0    \n",
              "1233 0    \n",
              "1234 1    \n",
              "1235 0    \n",
              "1236 0    "
            ]
          },
          "metadata": {
            "tags": []
          },
          "output_type": "display_data"
        }
      ],
      "source": [
        "# Accessing specifics in the dataframe: df[rows, columns]. You can use numbers (returns raw data) or a column name.\n",
        "# select the smoke column\n",
        "data['smoke']"
      ]
    },
    {
      "cell_type": "code",
      "execution_count": null,
      "metadata": {
        "id": "81gqN2rEWD9f",
        "vscode": {
          "languageId": "r"
        }
      },
      "outputs": [],
      "source": [
        "# The above command is equivalent to data[,7] or data$smoke. However, the way above is more human-readable."
      ]
    },
    {
      "cell_type": "code",
      "execution_count": null,
      "metadata": {
        "colab": {
          "base_uri": "https://localhost:8080/",
          "height": 127
        },
        "id": "0su2h9PxWs0Y",
        "outputId": "3d6e925a-9f2c-408d-ffc1-4472ac2183c3",
        "vscode": {
          "languageId": "r"
        }
      },
      "outputs": [
        {
          "data": {
            "text/html": [
              "<table class=\"dataframe\">\n",
              "<caption>A data.frame: 1 × 7</caption>\n",
              "<thead>\n",
              "\t<tr><th></th><th scope=col>bwt</th><th scope=col>gestation</th><th scope=col>parity</th><th scope=col>age</th><th scope=col>height</th><th scope=col>weight</th><th scope=col>smoke</th></tr>\n",
              "\t<tr><th></th><th scope=col>&lt;int&gt;</th><th scope=col>&lt;int&gt;</th><th scope=col>&lt;int&gt;</th><th scope=col>&lt;int&gt;</th><th scope=col>&lt;int&gt;</th><th scope=col>&lt;int&gt;</th><th scope=col>&lt;int&gt;</th></tr>\n",
              "</thead>\n",
              "<tbody>\n",
              "\t<tr><th scope=row>100</th><td>105</td><td>254</td><td>0</td><td>29</td><td>64</td><td>137</td><td>0</td></tr>\n",
              "</tbody>\n",
              "</table>\n"
            ],
            "text/latex": [
              "A data.frame: 1 × 7\n",
              "\\begin{tabular}{r|lllllll}\n",
              "  & bwt & gestation & parity & age & height & weight & smoke\\\\\n",
              "  & <int> & <int> & <int> & <int> & <int> & <int> & <int>\\\\\n",
              "\\hline\n",
              "\t100 & 105 & 254 & 0 & 29 & 64 & 137 & 0\\\\\n",
              "\\end{tabular}\n"
            ],
            "text/markdown": [
              "\n",
              "A data.frame: 1 × 7\n",
              "\n",
              "| <!--/--> | bwt &lt;int&gt; | gestation &lt;int&gt; | parity &lt;int&gt; | age &lt;int&gt; | height &lt;int&gt; | weight &lt;int&gt; | smoke &lt;int&gt; |\n",
              "|---|---|---|---|---|---|---|---|\n",
              "| 100 | 105 | 254 | 0 | 29 | 64 | 137 | 0 |\n",
              "\n"
            ],
            "text/plain": [
              "    bwt gestation parity age height weight smoke\n",
              "100 105 254       0      29  64     137    0    "
            ]
          },
          "metadata": {
            "tags": []
          },
          "output_type": "display_data"
        }
      ],
      "source": [
        "# What if I want to see by rows (observations) instead? Simply use the row number.\n",
        "data[100,]"
      ]
    },
    {
      "cell_type": "code",
      "execution_count": null,
      "metadata": {
        "colab": {
          "base_uri": "https://localhost:8080/",
          "height": 329
        },
        "id": "L87NRByJW2t-",
        "outputId": "a61ccd16-ada3-4b2c-a3df-a24671315adb",
        "vscode": {
          "languageId": "r"
        }
      },
      "outputs": [
        {
          "data": {
            "text/html": [
              "<style>\n",
              ".list-inline {list-style: none; margin:0; padding: 0}\n",
              ".list-inline>li {display: inline-block}\n",
              ".list-inline>li:not(:last-child)::after {content: \"\\00b7\"; padding: 0 .5ex}\n",
              "</style>\n",
              "<ol class=list-inline><li>3</li><li>5</li><li>10</li><li>12</li><li>13</li><li>14</li><li>17</li><li>18</li><li>20</li><li>22</li><li>26</li><li>28</li><li>30</li><li>38</li><li>39</li><li>43</li><li>45</li><li>46</li><li>50</li><li>52</li><li>57</li><li>63</li><li>64</li><li>65</li><li>66</li><li>68</li><li>69</li><li>73</li><li>75</li><li>77</li><li>80</li><li>84</li><li>86</li><li>89</li><li>90</li><li>95</li><li>97</li><li>101</li><li>104</li><li>105</li><li>111</li><li>113</li><li>115</li><li>117</li><li>120</li><li>126</li><li>128</li><li>132</li><li>133</li><li>135</li><li>139</li><li>141</li><li>145</li><li>148</li><li>149</li><li>155</li><li>157</li><li>158</li><li>166</li><li>168</li><li>169</li><li>172</li><li>176</li><li>178</li><li>182</li><li>186</li><li>190</li><li>191</li><li>193</li><li>194</li><li>195</li><li>198</li><li>203</li><li>207</li><li>208</li><li>210</li><li>211</li><li>213</li><li>220</li><li>222</li><li>224</li><li>228</li><li>229</li><li>230</li><li>231</li><li>233</li><li>236</li><li>241</li><li>242</li><li>243</li><li>244</li><li>245</li><li>251</li><li>254</li><li>260</li><li>262</li><li>263</li><li>266</li><li>269</li><li>274</li><li>275</li><li>277</li><li>280</li><li>281</li><li>283</li><li>284</li><li>285</li><li>287</li><li>292</li><li>293</li><li>294</li><li>296</li><li>298</li><li>299</li><li>302</li><li>307</li><li>309</li><li>310</li><li>311</li><li>312</li><li>314</li><li>315</li><li>316</li><li>317</li><li>318</li><li>327</li><li>328</li><li>330</li><li>333</li><li>336</li><li>337</li><li>340</li><li>341</li><li>342</li><li>343</li><li>347</li><li>348</li><li>349</li><li>351</li><li>353</li><li>355</li><li>359</li><li>360</li><li>362</li><li>364</li><li>369</li><li>374</li><li>375</li><li>376</li><li>379</li><li>382</li><li>387</li><li>388</li><li>389</li><li>392</li><li>395</li><li>396</li><li>398</li><li>407</li><li>416</li><li>418</li><li>419</li><li>421</li><li>424</li><li>428</li><li>429</li><li>432</li><li>434</li><li>435</li><li>438</li><li>443</li><li>444</li><li>448</li><li>449</li><li>454</li><li>456</li><li>458</li><li>460</li><li>463</li><li>464</li><li>465</li><li>466</li><li>467</li><li>469</li><li>472</li><li>474</li><li>475</li><li>476</li><li>477</li><li>478</li><li>480</li><li>481</li><li>483</li><li>484</li><li>485</li><li>488</li><li>489</li><li>491</li><li>492</li><li>499</li><li>⋯</li><li>701</li><li>707</li><li>712</li><li>713</li><li>715</li><li>716</li><li>717</li><li>718</li><li>727</li><li>735</li><li>736</li><li>738</li><li>742</li><li>745</li><li>751</li><li>754</li><li>756</li><li>757</li><li>760</li><li>761</li><li>762</li><li>763</li><li>765</li><li>771</li><li>775</li><li>781</li><li>785</li><li>786</li><li>791</li><li>793</li><li>794</li><li>799</li><li>800</li><li>802</li><li>803</li><li>805</li><li>807</li><li>809</li><li>812</li><li>813</li><li>817</li><li>819</li><li>821</li><li>829</li><li>831</li><li>832</li><li>833</li><li>834</li><li>846</li><li>848</li><li>849</li><li>852</li><li>853</li><li>855</li><li>860</li><li>861</li><li>868</li><li>869</li><li>878</li><li>879</li><li>883</li><li>884</li><li>886</li><li>894</li><li>897</li><li>903</li><li>904</li><li>906</li><li>908</li><li>909</li><li>913</li><li>914</li><li>919</li><li>924</li><li>926</li><li>928</li><li>929</li><li>931</li><li>932</li><li>934</li><li>935</li><li>936</li><li>938</li><li>940</li><li>941</li><li>947</li><li>950</li><li>953</li><li>954</li><li>956</li><li>958</li><li>962</li><li>966</li><li>967</li><li>968</li><li>970</li><li>977</li><li>980</li><li>982</li><li>985</li><li>986</li><li>988</li><li>989</li><li>991</li><li>995</li><li>1000</li><li>1003</li><li>1005</li><li>1006</li><li>1007</li><li>1008</li><li>1010</li><li>1011</li><li>1013</li><li>1016</li><li>1018</li><li>1021</li><li>1023</li><li>1028</li><li>1041</li><li>1044</li><li>1047</li><li>1051</li><li>1052</li><li>1056</li><li>1058</li><li>1059</li><li>1060</li><li>1062</li><li>1063</li><li>1065</li><li>1066</li><li>1070</li><li>1072</li><li>1073</li><li>1087</li><li>1089</li><li>1090</li><li>1091</li><li>1102</li><li>1103</li><li>1106</li><li>1107</li><li>1108</li><li>1110</li><li>1119</li><li>1124</li><li>1128</li><li>1131</li><li>1133</li><li>1134</li><li>1136</li><li>1137</li><li>1142</li><li>1144</li><li>1146</li><li>1148</li><li>1149</li><li>1150</li><li>1151</li><li>1153</li><li>1155</li><li>1160</li><li>1162</li><li>1163</li><li>1165</li><li>1169</li><li>1170</li><li>1171</li><li>1175</li><li>1176</li><li>1177</li><li>1180</li><li>1183</li><li>1187</li><li>1188</li><li>1190</li><li>1192</li><li>1195</li><li>1196</li><li>1197</li><li>1198</li><li>1199</li><li>1201</li><li>1204</li><li>1207</li><li>1208</li><li>1209</li><li>1211</li><li>1212</li><li>1216</li><li>1219</li><li>1222</li><li>1223</li><li>1224</li><li>1225</li><li>1226</li><li>1227</li><li>1228</li><li>1234</li></ol>\n"
            ],
            "text/latex": [
              "\\begin{enumerate*}\n",
              "\\item 3\n",
              "\\item 5\n",
              "\\item 10\n",
              "\\item 12\n",
              "\\item 13\n",
              "\\item 14\n",
              "\\item 17\n",
              "\\item 18\n",
              "\\item 20\n",
              "\\item 22\n",
              "\\item 26\n",
              "\\item 28\n",
              "\\item 30\n",
              "\\item 38\n",
              "\\item 39\n",
              "\\item 43\n",
              "\\item 45\n",
              "\\item 46\n",
              "\\item 50\n",
              "\\item 52\n",
              "\\item 57\n",
              "\\item 63\n",
              "\\item 64\n",
              "\\item 65\n",
              "\\item 66\n",
              "\\item 68\n",
              "\\item 69\n",
              "\\item 73\n",
              "\\item 75\n",
              "\\item 77\n",
              "\\item 80\n",
              "\\item 84\n",
              "\\item 86\n",
              "\\item 89\n",
              "\\item 90\n",
              "\\item 95\n",
              "\\item 97\n",
              "\\item 101\n",
              "\\item 104\n",
              "\\item 105\n",
              "\\item 111\n",
              "\\item 113\n",
              "\\item 115\n",
              "\\item 117\n",
              "\\item 120\n",
              "\\item 126\n",
              "\\item 128\n",
              "\\item 132\n",
              "\\item 133\n",
              "\\item 135\n",
              "\\item 139\n",
              "\\item 141\n",
              "\\item 145\n",
              "\\item 148\n",
              "\\item 149\n",
              "\\item 155\n",
              "\\item 157\n",
              "\\item 158\n",
              "\\item 166\n",
              "\\item 168\n",
              "\\item 169\n",
              "\\item 172\n",
              "\\item 176\n",
              "\\item 178\n",
              "\\item 182\n",
              "\\item 186\n",
              "\\item 190\n",
              "\\item 191\n",
              "\\item 193\n",
              "\\item 194\n",
              "\\item 195\n",
              "\\item 198\n",
              "\\item 203\n",
              "\\item 207\n",
              "\\item 208\n",
              "\\item 210\n",
              "\\item 211\n",
              "\\item 213\n",
              "\\item 220\n",
              "\\item 222\n",
              "\\item 224\n",
              "\\item 228\n",
              "\\item 229\n",
              "\\item 230\n",
              "\\item 231\n",
              "\\item 233\n",
              "\\item 236\n",
              "\\item 241\n",
              "\\item 242\n",
              "\\item 243\n",
              "\\item 244\n",
              "\\item 245\n",
              "\\item 251\n",
              "\\item 254\n",
              "\\item 260\n",
              "\\item 262\n",
              "\\item 263\n",
              "\\item 266\n",
              "\\item 269\n",
              "\\item 274\n",
              "\\item 275\n",
              "\\item 277\n",
              "\\item 280\n",
              "\\item 281\n",
              "\\item 283\n",
              "\\item 284\n",
              "\\item 285\n",
              "\\item 287\n",
              "\\item 292\n",
              "\\item 293\n",
              "\\item 294\n",
              "\\item 296\n",
              "\\item 298\n",
              "\\item 299\n",
              "\\item 302\n",
              "\\item 307\n",
              "\\item 309\n",
              "\\item 310\n",
              "\\item 311\n",
              "\\item 312\n",
              "\\item 314\n",
              "\\item 315\n",
              "\\item 316\n",
              "\\item 317\n",
              "\\item 318\n",
              "\\item 327\n",
              "\\item 328\n",
              "\\item 330\n",
              "\\item 333\n",
              "\\item 336\n",
              "\\item 337\n",
              "\\item 340\n",
              "\\item 341\n",
              "\\item 342\n",
              "\\item 343\n",
              "\\item 347\n",
              "\\item 348\n",
              "\\item 349\n",
              "\\item 351\n",
              "\\item 353\n",
              "\\item 355\n",
              "\\item 359\n",
              "\\item 360\n",
              "\\item 362\n",
              "\\item 364\n",
              "\\item 369\n",
              "\\item 374\n",
              "\\item 375\n",
              "\\item 376\n",
              "\\item 379\n",
              "\\item 382\n",
              "\\item 387\n",
              "\\item 388\n",
              "\\item 389\n",
              "\\item 392\n",
              "\\item 395\n",
              "\\item 396\n",
              "\\item 398\n",
              "\\item 407\n",
              "\\item 416\n",
              "\\item 418\n",
              "\\item 419\n",
              "\\item 421\n",
              "\\item 424\n",
              "\\item 428\n",
              "\\item 429\n",
              "\\item 432\n",
              "\\item 434\n",
              "\\item 435\n",
              "\\item 438\n",
              "\\item 443\n",
              "\\item 444\n",
              "\\item 448\n",
              "\\item 449\n",
              "\\item 454\n",
              "\\item 456\n",
              "\\item 458\n",
              "\\item 460\n",
              "\\item 463\n",
              "\\item 464\n",
              "\\item 465\n",
              "\\item 466\n",
              "\\item 467\n",
              "\\item 469\n",
              "\\item 472\n",
              "\\item 474\n",
              "\\item 475\n",
              "\\item 476\n",
              "\\item 477\n",
              "\\item 478\n",
              "\\item 480\n",
              "\\item 481\n",
              "\\item 483\n",
              "\\item 484\n",
              "\\item 485\n",
              "\\item 488\n",
              "\\item 489\n",
              "\\item 491\n",
              "\\item 492\n",
              "\\item 499\n",
              "\\item ⋯\n",
              "\\item 701\n",
              "\\item 707\n",
              "\\item 712\n",
              "\\item 713\n",
              "\\item 715\n",
              "\\item 716\n",
              "\\item 717\n",
              "\\item 718\n",
              "\\item 727\n",
              "\\item 735\n",
              "\\item 736\n",
              "\\item 738\n",
              "\\item 742\n",
              "\\item 745\n",
              "\\item 751\n",
              "\\item 754\n",
              "\\item 756\n",
              "\\item 757\n",
              "\\item 760\n",
              "\\item 761\n",
              "\\item 762\n",
              "\\item 763\n",
              "\\item 765\n",
              "\\item 771\n",
              "\\item 775\n",
              "\\item 781\n",
              "\\item 785\n",
              "\\item 786\n",
              "\\item 791\n",
              "\\item 793\n",
              "\\item 794\n",
              "\\item 799\n",
              "\\item 800\n",
              "\\item 802\n",
              "\\item 803\n",
              "\\item 805\n",
              "\\item 807\n",
              "\\item 809\n",
              "\\item 812\n",
              "\\item 813\n",
              "\\item 817\n",
              "\\item 819\n",
              "\\item 821\n",
              "\\item 829\n",
              "\\item 831\n",
              "\\item 832\n",
              "\\item 833\n",
              "\\item 834\n",
              "\\item 846\n",
              "\\item 848\n",
              "\\item 849\n",
              "\\item 852\n",
              "\\item 853\n",
              "\\item 855\n",
              "\\item 860\n",
              "\\item 861\n",
              "\\item 868\n",
              "\\item 869\n",
              "\\item 878\n",
              "\\item 879\n",
              "\\item 883\n",
              "\\item 884\n",
              "\\item 886\n",
              "\\item 894\n",
              "\\item 897\n",
              "\\item 903\n",
              "\\item 904\n",
              "\\item 906\n",
              "\\item 908\n",
              "\\item 909\n",
              "\\item 913\n",
              "\\item 914\n",
              "\\item 919\n",
              "\\item 924\n",
              "\\item 926\n",
              "\\item 928\n",
              "\\item 929\n",
              "\\item 931\n",
              "\\item 932\n",
              "\\item 934\n",
              "\\item 935\n",
              "\\item 936\n",
              "\\item 938\n",
              "\\item 940\n",
              "\\item 941\n",
              "\\item 947\n",
              "\\item 950\n",
              "\\item 953\n",
              "\\item 954\n",
              "\\item 956\n",
              "\\item 958\n",
              "\\item 962\n",
              "\\item 966\n",
              "\\item 967\n",
              "\\item 968\n",
              "\\item 970\n",
              "\\item 977\n",
              "\\item 980\n",
              "\\item 982\n",
              "\\item 985\n",
              "\\item 986\n",
              "\\item 988\n",
              "\\item 989\n",
              "\\item 991\n",
              "\\item 995\n",
              "\\item 1000\n",
              "\\item 1003\n",
              "\\item 1005\n",
              "\\item 1006\n",
              "\\item 1007\n",
              "\\item 1008\n",
              "\\item 1010\n",
              "\\item 1011\n",
              "\\item 1013\n",
              "\\item 1016\n",
              "\\item 1018\n",
              "\\item 1021\n",
              "\\item 1023\n",
              "\\item 1028\n",
              "\\item 1041\n",
              "\\item 1044\n",
              "\\item 1047\n",
              "\\item 1051\n",
              "\\item 1052\n",
              "\\item 1056\n",
              "\\item 1058\n",
              "\\item 1059\n",
              "\\item 1060\n",
              "\\item 1062\n",
              "\\item 1063\n",
              "\\item 1065\n",
              "\\item 1066\n",
              "\\item 1070\n",
              "\\item 1072\n",
              "\\item 1073\n",
              "\\item 1087\n",
              "\\item 1089\n",
              "\\item 1090\n",
              "\\item 1091\n",
              "\\item 1102\n",
              "\\item 1103\n",
              "\\item 1106\n",
              "\\item 1107\n",
              "\\item 1108\n",
              "\\item 1110\n",
              "\\item 1119\n",
              "\\item 1124\n",
              "\\item 1128\n",
              "\\item 1131\n",
              "\\item 1133\n",
              "\\item 1134\n",
              "\\item 1136\n",
              "\\item 1137\n",
              "\\item 1142\n",
              "\\item 1144\n",
              "\\item 1146\n",
              "\\item 1148\n",
              "\\item 1149\n",
              "\\item 1150\n",
              "\\item 1151\n",
              "\\item 1153\n",
              "\\item 1155\n",
              "\\item 1160\n",
              "\\item 1162\n",
              "\\item 1163\n",
              "\\item 1165\n",
              "\\item 1169\n",
              "\\item 1170\n",
              "\\item 1171\n",
              "\\item 1175\n",
              "\\item 1176\n",
              "\\item 1177\n",
              "\\item 1180\n",
              "\\item 1183\n",
              "\\item 1187\n",
              "\\item 1188\n",
              "\\item 1190\n",
              "\\item 1192\n",
              "\\item 1195\n",
              "\\item 1196\n",
              "\\item 1197\n",
              "\\item 1198\n",
              "\\item 1199\n",
              "\\item 1201\n",
              "\\item 1204\n",
              "\\item 1207\n",
              "\\item 1208\n",
              "\\item 1209\n",
              "\\item 1211\n",
              "\\item 1212\n",
              "\\item 1216\n",
              "\\item 1219\n",
              "\\item 1222\n",
              "\\item 1223\n",
              "\\item 1224\n",
              "\\item 1225\n",
              "\\item 1226\n",
              "\\item 1227\n",
              "\\item 1228\n",
              "\\item 1234\n",
              "\\end{enumerate*}\n"
            ],
            "text/markdown": [
              "1. 3\n",
              "2. 5\n",
              "3. 10\n",
              "4. 12\n",
              "5. 13\n",
              "6. 14\n",
              "7. 17\n",
              "8. 18\n",
              "9. 20\n",
              "10. 22\n",
              "11. 26\n",
              "12. 28\n",
              "13. 30\n",
              "14. 38\n",
              "15. 39\n",
              "16. 43\n",
              "17. 45\n",
              "18. 46\n",
              "19. 50\n",
              "20. 52\n",
              "21. 57\n",
              "22. 63\n",
              "23. 64\n",
              "24. 65\n",
              "25. 66\n",
              "26. 68\n",
              "27. 69\n",
              "28. 73\n",
              "29. 75\n",
              "30. 77\n",
              "31. 80\n",
              "32. 84\n",
              "33. 86\n",
              "34. 89\n",
              "35. 90\n",
              "36. 95\n",
              "37. 97\n",
              "38. 101\n",
              "39. 104\n",
              "40. 105\n",
              "41. 111\n",
              "42. 113\n",
              "43. 115\n",
              "44. 117\n",
              "45. 120\n",
              "46. 126\n",
              "47. 128\n",
              "48. 132\n",
              "49. 133\n",
              "50. 135\n",
              "51. 139\n",
              "52. 141\n",
              "53. 145\n",
              "54. 148\n",
              "55. 149\n",
              "56. 155\n",
              "57. 157\n",
              "58. 158\n",
              "59. 166\n",
              "60. 168\n",
              "61. 169\n",
              "62. 172\n",
              "63. 176\n",
              "64. 178\n",
              "65. 182\n",
              "66. 186\n",
              "67. 190\n",
              "68. 191\n",
              "69. 193\n",
              "70. 194\n",
              "71. 195\n",
              "72. 198\n",
              "73. 203\n",
              "74. 207\n",
              "75. 208\n",
              "76. 210\n",
              "77. 211\n",
              "78. 213\n",
              "79. 220\n",
              "80. 222\n",
              "81. 224\n",
              "82. 228\n",
              "83. 229\n",
              "84. 230\n",
              "85. 231\n",
              "86. 233\n",
              "87. 236\n",
              "88. 241\n",
              "89. 242\n",
              "90. 243\n",
              "91. 244\n",
              "92. 245\n",
              "93. 251\n",
              "94. 254\n",
              "95. 260\n",
              "96. 262\n",
              "97. 263\n",
              "98. 266\n",
              "99. 269\n",
              "100. 274\n",
              "101. 275\n",
              "102. 277\n",
              "103. 280\n",
              "104. 281\n",
              "105. 283\n",
              "106. 284\n",
              "107. 285\n",
              "108. 287\n",
              "109. 292\n",
              "110. 293\n",
              "111. 294\n",
              "112. 296\n",
              "113. 298\n",
              "114. 299\n",
              "115. 302\n",
              "116. 307\n",
              "117. 309\n",
              "118. 310\n",
              "119. 311\n",
              "120. 312\n",
              "121. 314\n",
              "122. 315\n",
              "123. 316\n",
              "124. 317\n",
              "125. 318\n",
              "126. 327\n",
              "127. 328\n",
              "128. 330\n",
              "129. 333\n",
              "130. 336\n",
              "131. 337\n",
              "132. 340\n",
              "133. 341\n",
              "134. 342\n",
              "135. 343\n",
              "136. 347\n",
              "137. 348\n",
              "138. 349\n",
              "139. 351\n",
              "140. 353\n",
              "141. 355\n",
              "142. 359\n",
              "143. 360\n",
              "144. 362\n",
              "145. 364\n",
              "146. 369\n",
              "147. 374\n",
              "148. 375\n",
              "149. 376\n",
              "150. 379\n",
              "151. 382\n",
              "152. 387\n",
              "153. 388\n",
              "154. 389\n",
              "155. 392\n",
              "156. 395\n",
              "157. 396\n",
              "158. 398\n",
              "159. 407\n",
              "160. 416\n",
              "161. 418\n",
              "162. 419\n",
              "163. 421\n",
              "164. 424\n",
              "165. 428\n",
              "166. 429\n",
              "167. 432\n",
              "168. 434\n",
              "169. 435\n",
              "170. 438\n",
              "171. 443\n",
              "172. 444\n",
              "173. 448\n",
              "174. 449\n",
              "175. 454\n",
              "176. 456\n",
              "177. 458\n",
              "178. 460\n",
              "179. 463\n",
              "180. 464\n",
              "181. 465\n",
              "182. 466\n",
              "183. 467\n",
              "184. 469\n",
              "185. 472\n",
              "186. 474\n",
              "187. 475\n",
              "188. 476\n",
              "189. 477\n",
              "190. 478\n",
              "191. 480\n",
              "192. 481\n",
              "193. 483\n",
              "194. 484\n",
              "195. 485\n",
              "196. 488\n",
              "197. 489\n",
              "198. 491\n",
              "199. 492\n",
              "200. 499\n",
              "201. ⋯\n",
              "202. 701\n",
              "203. 707\n",
              "204. 712\n",
              "205. 713\n",
              "206. 715\n",
              "207. 716\n",
              "208. 717\n",
              "209. 718\n",
              "210. 727\n",
              "211. 735\n",
              "212. 736\n",
              "213. 738\n",
              "214. 742\n",
              "215. 745\n",
              "216. 751\n",
              "217. 754\n",
              "218. 756\n",
              "219. 757\n",
              "220. 760\n",
              "221. 761\n",
              "222. 762\n",
              "223. 763\n",
              "224. 765\n",
              "225. 771\n",
              "226. 775\n",
              "227. 781\n",
              "228. 785\n",
              "229. 786\n",
              "230. 791\n",
              "231. 793\n",
              "232. 794\n",
              "233. 799\n",
              "234. 800\n",
              "235. 802\n",
              "236. 803\n",
              "237. 805\n",
              "238. 807\n",
              "239. 809\n",
              "240. 812\n",
              "241. 813\n",
              "242. 817\n",
              "243. 819\n",
              "244. 821\n",
              "245. 829\n",
              "246. 831\n",
              "247. 832\n",
              "248. 833\n",
              "249. 834\n",
              "250. 846\n",
              "251. 848\n",
              "252. 849\n",
              "253. 852\n",
              "254. 853\n",
              "255. 855\n",
              "256. 860\n",
              "257. 861\n",
              "258. 868\n",
              "259. 869\n",
              "260. 878\n",
              "261. 879\n",
              "262. 883\n",
              "263. 884\n",
              "264. 886\n",
              "265. 894\n",
              "266. 897\n",
              "267. 903\n",
              "268. 904\n",
              "269. 906\n",
              "270. 908\n",
              "271. 909\n",
              "272. 913\n",
              "273. 914\n",
              "274. 919\n",
              "275. 924\n",
              "276. 926\n",
              "277. 928\n",
              "278. 929\n",
              "279. 931\n",
              "280. 932\n",
              "281. 934\n",
              "282. 935\n",
              "283. 936\n",
              "284. 938\n",
              "285. 940\n",
              "286. 941\n",
              "287. 947\n",
              "288. 950\n",
              "289. 953\n",
              "290. 954\n",
              "291. 956\n",
              "292. 958\n",
              "293. 962\n",
              "294. 966\n",
              "295. 967\n",
              "296. 968\n",
              "297. 970\n",
              "298. 977\n",
              "299. 980\n",
              "300. 982\n",
              "301. 985\n",
              "302. 986\n",
              "303. 988\n",
              "304. 989\n",
              "305. 991\n",
              "306. 995\n",
              "307. 1000\n",
              "308. 1003\n",
              "309. 1005\n",
              "310. 1006\n",
              "311. 1007\n",
              "312. 1008\n",
              "313. 1010\n",
              "314. 1011\n",
              "315. 1013\n",
              "316. 1016\n",
              "317. 1018\n",
              "318. 1021\n",
              "319. 1023\n",
              "320. 1028\n",
              "321. 1041\n",
              "322. 1044\n",
              "323. 1047\n",
              "324. 1051\n",
              "325. 1052\n",
              "326. 1056\n",
              "327. 1058\n",
              "328. 1059\n",
              "329. 1060\n",
              "330. 1062\n",
              "331. 1063\n",
              "332. 1065\n",
              "333. 1066\n",
              "334. 1070\n",
              "335. 1072\n",
              "336. 1073\n",
              "337. 1087\n",
              "338. 1089\n",
              "339. 1090\n",
              "340. 1091\n",
              "341. 1102\n",
              "342. 1103\n",
              "343. 1106\n",
              "344. 1107\n",
              "345. 1108\n",
              "346. 1110\n",
              "347. 1119\n",
              "348. 1124\n",
              "349. 1128\n",
              "350. 1131\n",
              "351. 1133\n",
              "352. 1134\n",
              "353. 1136\n",
              "354. 1137\n",
              "355. 1142\n",
              "356. 1144\n",
              "357. 1146\n",
              "358. 1148\n",
              "359. 1149\n",
              "360. 1150\n",
              "361. 1151\n",
              "362. 1153\n",
              "363. 1155\n",
              "364. 1160\n",
              "365. 1162\n",
              "366. 1163\n",
              "367. 1165\n",
              "368. 1169\n",
              "369. 1170\n",
              "370. 1171\n",
              "371. 1175\n",
              "372. 1176\n",
              "373. 1177\n",
              "374. 1180\n",
              "375. 1183\n",
              "376. 1187\n",
              "377. 1188\n",
              "378. 1190\n",
              "379. 1192\n",
              "380. 1195\n",
              "381. 1196\n",
              "382. 1197\n",
              "383. 1198\n",
              "384. 1199\n",
              "385. 1201\n",
              "386. 1204\n",
              "387. 1207\n",
              "388. 1208\n",
              "389. 1209\n",
              "390. 1211\n",
              "391. 1212\n",
              "392. 1216\n",
              "393. 1219\n",
              "394. 1222\n",
              "395. 1223\n",
              "396. 1224\n",
              "397. 1225\n",
              "398. 1226\n",
              "399. 1227\n",
              "400. 1228\n",
              "401. 1234\n",
              "\n",
              "\n"
            ],
            "text/plain": [
              "  [1]    3    5   10   12   13   14   17   18   20   22   26   28   30   38   39\n",
              " [16]   43   45   46   50   52   57   63   64   65   66   68   69   73   75   77\n",
              " [31]   80   84   86   89   90   95   97  101  104  105  111  113  115  117  120\n",
              " [46]  126  128  132  133  135  139  141  145  148  149  155  157  158  166  168\n",
              " [61]  169  172  176  178  182  186  190  191  193  194  195  198  203  207  208\n",
              " [76]  210  211  213  220  222  224  228  229  230  231  233  236  241  242  243\n",
              " [91]  244  245  251  254  260  262  263  266  269  274  275  277  280  281  283\n",
              "[106]  284  285  287  292  293  294  296  298  299  302  307  309  310  311  312\n",
              "[121]  314  315  316  317  318  327  328  330  333  336  337  340  341  342  343\n",
              "[136]  347  348  349  351  353  355  359  360  362  364  369  374  375  376  379\n",
              "[151]  382  387  388  389  392  395  396  398  407  416  418  419  421  424  428\n",
              "[166]  429  432  434  435  438  443  444  448  449  454  456  458  460  463  464\n",
              "[181]  465  466  467  469  472  474  475  476  477  478  480  481  483  484  485\n",
              "[196]  488  489  491  492  499  501  502  503  504  505  509  510  513  515  516\n",
              "[211]  517  518  520  523  527  529  532  533  536  543  546  548  549  554  558\n",
              "[226]  562  563  568  569  570  571  573  575  576  582  583  586  590  592  594\n",
              "[241]  598  602  603  604  608  609  610  612  613  619  620  622  625  632  635\n",
              "[256]  636  638  639  641  644  648  649  654  656  657  660  661  663  665  667\n",
              "[271]  668  669  671  673  676  678  683  689  691  694  695  697  698  699  701\n",
              "[286]  707  712  713  715  716  717  718  727  735  736  738  742  745  751  754\n",
              "[301]  756  757  760  761  762  763  765  771  775  781  785  786  791  793  794\n",
              "[316]  799  800  802  803  805  807  809  812  813  817  819  821  829  831  832\n",
              "[331]  833  834  846  848  849  852  853  855  860  861  868  869  878  879  883\n",
              "[346]  884  886  894  897  903  904  906  908  909  913  914  919  924  926  928\n",
              "[361]  929  931  932  934  935  936  938  940  941  947  950  953  954  956  958\n",
              "[376]  962  966  967  968  970  977  980  982  985  986  988  989  991  995 1000\n",
              "[391] 1003 1005 1006 1007 1008 1010 1011 1013 1016 1018 1021 1023 1028 1041 1044\n",
              "[406] 1047 1051 1052 1056 1058 1059 1060 1062 1063 1065 1066 1070 1072 1073 1087\n",
              "[421] 1089 1090 1091 1102 1103 1106 1107 1108 1110 1119 1124 1128 1131 1133 1134\n",
              "[436] 1136 1137 1142 1144 1146 1148 1149 1150 1151 1153 1155 1160 1162 1163 1165\n",
              "[451] 1169 1170 1171 1175 1176 1177 1180 1183 1187 1188 1190 1192 1195 1196 1197\n",
              "[466] 1198 1199 1201 1204 1207 1208 1209 1211 1212 1216 1219 1222 1223 1224 1225\n",
              "[481] 1226 1227 1228 1234"
            ]
          },
          "metadata": {
            "tags": []
          },
          "output_type": "display_data"
        }
      ],
      "source": [
        "# which() returns the indices of observations that satisfy the given condition.\n",
        "# See which rows had smokers:\n",
        "smoker.ind = which(data['smoke'] == 1)\n",
        "smoker.ind\n",
        "# The numbers you'll see are the row numbers where the condition was true. This is useful when passing in to a dataframe, seen below."
      ]
    },
    {
      "cell_type": "code",
      "execution_count": null,
      "metadata": {
        "colab": {
          "base_uri": "https://localhost:8080/",
          "height": 1000
        },
        "id": "0PzHZ1aLXUki",
        "outputId": "b91da4cb-87c5-4188-f637-cceeeb1bd173",
        "vscode": {
          "languageId": "r"
        }
      },
      "outputs": [
        {
          "data": {
            "text/html": [
              "<table class=\"dataframe\">\n",
              "<caption>A data.frame: 484 × 7</caption>\n",
              "<thead>\n",
              "\t<tr><th></th><th scope=col>bwt</th><th scope=col>gestation</th><th scope=col>parity</th><th scope=col>age</th><th scope=col>height</th><th scope=col>weight</th><th scope=col>smoke</th></tr>\n",
              "\t<tr><th></th><th scope=col>&lt;int&gt;</th><th scope=col>&lt;int&gt;</th><th scope=col>&lt;int&gt;</th><th scope=col>&lt;int&gt;</th><th scope=col>&lt;int&gt;</th><th scope=col>&lt;int&gt;</th><th scope=col>&lt;int&gt;</th></tr>\n",
              "</thead>\n",
              "<tbody>\n",
              "\t<tr><th scope=row>3</th><td>128</td><td>279</td><td>0</td><td>28</td><td>64</td><td>115</td><td>1</td></tr>\n",
              "\t<tr><th scope=row>5</th><td>108</td><td>282</td><td>0</td><td>23</td><td>67</td><td>125</td><td>1</td></tr>\n",
              "\t<tr><th scope=row>10</th><td>143</td><td>299</td><td>0</td><td>30</td><td>66</td><td>136</td><td>1</td></tr>\n",
              "\t<tr><th scope=row>12</th><td>144</td><td>282</td><td>0</td><td>32</td><td>64</td><td>124</td><td>1</td></tr>\n",
              "\t<tr><th scope=row>13</th><td>141</td><td>279</td><td>0</td><td>23</td><td>63</td><td>128</td><td>1</td></tr>\n",
              "\t<tr><th scope=row>14</th><td>110</td><td>281</td><td>0</td><td>36</td><td>61</td><td> 99</td><td>1</td></tr>\n",
              "\t<tr><th scope=row>17</th><td> 92</td><td>255</td><td>0</td><td>25</td><td>65</td><td>125</td><td>1</td></tr>\n",
              "\t<tr><th scope=row>18</th><td>115</td><td>261</td><td>0</td><td>33</td><td>60</td><td>125</td><td>1</td></tr>\n",
              "\t<tr><th scope=row>20</th><td>119</td><td>288</td><td>0</td><td>43</td><td>66</td><td>142</td><td>1</td></tr>\n",
              "\t<tr><th scope=row>22</th><td>115</td><td>274</td><td>0</td><td>27</td><td>67</td><td>175</td><td>1</td></tr>\n",
              "\t<tr><th scope=row>26</th><td>103</td><td>261</td><td>0</td><td>27</td><td>65</td><td>112</td><td>1</td></tr>\n",
              "\t<tr><th scope=row>28</th><td>114</td><td>266</td><td>0</td><td>20</td><td>65</td><td>175</td><td>1</td></tr>\n",
              "\t<tr><th scope=row>30</th><td>114</td><td>274</td><td>0</td><td>28</td><td>66</td><td>132</td><td>1</td></tr>\n",
              "\t<tr><th scope=row>38</th><td>134</td><td>288</td><td>0</td><td>23</td><td>63</td><td> 92</td><td>1</td></tr>\n",
              "\t<tr><th scope=row>39</th><td>122</td><td>267</td><td>0</td><td>27</td><td>65</td><td>101</td><td>1</td></tr>\n",
              "\t<tr><th scope=row>43</th><td>138</td><td>302</td><td>0</td><td>26</td><td>99</td><td>999</td><td>1</td></tr>\n",
              "\t<tr><th scope=row>45</th><td> 87</td><td>248</td><td>0</td><td>37</td><td>65</td><td>130</td><td>1</td></tr>\n",
              "\t<tr><th scope=row>46</th><td>143</td><td>274</td><td>0</td><td>27</td><td>63</td><td>110</td><td>1</td></tr>\n",
              "\t<tr><th scope=row>50</th><td>145</td><td>291</td><td>0</td><td>26</td><td>63</td><td>119</td><td>1</td></tr>\n",
              "\t<tr><th scope=row>52</th><td>108</td><td>283</td><td>0</td><td>31</td><td>65</td><td>148</td><td>1</td></tr>\n",
              "\t<tr><th scope=row>57</th><td>124</td><td>278</td><td>0</td><td>26</td><td>70</td><td>145</td><td>1</td></tr>\n",
              "\t<tr><th scope=row>63</th><td>122</td><td>280</td><td>0</td><td>23</td><td>65</td><td>125</td><td>1</td></tr>\n",
              "\t<tr><th scope=row>64</th><td>101</td><td>245</td><td>0</td><td>23</td><td>63</td><td>130</td><td>1</td></tr>\n",
              "\t<tr><th scope=row>65</th><td>128</td><td>283</td><td>0</td><td>28</td><td>63</td><td>125</td><td>1</td></tr>\n",
              "\t<tr><th scope=row>66</th><td>104</td><td>282</td><td>0</td><td>36</td><td>65</td><td>115</td><td>1</td></tr>\n",
              "\t<tr><th scope=row>68</th><td>137</td><td>274</td><td>0</td><td>26</td><td>69</td><td>137</td><td>1</td></tr>\n",
              "\t<tr><th scope=row>69</th><td>103</td><td>273</td><td>0</td><td>31</td><td>63</td><td>170</td><td>1</td></tr>\n",
              "\t<tr><th scope=row>73</th><td>133</td><td>284</td><td>0</td><td>25</td><td>66</td><td>125</td><td>1</td></tr>\n",
              "\t<tr><th scope=row>75</th><td> 91</td><td>270</td><td>0</td><td>24</td><td>60</td><td>149</td><td>1</td></tr>\n",
              "\t<tr><th scope=row>77</th><td>153</td><td>286</td><td>0</td><td>26</td><td>63</td><td>107</td><td>1</td></tr>\n",
              "\t<tr><th scope=row>⋮</th><td>⋮</td><td>⋮</td><td>⋮</td><td>⋮</td><td>⋮</td><td>⋮</td><td>⋮</td></tr>\n",
              "\t<tr><th scope=row>1176</th><td>138</td><td>292</td><td>0</td><td>25</td><td>65</td><td>130</td><td>1</td></tr>\n",
              "\t<tr><th scope=row>1177</th><td> 88</td><td>276</td><td>0</td><td>25</td><td>63</td><td>103</td><td>1</td></tr>\n",
              "\t<tr><th scope=row>1180</th><td> 82</td><td>274</td><td>0</td><td>31</td><td>64</td><td>101</td><td>1</td></tr>\n",
              "\t<tr><th scope=row>1183</th><td> 97</td><td>269</td><td>0</td><td>20</td><td>65</td><td>137</td><td>1</td></tr>\n",
              "\t<tr><th scope=row>1187</th><td>116</td><td>274</td><td>0</td><td>21</td><td>62</td><td>110</td><td>1</td></tr>\n",
              "\t<tr><th scope=row>1188</th><td>132</td><td>302</td><td>0</td><td>36</td><td>63</td><td>145</td><td>1</td></tr>\n",
              "\t<tr><th scope=row>1190</th><td>119</td><td>277</td><td>1</td><td>18</td><td>61</td><td> 89</td><td>1</td></tr>\n",
              "\t<tr><th scope=row>1192</th><td>106</td><td>312</td><td>0</td><td>24</td><td>62</td><td>135</td><td>1</td></tr>\n",
              "\t<tr><th scope=row>1195</th><td>103</td><td>273</td><td>0</td><td>36</td><td>65</td><td>158</td><td>1</td></tr>\n",
              "\t<tr><th scope=row>1196</th><td>112</td><td>299</td><td>0</td><td>24</td><td>67</td><td>145</td><td>1</td></tr>\n",
              "\t<tr><th scope=row>1197</th><td> 96</td><td>276</td><td>0</td><td>33</td><td>64</td><td>127</td><td>1</td></tr>\n",
              "\t<tr><th scope=row>1198</th><td>102</td><td>281</td><td>1</td><td>19</td><td>67</td><td>135</td><td>1</td></tr>\n",
              "\t<tr><th scope=row>1199</th><td>120</td><td>300</td><td>0</td><td>34</td><td>63</td><td>150</td><td>1</td></tr>\n",
              "\t<tr><th scope=row>1201</th><td> 97</td><td>255</td><td>1</td><td>22</td><td>63</td><td>107</td><td>1</td></tr>\n",
              "\t<tr><th scope=row>1204</th><td> 97</td><td>260</td><td>1</td><td>25</td><td>63</td><td>115</td><td>1</td></tr>\n",
              "\t<tr><th scope=row>1207</th><td>127</td><td>242</td><td>0</td><td>17</td><td>61</td><td>135</td><td>1</td></tr>\n",
              "\t<tr><th scope=row>1208</th><td> 87</td><td>247</td><td>1</td><td>18</td><td>66</td><td>125</td><td>1</td></tr>\n",
              "\t<tr><th scope=row>1209</th><td>141</td><td>281</td><td>0</td><td>29</td><td>54</td><td>156</td><td>1</td></tr>\n",
              "\t<tr><th scope=row>1211</th><td>116</td><td>273</td><td>0</td><td>33</td><td>66</td><td>130</td><td>1</td></tr>\n",
              "\t<tr><th scope=row>1212</th><td> 75</td><td>265</td><td>0</td><td>21</td><td>65</td><td>103</td><td>1</td></tr>\n",
              "\t<tr><th scope=row>1216</th><td>152</td><td>267</td><td>0</td><td>28</td><td>99</td><td>119</td><td>1</td></tr>\n",
              "\t<tr><th scope=row>1219</th><td> 81</td><td>285</td><td>0</td><td>19</td><td>63</td><td>150</td><td>1</td></tr>\n",
              "\t<tr><th scope=row>1222</th><td>114</td><td>290</td><td>1</td><td>21</td><td>65</td><td>120</td><td>1</td></tr>\n",
              "\t<tr><th scope=row>1223</th><td>124</td><td>288</td><td>1</td><td>21</td><td>64</td><td>116</td><td>1</td></tr>\n",
              "\t<tr><th scope=row>1224</th><td>115</td><td>262</td><td>1</td><td>23</td><td>64</td><td>136</td><td>1</td></tr>\n",
              "\t<tr><th scope=row>1225</th><td>143</td><td>281</td><td>0</td><td>28</td><td>65</td><td>135</td><td>1</td></tr>\n",
              "\t<tr><th scope=row>1226</th><td>113</td><td>287</td><td>1</td><td>29</td><td>70</td><td>145</td><td>1</td></tr>\n",
              "\t<tr><th scope=row>1227</th><td>109</td><td>244</td><td>1</td><td>21</td><td>63</td><td>102</td><td>1</td></tr>\n",
              "\t<tr><th scope=row>1228</th><td>103</td><td>278</td><td>0</td><td>30</td><td>60</td><td> 87</td><td>1</td></tr>\n",
              "\t<tr><th scope=row>1234</th><td>130</td><td>291</td><td>0</td><td>30</td><td>65</td><td>150</td><td>1</td></tr>\n",
              "</tbody>\n",
              "</table>\n"
            ],
            "text/latex": [
              "A data.frame: 484 × 7\n",
              "\\begin{tabular}{r|lllllll}\n",
              "  & bwt & gestation & parity & age & height & weight & smoke\\\\\n",
              "  & <int> & <int> & <int> & <int> & <int> & <int> & <int>\\\\\n",
              "\\hline\n",
              "\t3 & 128 & 279 & 0 & 28 & 64 & 115 & 1\\\\\n",
              "\t5 & 108 & 282 & 0 & 23 & 67 & 125 & 1\\\\\n",
              "\t10 & 143 & 299 & 0 & 30 & 66 & 136 & 1\\\\\n",
              "\t12 & 144 & 282 & 0 & 32 & 64 & 124 & 1\\\\\n",
              "\t13 & 141 & 279 & 0 & 23 & 63 & 128 & 1\\\\\n",
              "\t14 & 110 & 281 & 0 & 36 & 61 &  99 & 1\\\\\n",
              "\t17 &  92 & 255 & 0 & 25 & 65 & 125 & 1\\\\\n",
              "\t18 & 115 & 261 & 0 & 33 & 60 & 125 & 1\\\\\n",
              "\t20 & 119 & 288 & 0 & 43 & 66 & 142 & 1\\\\\n",
              "\t22 & 115 & 274 & 0 & 27 & 67 & 175 & 1\\\\\n",
              "\t26 & 103 & 261 & 0 & 27 & 65 & 112 & 1\\\\\n",
              "\t28 & 114 & 266 & 0 & 20 & 65 & 175 & 1\\\\\n",
              "\t30 & 114 & 274 & 0 & 28 & 66 & 132 & 1\\\\\n",
              "\t38 & 134 & 288 & 0 & 23 & 63 &  92 & 1\\\\\n",
              "\t39 & 122 & 267 & 0 & 27 & 65 & 101 & 1\\\\\n",
              "\t43 & 138 & 302 & 0 & 26 & 99 & 999 & 1\\\\\n",
              "\t45 &  87 & 248 & 0 & 37 & 65 & 130 & 1\\\\\n",
              "\t46 & 143 & 274 & 0 & 27 & 63 & 110 & 1\\\\\n",
              "\t50 & 145 & 291 & 0 & 26 & 63 & 119 & 1\\\\\n",
              "\t52 & 108 & 283 & 0 & 31 & 65 & 148 & 1\\\\\n",
              "\t57 & 124 & 278 & 0 & 26 & 70 & 145 & 1\\\\\n",
              "\t63 & 122 & 280 & 0 & 23 & 65 & 125 & 1\\\\\n",
              "\t64 & 101 & 245 & 0 & 23 & 63 & 130 & 1\\\\\n",
              "\t65 & 128 & 283 & 0 & 28 & 63 & 125 & 1\\\\\n",
              "\t66 & 104 & 282 & 0 & 36 & 65 & 115 & 1\\\\\n",
              "\t68 & 137 & 274 & 0 & 26 & 69 & 137 & 1\\\\\n",
              "\t69 & 103 & 273 & 0 & 31 & 63 & 170 & 1\\\\\n",
              "\t73 & 133 & 284 & 0 & 25 & 66 & 125 & 1\\\\\n",
              "\t75 &  91 & 270 & 0 & 24 & 60 & 149 & 1\\\\\n",
              "\t77 & 153 & 286 & 0 & 26 & 63 & 107 & 1\\\\\n",
              "\t⋮ & ⋮ & ⋮ & ⋮ & ⋮ & ⋮ & ⋮ & ⋮\\\\\n",
              "\t1176 & 138 & 292 & 0 & 25 & 65 & 130 & 1\\\\\n",
              "\t1177 &  88 & 276 & 0 & 25 & 63 & 103 & 1\\\\\n",
              "\t1180 &  82 & 274 & 0 & 31 & 64 & 101 & 1\\\\\n",
              "\t1183 &  97 & 269 & 0 & 20 & 65 & 137 & 1\\\\\n",
              "\t1187 & 116 & 274 & 0 & 21 & 62 & 110 & 1\\\\\n",
              "\t1188 & 132 & 302 & 0 & 36 & 63 & 145 & 1\\\\\n",
              "\t1190 & 119 & 277 & 1 & 18 & 61 &  89 & 1\\\\\n",
              "\t1192 & 106 & 312 & 0 & 24 & 62 & 135 & 1\\\\\n",
              "\t1195 & 103 & 273 & 0 & 36 & 65 & 158 & 1\\\\\n",
              "\t1196 & 112 & 299 & 0 & 24 & 67 & 145 & 1\\\\\n",
              "\t1197 &  96 & 276 & 0 & 33 & 64 & 127 & 1\\\\\n",
              "\t1198 & 102 & 281 & 1 & 19 & 67 & 135 & 1\\\\\n",
              "\t1199 & 120 & 300 & 0 & 34 & 63 & 150 & 1\\\\\n",
              "\t1201 &  97 & 255 & 1 & 22 & 63 & 107 & 1\\\\\n",
              "\t1204 &  97 & 260 & 1 & 25 & 63 & 115 & 1\\\\\n",
              "\t1207 & 127 & 242 & 0 & 17 & 61 & 135 & 1\\\\\n",
              "\t1208 &  87 & 247 & 1 & 18 & 66 & 125 & 1\\\\\n",
              "\t1209 & 141 & 281 & 0 & 29 & 54 & 156 & 1\\\\\n",
              "\t1211 & 116 & 273 & 0 & 33 & 66 & 130 & 1\\\\\n",
              "\t1212 &  75 & 265 & 0 & 21 & 65 & 103 & 1\\\\\n",
              "\t1216 & 152 & 267 & 0 & 28 & 99 & 119 & 1\\\\\n",
              "\t1219 &  81 & 285 & 0 & 19 & 63 & 150 & 1\\\\\n",
              "\t1222 & 114 & 290 & 1 & 21 & 65 & 120 & 1\\\\\n",
              "\t1223 & 124 & 288 & 1 & 21 & 64 & 116 & 1\\\\\n",
              "\t1224 & 115 & 262 & 1 & 23 & 64 & 136 & 1\\\\\n",
              "\t1225 & 143 & 281 & 0 & 28 & 65 & 135 & 1\\\\\n",
              "\t1226 & 113 & 287 & 1 & 29 & 70 & 145 & 1\\\\\n",
              "\t1227 & 109 & 244 & 1 & 21 & 63 & 102 & 1\\\\\n",
              "\t1228 & 103 & 278 & 0 & 30 & 60 &  87 & 1\\\\\n",
              "\t1234 & 130 & 291 & 0 & 30 & 65 & 150 & 1\\\\\n",
              "\\end{tabular}\n"
            ],
            "text/markdown": [
              "\n",
              "A data.frame: 484 × 7\n",
              "\n",
              "| <!--/--> | bwt &lt;int&gt; | gestation &lt;int&gt; | parity &lt;int&gt; | age &lt;int&gt; | height &lt;int&gt; | weight &lt;int&gt; | smoke &lt;int&gt; |\n",
              "|---|---|---|---|---|---|---|---|\n",
              "| 3 | 128 | 279 | 0 | 28 | 64 | 115 | 1 |\n",
              "| 5 | 108 | 282 | 0 | 23 | 67 | 125 | 1 |\n",
              "| 10 | 143 | 299 | 0 | 30 | 66 | 136 | 1 |\n",
              "| 12 | 144 | 282 | 0 | 32 | 64 | 124 | 1 |\n",
              "| 13 | 141 | 279 | 0 | 23 | 63 | 128 | 1 |\n",
              "| 14 | 110 | 281 | 0 | 36 | 61 |  99 | 1 |\n",
              "| 17 |  92 | 255 | 0 | 25 | 65 | 125 | 1 |\n",
              "| 18 | 115 | 261 | 0 | 33 | 60 | 125 | 1 |\n",
              "| 20 | 119 | 288 | 0 | 43 | 66 | 142 | 1 |\n",
              "| 22 | 115 | 274 | 0 | 27 | 67 | 175 | 1 |\n",
              "| 26 | 103 | 261 | 0 | 27 | 65 | 112 | 1 |\n",
              "| 28 | 114 | 266 | 0 | 20 | 65 | 175 | 1 |\n",
              "| 30 | 114 | 274 | 0 | 28 | 66 | 132 | 1 |\n",
              "| 38 | 134 | 288 | 0 | 23 | 63 |  92 | 1 |\n",
              "| 39 | 122 | 267 | 0 | 27 | 65 | 101 | 1 |\n",
              "| 43 | 138 | 302 | 0 | 26 | 99 | 999 | 1 |\n",
              "| 45 |  87 | 248 | 0 | 37 | 65 | 130 | 1 |\n",
              "| 46 | 143 | 274 | 0 | 27 | 63 | 110 | 1 |\n",
              "| 50 | 145 | 291 | 0 | 26 | 63 | 119 | 1 |\n",
              "| 52 | 108 | 283 | 0 | 31 | 65 | 148 | 1 |\n",
              "| 57 | 124 | 278 | 0 | 26 | 70 | 145 | 1 |\n",
              "| 63 | 122 | 280 | 0 | 23 | 65 | 125 | 1 |\n",
              "| 64 | 101 | 245 | 0 | 23 | 63 | 130 | 1 |\n",
              "| 65 | 128 | 283 | 0 | 28 | 63 | 125 | 1 |\n",
              "| 66 | 104 | 282 | 0 | 36 | 65 | 115 | 1 |\n",
              "| 68 | 137 | 274 | 0 | 26 | 69 | 137 | 1 |\n",
              "| 69 | 103 | 273 | 0 | 31 | 63 | 170 | 1 |\n",
              "| 73 | 133 | 284 | 0 | 25 | 66 | 125 | 1 |\n",
              "| 75 |  91 | 270 | 0 | 24 | 60 | 149 | 1 |\n",
              "| 77 | 153 | 286 | 0 | 26 | 63 | 107 | 1 |\n",
              "| ⋮ | ⋮ | ⋮ | ⋮ | ⋮ | ⋮ | ⋮ | ⋮ |\n",
              "| 1176 | 138 | 292 | 0 | 25 | 65 | 130 | 1 |\n",
              "| 1177 |  88 | 276 | 0 | 25 | 63 | 103 | 1 |\n",
              "| 1180 |  82 | 274 | 0 | 31 | 64 | 101 | 1 |\n",
              "| 1183 |  97 | 269 | 0 | 20 | 65 | 137 | 1 |\n",
              "| 1187 | 116 | 274 | 0 | 21 | 62 | 110 | 1 |\n",
              "| 1188 | 132 | 302 | 0 | 36 | 63 | 145 | 1 |\n",
              "| 1190 | 119 | 277 | 1 | 18 | 61 |  89 | 1 |\n",
              "| 1192 | 106 | 312 | 0 | 24 | 62 | 135 | 1 |\n",
              "| 1195 | 103 | 273 | 0 | 36 | 65 | 158 | 1 |\n",
              "| 1196 | 112 | 299 | 0 | 24 | 67 | 145 | 1 |\n",
              "| 1197 |  96 | 276 | 0 | 33 | 64 | 127 | 1 |\n",
              "| 1198 | 102 | 281 | 1 | 19 | 67 | 135 | 1 |\n",
              "| 1199 | 120 | 300 | 0 | 34 | 63 | 150 | 1 |\n",
              "| 1201 |  97 | 255 | 1 | 22 | 63 | 107 | 1 |\n",
              "| 1204 |  97 | 260 | 1 | 25 | 63 | 115 | 1 |\n",
              "| 1207 | 127 | 242 | 0 | 17 | 61 | 135 | 1 |\n",
              "| 1208 |  87 | 247 | 1 | 18 | 66 | 125 | 1 |\n",
              "| 1209 | 141 | 281 | 0 | 29 | 54 | 156 | 1 |\n",
              "| 1211 | 116 | 273 | 0 | 33 | 66 | 130 | 1 |\n",
              "| 1212 |  75 | 265 | 0 | 21 | 65 | 103 | 1 |\n",
              "| 1216 | 152 | 267 | 0 | 28 | 99 | 119 | 1 |\n",
              "| 1219 |  81 | 285 | 0 | 19 | 63 | 150 | 1 |\n",
              "| 1222 | 114 | 290 | 1 | 21 | 65 | 120 | 1 |\n",
              "| 1223 | 124 | 288 | 1 | 21 | 64 | 116 | 1 |\n",
              "| 1224 | 115 | 262 | 1 | 23 | 64 | 136 | 1 |\n",
              "| 1225 | 143 | 281 | 0 | 28 | 65 | 135 | 1 |\n",
              "| 1226 | 113 | 287 | 1 | 29 | 70 | 145 | 1 |\n",
              "| 1227 | 109 | 244 | 1 | 21 | 63 | 102 | 1 |\n",
              "| 1228 | 103 | 278 | 0 | 30 | 60 |  87 | 1 |\n",
              "| 1234 | 130 | 291 | 0 | 30 | 65 | 150 | 1 |\n",
              "\n"
            ],
            "text/plain": [
              "     bwt gestation parity age height weight smoke\n",
              "3    128 279       0      28  64     115    1    \n",
              "5    108 282       0      23  67     125    1    \n",
              "10   143 299       0      30  66     136    1    \n",
              "12   144 282       0      32  64     124    1    \n",
              "13   141 279       0      23  63     128    1    \n",
              "14   110 281       0      36  61      99    1    \n",
              "17    92 255       0      25  65     125    1    \n",
              "18   115 261       0      33  60     125    1    \n",
              "20   119 288       0      43  66     142    1    \n",
              "22   115 274       0      27  67     175    1    \n",
              "26   103 261       0      27  65     112    1    \n",
              "28   114 266       0      20  65     175    1    \n",
              "30   114 274       0      28  66     132    1    \n",
              "38   134 288       0      23  63      92    1    \n",
              "39   122 267       0      27  65     101    1    \n",
              "43   138 302       0      26  99     999    1    \n",
              "45    87 248       0      37  65     130    1    \n",
              "46   143 274       0      27  63     110    1    \n",
              "50   145 291       0      26  63     119    1    \n",
              "52   108 283       0      31  65     148    1    \n",
              "57   124 278       0      26  70     145    1    \n",
              "63   122 280       0      23  65     125    1    \n",
              "64   101 245       0      23  63     130    1    \n",
              "65   128 283       0      28  63     125    1    \n",
              "66   104 282       0      36  65     115    1    \n",
              "68   137 274       0      26  69     137    1    \n",
              "69   103 273       0      31  63     170    1    \n",
              "73   133 284       0      25  66     125    1    \n",
              "75    91 270       0      24  60     149    1    \n",
              "77   153 286       0      26  63     107    1    \n",
              "⋮    ⋮   ⋮         ⋮      ⋮   ⋮      ⋮      ⋮    \n",
              "1176 138 292       0      25  65     130    1    \n",
              "1177  88 276       0      25  63     103    1    \n",
              "1180  82 274       0      31  64     101    1    \n",
              "1183  97 269       0      20  65     137    1    \n",
              "1187 116 274       0      21  62     110    1    \n",
              "1188 132 302       0      36  63     145    1    \n",
              "1190 119 277       1      18  61      89    1    \n",
              "1192 106 312       0      24  62     135    1    \n",
              "1195 103 273       0      36  65     158    1    \n",
              "1196 112 299       0      24  67     145    1    \n",
              "1197  96 276       0      33  64     127    1    \n",
              "1198 102 281       1      19  67     135    1    \n",
              "1199 120 300       0      34  63     150    1    \n",
              "1201  97 255       1      22  63     107    1    \n",
              "1204  97 260       1      25  63     115    1    \n",
              "1207 127 242       0      17  61     135    1    \n",
              "1208  87 247       1      18  66     125    1    \n",
              "1209 141 281       0      29  54     156    1    \n",
              "1211 116 273       0      33  66     130    1    \n",
              "1212  75 265       0      21  65     103    1    \n",
              "1216 152 267       0      28  99     119    1    \n",
              "1219  81 285       0      19  63     150    1    \n",
              "1222 114 290       1      21  65     120    1    \n",
              "1223 124 288       1      21  64     116    1    \n",
              "1224 115 262       1      23  64     136    1    \n",
              "1225 143 281       0      28  65     135    1    \n",
              "1226 113 287       1      29  70     145    1    \n",
              "1227 109 244       1      21  63     102    1    \n",
              "1228 103 278       0      30  60      87    1    \n",
              "1234 130 291       0      30  65     150    1    "
            ]
          },
          "metadata": {
            "tags": []
          },
          "output_type": "display_data"
        }
      ],
      "source": [
        "data.smoker = data[smoker.ind,]\n",
        "nonsmoker.ind = setdiff(rownames(data), smoker.ind) #returns every row, excluding the rows in smoker.ind\n",
        "data.nonsmoker = data[nonsmoker.ind,]\n",
        "data.smoker"
      ]
    },
    {
      "cell_type": "code",
      "execution_count": null,
      "metadata": {
        "colab": {
          "base_uri": "https://localhost:8080/",
          "height": 260
        },
        "id": "9vcm20CBX8Fg",
        "outputId": "4af72e3c-eb9f-4c59-8baf-fc6a798f761c",
        "vscode": {
          "languageId": "r"
        }
      },
      "outputs": [
        {
          "data": {
            "text/plain": [
              "      bwt          gestation         parity          age            height     \n",
              " Min.   : 58.0   Min.   :223.0   Min.   :0.00   Min.   :15.00   Min.   :53.00  \n",
              " 1st Qu.:102.0   1st Qu.:271.0   1st Qu.:0.00   1st Qu.:22.00   1st Qu.:63.00  \n",
              " Median :115.0   Median :279.0   Median :0.00   Median :26.00   Median :64.00  \n",
              " Mean   :114.1   Mean   :283.9   Mean   :0.25   Mean   :26.88   Mean   :65.03  \n",
              " 3rd Qu.:126.0   3rd Qu.:286.0   3rd Qu.:0.25   3rd Qu.:30.00   3rd Qu.:66.00  \n",
              " Max.   :163.0   Max.   :999.0   Max.   :1.00   Max.   :99.00   Max.   :99.00  \n",
              "     weight          smoke  \n",
              " Min.   : 87.0   Min.   :1  \n",
              " 1st Qu.:112.0   1st Qu.:1  \n",
              " Median :125.0   Median :1  \n",
              " Mean   :161.1   Mean   :1  \n",
              " 3rd Qu.:140.0   3rd Qu.:1  \n",
              " Max.   :999.0   Max.   :1  "
            ]
          },
          "metadata": {
            "tags": []
          },
          "output_type": "display_data"
        }
      ],
      "source": [
        "#compare the summary statistics between smokers and nonsmokers\n",
        "summary(data.smoker)"
      ]
    },
    {
      "cell_type": "code",
      "execution_count": null,
      "metadata": {
        "colab": {
          "base_uri": "https://localhost:8080/",
          "height": 260
        },
        "id": "t2JJK93sYt7V",
        "outputId": "ce85ce5b-6528-4471-ecad-4982543ff5d2",
        "vscode": {
          "languageId": "r"
        }
      },
      "outputs": [
        {
          "data": {
            "text/plain": [
              "      bwt          gestation         parity           age       \n",
              " Min.   : 55.0   Min.   :148.0   Min.   :0.000   Min.   :17.00  \n",
              " 1st Qu.:113.0   1st Qu.:273.0   1st Qu.:0.000   1st Qu.:23.00  \n",
              " Median :123.5   Median :281.0   Median :0.000   Median :27.00  \n",
              " Mean   :123.1   Mean   :288.8   Mean   :0.258   Mean   :27.69  \n",
              " 3rd Qu.:134.0   3rd Qu.:289.0   3rd Qu.:1.000   3rd Qu.:31.00  \n",
              " Max.   :176.0   Max.   :999.0   Max.   :1.000   Max.   :99.00  \n",
              "     height          weight          smoke       \n",
              " Min.   :56.00   Min.   : 89.0   Min.   :0.0000  \n",
              " 1st Qu.:62.00   1st Qu.:115.0   1st Qu.:0.0000  \n",
              " Median :64.00   Median :127.0   Median :0.0000  \n",
              " Mean   :64.44   Mean   :149.4   Mean   :0.1197  \n",
              " 3rd Qu.:66.00   3rd Qu.:140.0   3rd Qu.:0.0000  \n",
              " Max.   :99.00   Max.   :999.0   Max.   :9.0000  "
            ]
          },
          "metadata": {
            "tags": []
          },
          "output_type": "display_data"
        }
      ],
      "source": [
        "summary(data.nonsmoker)"
      ]
    },
    {
      "cell_type": "code",
      "execution_count": null,
      "metadata": {
        "colab": {
          "base_uri": "https://localhost:8080/",
          "height": 437
        },
        "id": "g2EKn1C-cdKM",
        "outputId": "c5752e1f-9aca-418e-ffb9-ed2f0256ec29",
        "vscode": {
          "languageId": "r"
        }
      },
      "outputs": [
        {
          "data": {
            "image/png": "[encoded data removed]",
            "text/plain": [
              "Plot with title “Histogram of data$bwt”"
            ]
          },
          "metadata": {
            "image/png": {
              "height": 420,
              "width": 420
            },
            "tags": []
          },
          "output_type": "display_data"
        }
      ],
      "source": [
        "# Graphing\n",
        "hist(data$bwt)"
      ]
    },
    {
      "cell_type": "code",
      "execution_count": null,
      "metadata": {
        "colab": {
          "base_uri": "https://localhost:8080/",
          "height": 437
        },
        "id": "gQMvChBwYx-A",
        "outputId": "e7d9512a-a338-4c8f-924c-9ac3e075ea0b",
        "vscode": {
          "languageId": "r"
        }
      },
      "outputs": [
        {
          "data": {
            "image/png": "[encoded data removed]",
            "text/plain": [
              "Plot with title “Histogram of data.smoker$bwt”"
            ]
          },
          "metadata": {
            "image/png": {
              "height": 420,
              "width": 420
            },
            "tags": []
          },
          "output_type": "display_data"
        }
      ],
      "source": [
        "# Smokers\n",
        "hist(data.smoker$bwt)"
      ]
    },
    {
      "cell_type": "code",
      "execution_count": null,
      "metadata": {
        "colab": {
          "base_uri": "https://localhost:8080/",
          "height": 437
        },
        "id": "OfEh95qiY5cl",
        "outputId": "3e67ac54-58ec-45ff-b55e-60da22424d4c",
        "vscode": {
          "languageId": "r"
        }
      },
      "outputs": [
        {
          "data": {
            "image/png": "[encoded data removed]",
            "text/plain": [
              "Plot with title “Histogram of data.nonsmoker$bwt”"
            ]
          },
          "metadata": {
            "image/png": {
              "height": 420,
              "width": 420
            },
            "tags": []
          },
          "output_type": "display_data"
        }
      ],
      "source": [
        "# Nonsmokers\n",
        "hist(data.nonsmoker$bwt)"
      ]
    },
    {
      "cell_type": "code",
      "execution_count": null,
      "metadata": {
        "colab": {
          "base_uri": "https://localhost:8080/"
        },
        "id": "eA5BHaNUY-Ee",
        "outputId": "a6eaa721-f1aa-4c56-c6f1-71932e5c393e",
        "vscode": {
          "languageId": "r"
        }
      },
      "outputs": [
        {
          "name": "stderr",
          "output_type": "stream",
          "text": [
            "Installing package into ‘/usr/local/lib/R/site-library’\n",
            "(as ‘lib’ is unspecified)\n",
            "\n"
          ]
        }
      ],
      "source": [
        "# Install this package to create cooler plots. You may have to do this each time a new runtime is made, unfortunately.\n",
        "install.packages('ggplot2',repos=\"http://cran.rstudio.com/\")\n",
        "library(ggplot2)"
      ]
    },
    {
      "cell_type": "code",
      "execution_count": null,
      "metadata": {
        "colab": {
          "base_uri": "https://localhost:8080/",
          "height": 472
        },
        "id": "R8w5z0h6ZGwa",
        "outputId": "228a2985-c391-484f-be7a-daa4f128410b",
        "vscode": {
          "languageId": "r"
        }
      },
      "outputs": [
        {
          "name": "stderr",
          "output_type": "stream",
          "text": [
            "`stat_bin()` using `bins = 30`. Pick better value with `binwidth`.\n",
            "\n"
          ]
        },
        {
          "data": {
            "image/png": "[encoded data removed]",
            "text/plain": [
              "plot without title"
            ]
          },
          "metadata": {
            "image/png": {
              "height": 420,
              "width": 420
            },
            "tags": []
          },
          "output_type": "display_data"
        }
      ],
      "source": [
        "ggplot(data, aes(bwt)) + geom_histogram()"
      ]
    },
    {
      "cell_type": "code",
      "execution_count": null,
      "metadata": {
        "colab": {
          "base_uri": "https://localhost:8080/",
          "height": 437
        },
        "id": "A525mLx6ZO7F",
        "outputId": "4ff2c395-4bec-4a0a-d4a2-e067028c7704",
        "vscode": {
          "languageId": "r"
        }
      },
      "outputs": [
        {
          "data": {
            "image/png": "[encoded data removed]",
            "text/plain": [
              "plot without title"
            ]
          },
          "metadata": {
            "image/png": {
              "height": 420,
              "width": 420
            },
            "tags": []
          },
          "output_type": "display_data"
        }
      ],
      "source": [
        "boxplot(bwt~smoke, data)\n",
        "# What's this 9? ... It's an extraneous (irregular) value. You should remove it."
      ]
    },
    {
      "cell_type": "code",
      "execution_count": null,
      "metadata": {
        "colab": {
          "base_uri": "https://localhost:8080/",
          "height": 403
        },
        "id": "R-5LHaQZZTCq",
        "outputId": "a8a68f4d-caaa-4ee6-f09b-43d339e23fe9",
        "vscode": {
          "languageId": "r"
        }
      },
      "outputs": [
        {
          "data": {
            "text/html": [
              "<table class=\"dataframe\">\n",
              "<caption>A data.frame: 10 × 7</caption>\n",
              "<thead>\n",
              "\t<tr><th></th><th scope=col>bwt</th><th scope=col>gestation</th><th scope=col>parity</th><th scope=col>age</th><th scope=col>height</th><th scope=col>weight</th><th scope=col>smoke</th></tr>\n",
              "\t<tr><th></th><th scope=col>&lt;int&gt;</th><th scope=col>&lt;int&gt;</th><th scope=col>&lt;int&gt;</th><th scope=col>&lt;int&gt;</th><th scope=col>&lt;int&gt;</th><th scope=col>&lt;int&gt;</th><th scope=col>&lt;int&gt;</th></tr>\n",
              "</thead>\n",
              "<tbody>\n",
              "\t<tr><th scope=row>170</th><td>126</td><td>293</td><td>0</td><td>29</td><td>59</td><td>110</td><td>9</td></tr>\n",
              "\t<tr><th scope=row>219</th><td> 90</td><td>269</td><td>0</td><td>26</td><td>67</td><td>125</td><td>9</td></tr>\n",
              "\t<tr><th scope=row>255</th><td>130</td><td>274</td><td>0</td><td>26</td><td>64</td><td>185</td><td>9</td></tr>\n",
              "\t<tr><th scope=row>256</th><td>106</td><td>275</td><td>0</td><td>31</td><td>65</td><td>142</td><td>9</td></tr>\n",
              "\t<tr><th scope=row>433</th><td>115</td><td>269</td><td>0</td><td>30</td><td>62</td><td>115</td><td>9</td></tr>\n",
              "\t<tr><th scope=row>601</th><td>142</td><td>284</td><td>0</td><td>37</td><td>68</td><td>155</td><td>9</td></tr>\n",
              "\t<tr><th scope=row>642</th><td>151</td><td>298</td><td>0</td><td>37</td><td>64</td><td>135</td><td>9</td></tr>\n",
              "\t<tr><th scope=row>666</th><td>141</td><td>292</td><td>0</td><td>29</td><td>62</td><td>110</td><td>9</td></tr>\n",
              "\t<tr><th scope=row>672</th><td>158</td><td>296</td><td>0</td><td>28</td><td>66</td><td>140</td><td>9</td></tr>\n",
              "\t<tr><th scope=row>921</th><td>108</td><td>274</td><td>0</td><td>28</td><td>66</td><td>175</td><td>9</td></tr>\n",
              "</tbody>\n",
              "</table>\n"
            ],
            "text/latex": [
              "A data.frame: 10 × 7\n",
              "\\begin{tabular}{r|lllllll}\n",
              "  & bwt & gestation & parity & age & height & weight & smoke\\\\\n",
              "  & <int> & <int> & <int> & <int> & <int> & <int> & <int>\\\\\n",
              "\\hline\n",
              "\t170 & 126 & 293 & 0 & 29 & 59 & 110 & 9\\\\\n",
              "\t219 &  90 & 269 & 0 & 26 & 67 & 125 & 9\\\\\n",
              "\t255 & 130 & 274 & 0 & 26 & 64 & 185 & 9\\\\\n",
              "\t256 & 106 & 275 & 0 & 31 & 65 & 142 & 9\\\\\n",
              "\t433 & 115 & 269 & 0 & 30 & 62 & 115 & 9\\\\\n",
              "\t601 & 142 & 284 & 0 & 37 & 68 & 155 & 9\\\\\n",
              "\t642 & 151 & 298 & 0 & 37 & 64 & 135 & 9\\\\\n",
              "\t666 & 141 & 292 & 0 & 29 & 62 & 110 & 9\\\\\n",
              "\t672 & 158 & 296 & 0 & 28 & 66 & 140 & 9\\\\\n",
              "\t921 & 108 & 274 & 0 & 28 & 66 & 175 & 9\\\\\n",
              "\\end{tabular}\n"
            ],
            "text/markdown": [
              "\n",
              "A data.frame: 10 × 7\n",
              "\n",
              "| <!--/--> | bwt &lt;int&gt; | gestation &lt;int&gt; | parity &lt;int&gt; | age &lt;int&gt; | height &lt;int&gt; | weight &lt;int&gt; | smoke &lt;int&gt; |\n",
              "|---|---|---|---|---|---|---|---|\n",
              "| 170 | 126 | 293 | 0 | 29 | 59 | 110 | 9 |\n",
              "| 219 |  90 | 269 | 0 | 26 | 67 | 125 | 9 |\n",
              "| 255 | 130 | 274 | 0 | 26 | 64 | 185 | 9 |\n",
              "| 256 | 106 | 275 | 0 | 31 | 65 | 142 | 9 |\n",
              "| 433 | 115 | 269 | 0 | 30 | 62 | 115 | 9 |\n",
              "| 601 | 142 | 284 | 0 | 37 | 68 | 155 | 9 |\n",
              "| 642 | 151 | 298 | 0 | 37 | 64 | 135 | 9 |\n",
              "| 666 | 141 | 292 | 0 | 29 | 62 | 110 | 9 |\n",
              "| 672 | 158 | 296 | 0 | 28 | 66 | 140 | 9 |\n",
              "| 921 | 108 | 274 | 0 | 28 | 66 | 175 | 9 |\n",
              "\n"
            ],
            "text/plain": [
              "    bwt gestation parity age height weight smoke\n",
              "170 126 293       0      29  59     110    9    \n",
              "219  90 269       0      26  67     125    9    \n",
              "255 130 274       0      26  64     185    9    \n",
              "256 106 275       0      31  65     142    9    \n",
              "433 115 269       0      30  62     115    9    \n",
              "601 142 284       0      37  68     155    9    \n",
              "642 151 298       0      37  64     135    9    \n",
              "666 141 292       0      29  62     110    9    \n",
              "672 158 296       0      28  66     140    9    \n",
              "921 108 274       0      28  66     175    9    "
            ]
          },
          "metadata": {
            "tags": []
          },
          "output_type": "display_data"
        }
      ],
      "source": [
        "irreg.index = which(data$smoke == 9) # find the row indices with smoke = 9\n",
        "data.irregular = data[irreg.index,] # dataframe with only the rows with smoke = 9\n",
        "data.irregular"
      ]
    },
    {
      "cell_type": "code",
      "execution_count": null,
      "metadata": {
        "colab": {
          "base_uri": "https://localhost:8080/",
          "height": 35
        },
        "id": "esiO7qogZqNC",
        "outputId": "8121fa06-9dcb-49c9-d84f-457646cafb66",
        "vscode": {
          "languageId": "r"
        }
      },
      "outputs": [
        {
          "data": {
            "text/html": [
              "<strong>10%:</strong> 97"
            ],
            "text/latex": [
              "\\textbf{10\\textbackslash{}\\%:} 97"
            ],
            "text/markdown": [
              "**10%:** 97"
            ],
            "text/plain": [
              "10% \n",
              " 97 "
            ]
          },
          "metadata": {
            "tags": []
          },
          "output_type": "display_data"
        }
      ],
      "source": [
        "# find the 10th percentile\n",
        "quantile(data$bwt, 0.1)"
      ]
    },
    {
      "cell_type": "code",
      "execution_count": null,
      "metadata": {
        "colab": {
          "base_uri": "https://localhost:8080/",
          "height": 437
        },
        "id": "5VGy9swGZ3G8",
        "outputId": "195c8c33-a84d-451d-887b-362ae4a2af46",
        "vscode": {
          "languageId": "r"
        }
      },
      "outputs": [
        {
          "data": {
            "image/png": "[encoded data removed]",
            "text/plain": [
              "Plot with title “Normal Q-Q Plot”"
            ]
          },
          "metadata": {
            "image/png": {
              "height": 420,
              "width": 420
            },
            "tags": []
          },
          "output_type": "display_data"
        }
      ],
      "source": [
        "# create a quantile-quantile plot\n",
        "qqnorm(data$bwt) # the normal distribution\n",
        "qqline(data$bwt) # our distribution"
      ]
    },
    {
      "cell_type": "code",
      "execution_count": null,
      "metadata": {
        "colab": {
          "base_uri": "https://localhost:8080/",
          "height": 437
        },
        "id": "9wJ4nv_YaCCF",
        "outputId": "fd35523a-9134-4ff7-82dc-6e49d47cd415",
        "vscode": {
          "languageId": "r"
        }
      },
      "outputs": [
        {
          "data": {
            "image/png": "[encoded data removed]",
            "text/plain": [
              "plot without title"
            ]
          },
          "metadata": {
            "image/png": {
              "height": 420,
              "width": 420
            },
            "tags": []
          },
          "output_type": "display_data"
        }
      ],
      "source": [
        "qqplot(data.smoker$bwt, data.nonsmoker$bwt) # q-q plot of smoker and non-smoker samples\n",
        "abline(c(0,1)) # reference line. If the dotted line is reliable above/below this reference...\n",
        "# then the mean of the birthweights (smoker) is different from the mean of the birthweights (nonsmoker)"
      ]
    },
    {
      "cell_type": "code",
      "execution_count": null,
      "metadata": {
        "colab": {
          "base_uri": "https://localhost:8080/",
          "height": 281
        },
        "id": "FlIrxvT_aYJJ",
        "outputId": "ee758298-1a25-4d45-c21d-d30f7097147a",
        "vscode": {
          "languageId": "r"
        }
      },
      "outputs": [
        {
          "data": {
            "text/html": [
              "<table class=\"dataframe\">\n",
              "<caption>A data.frame: 6 × 7</caption>\n",
              "<thead>\n",
              "\t<tr><th></th><th scope=col>bwt</th><th scope=col>gestation</th><th scope=col>parity</th><th scope=col>age</th><th scope=col>height</th><th scope=col>weight</th><th scope=col>smoke</th></tr>\n",
              "\t<tr><th></th><th scope=col>&lt;int&gt;</th><th scope=col>&lt;int&gt;</th><th scope=col>&lt;int&gt;</th><th scope=col>&lt;int&gt;</th><th scope=col>&lt;int&gt;</th><th scope=col>&lt;int&gt;</th><th scope=col>&lt;int&gt;</th></tr>\n",
              "</thead>\n",
              "<tbody>\n",
              "\t<tr><th scope=row>1</th><td>120</td><td>284</td><td>0</td><td>27</td><td>62</td><td>100</td><td>0</td></tr>\n",
              "\t<tr><th scope=row>2</th><td>113</td><td>282</td><td>0</td><td>33</td><td>64</td><td>135</td><td>0</td></tr>\n",
              "\t<tr><th scope=row>3</th><td>128</td><td>279</td><td>0</td><td>28</td><td>64</td><td>115</td><td>1</td></tr>\n",
              "\t<tr><th scope=row>4</th><td>123</td><td>999</td><td>0</td><td>36</td><td>69</td><td>190</td><td>0</td></tr>\n",
              "\t<tr><th scope=row>5</th><td>108</td><td>282</td><td>0</td><td>23</td><td>67</td><td>125</td><td>1</td></tr>\n",
              "\t<tr><th scope=row>6</th><td>136</td><td>286</td><td>0</td><td>25</td><td>62</td><td> 93</td><td>0</td></tr>\n",
              "</tbody>\n",
              "</table>\n"
            ],
            "text/latex": [
              "A data.frame: 6 × 7\n",
              "\\begin{tabular}{r|lllllll}\n",
              "  & bwt & gestation & parity & age & height & weight & smoke\\\\\n",
              "  & <int> & <int> & <int> & <int> & <int> & <int> & <int>\\\\\n",
              "\\hline\n",
              "\t1 & 120 & 284 & 0 & 27 & 62 & 100 & 0\\\\\n",
              "\t2 & 113 & 282 & 0 & 33 & 64 & 135 & 0\\\\\n",
              "\t3 & 128 & 279 & 0 & 28 & 64 & 115 & 1\\\\\n",
              "\t4 & 123 & 999 & 0 & 36 & 69 & 190 & 0\\\\\n",
              "\t5 & 108 & 282 & 0 & 23 & 67 & 125 & 1\\\\\n",
              "\t6 & 136 & 286 & 0 & 25 & 62 &  93 & 0\\\\\n",
              "\\end{tabular}\n"
            ],
            "text/markdown": [
              "\n",
              "A data.frame: 6 × 7\n",
              "\n",
              "| <!--/--> | bwt &lt;int&gt; | gestation &lt;int&gt; | parity &lt;int&gt; | age &lt;int&gt; | height &lt;int&gt; | weight &lt;int&gt; | smoke &lt;int&gt; |\n",
              "|---|---|---|---|---|---|---|---|\n",
              "| 1 | 120 | 284 | 0 | 27 | 62 | 100 | 0 |\n",
              "| 2 | 113 | 282 | 0 | 33 | 64 | 135 | 0 |\n",
              "| 3 | 128 | 279 | 0 | 28 | 64 | 115 | 1 |\n",
              "| 4 | 123 | 999 | 0 | 36 | 69 | 190 | 0 |\n",
              "| 5 | 108 | 282 | 0 | 23 | 67 | 125 | 1 |\n",
              "| 6 | 136 | 286 | 0 | 25 | 62 |  93 | 0 |\n",
              "\n"
            ],
            "text/plain": [
              "  bwt gestation parity age height weight smoke\n",
              "1 120 284       0      27  62     100    0    \n",
              "2 113 282       0      33  64     135    0    \n",
              "3 128 279       0      28  64     115    1    \n",
              "4 123 999       0      36  69     190    0    \n",
              "5 108 282       0      23  67     125    1    \n",
              "6 136 286       0      25  62      93    0    "
            ]
          },
          "metadata": {
            "tags": []
          },
          "output_type": "display_data"
        }
      ],
      "source": [
        "head(data)"
      ]
    },
    {
      "cell_type": "code",
      "execution_count": null,
      "metadata": {
        "colab": {
          "base_uri": "https://localhost:8080/",
          "height": 281
        },
        "id": "XFRT6PV7l4jJ",
        "outputId": "e67d3c9e-d1bc-41b6-8b84-014903110133",
        "vscode": {
          "languageId": "r"
        }
      },
      "outputs": [
        {
          "data": {
            "text/html": [
              "<table class=\"dataframe\">\n",
              "<caption>A data.frame: 6 × 7</caption>\n",
              "<thead>\n",
              "\t<tr><th></th><th scope=col>bwt</th><th scope=col>gestation</th><th scope=col>parity</th><th scope=col>age</th><th scope=col>height</th><th scope=col>weight</th><th scope=col>smoke</th></tr>\n",
              "\t<tr><th></th><th scope=col>&lt;int&gt;</th><th scope=col>&lt;int&gt;</th><th scope=col>&lt;int&gt;</th><th scope=col>&lt;int&gt;</th><th scope=col>&lt;int&gt;</th><th scope=col>&lt;int&gt;</th><th scope=col>&lt;int&gt;</th></tr>\n",
              "</thead>\n",
              "<tbody>\n",
              "\t<tr><th scope=row>3</th><td>128</td><td>279</td><td>0</td><td>28</td><td>64</td><td>115</td><td>1</td></tr>\n",
              "\t<tr><th scope=row>5</th><td>108</td><td>282</td><td>0</td><td>23</td><td>67</td><td>125</td><td>1</td></tr>\n",
              "\t<tr><th scope=row>10</th><td>143</td><td>299</td><td>0</td><td>30</td><td>66</td><td>136</td><td>1</td></tr>\n",
              "\t<tr><th scope=row>12</th><td>144</td><td>282</td><td>0</td><td>32</td><td>64</td><td>124</td><td>1</td></tr>\n",
              "\t<tr><th scope=row>13</th><td>141</td><td>279</td><td>0</td><td>23</td><td>63</td><td>128</td><td>1</td></tr>\n",
              "\t<tr><th scope=row>14</th><td>110</td><td>281</td><td>0</td><td>36</td><td>61</td><td> 99</td><td>1</td></tr>\n",
              "</tbody>\n",
              "</table>\n"
            ],
            "text/latex": [
              "A data.frame: 6 × 7\n",
              "\\begin{tabular}{r|lllllll}\n",
              "  & bwt & gestation & parity & age & height & weight & smoke\\\\\n",
              "  & <int> & <int> & <int> & <int> & <int> & <int> & <int>\\\\\n",
              "\\hline\n",
              "\t3 & 128 & 279 & 0 & 28 & 64 & 115 & 1\\\\\n",
              "\t5 & 108 & 282 & 0 & 23 & 67 & 125 & 1\\\\\n",
              "\t10 & 143 & 299 & 0 & 30 & 66 & 136 & 1\\\\\n",
              "\t12 & 144 & 282 & 0 & 32 & 64 & 124 & 1\\\\\n",
              "\t13 & 141 & 279 & 0 & 23 & 63 & 128 & 1\\\\\n",
              "\t14 & 110 & 281 & 0 & 36 & 61 &  99 & 1\\\\\n",
              "\\end{tabular}\n"
            ],
            "text/markdown": [
              "\n",
              "A data.frame: 6 × 7\n",
              "\n",
              "| <!--/--> | bwt &lt;int&gt; | gestation &lt;int&gt; | parity &lt;int&gt; | age &lt;int&gt; | height &lt;int&gt; | weight &lt;int&gt; | smoke &lt;int&gt; |\n",
              "|---|---|---|---|---|---|---|---|\n",
              "| 3 | 128 | 279 | 0 | 28 | 64 | 115 | 1 |\n",
              "| 5 | 108 | 282 | 0 | 23 | 67 | 125 | 1 |\n",
              "| 10 | 143 | 299 | 0 | 30 | 66 | 136 | 1 |\n",
              "| 12 | 144 | 282 | 0 | 32 | 64 | 124 | 1 |\n",
              "| 13 | 141 | 279 | 0 | 23 | 63 | 128 | 1 |\n",
              "| 14 | 110 | 281 | 0 | 36 | 61 |  99 | 1 |\n",
              "\n"
            ],
            "text/plain": [
              "   bwt gestation parity age height weight smoke\n",
              "3  128 279       0      28  64     115    1    \n",
              "5  108 282       0      23  67     125    1    \n",
              "10 143 299       0      30  66     136    1    \n",
              "12 144 282       0      32  64     124    1    \n",
              "13 141 279       0      23  63     128    1    \n",
              "14 110 281       0      36  61      99    1    "
            ]
          },
          "metadata": {
            "tags": []
          },
          "output_type": "display_data"
        }
      ],
      "source": [
        "# Splitting dataset into babies whose mothers smoked and babies whose mothers did not smoke.\n",
        "data.smoke = data[which(data$smoke == 1),]\n",
        "data.nosmoke = data[which(data$smoke == 0),]\n",
        "\n",
        "head(data.smoke)"
      ]
    },
    {
      "cell_type": "code",
      "execution_count": null,
      "metadata": {
        "colab": {
          "base_uri": "https://localhost:8080/",
          "height": 281
        },
        "id": "6d9U8Ez0mudw",
        "outputId": "d2576d83-f67b-4c9a-a370-95514b3984f7",
        "vscode": {
          "languageId": "r"
        }
      },
      "outputs": [
        {
          "data": {
            "text/html": [
              "<table class=\"dataframe\">\n",
              "<caption>A data.frame: 6 × 7</caption>\n",
              "<thead>\n",
              "\t<tr><th></th><th scope=col>bwt</th><th scope=col>gestation</th><th scope=col>parity</th><th scope=col>age</th><th scope=col>height</th><th scope=col>weight</th><th scope=col>smoke</th></tr>\n",
              "\t<tr><th></th><th scope=col>&lt;int&gt;</th><th scope=col>&lt;int&gt;</th><th scope=col>&lt;int&gt;</th><th scope=col>&lt;int&gt;</th><th scope=col>&lt;int&gt;</th><th scope=col>&lt;int&gt;</th><th scope=col>&lt;int&gt;</th></tr>\n",
              "</thead>\n",
              "<tbody>\n",
              "\t<tr><th scope=row>1</th><td>120</td><td>284</td><td>0</td><td>27</td><td>62</td><td>100</td><td>0</td></tr>\n",
              "\t<tr><th scope=row>2</th><td>113</td><td>282</td><td>0</td><td>33</td><td>64</td><td>135</td><td>0</td></tr>\n",
              "\t<tr><th scope=row>4</th><td>123</td><td>999</td><td>0</td><td>36</td><td>69</td><td>190</td><td>0</td></tr>\n",
              "\t<tr><th scope=row>6</th><td>136</td><td>286</td><td>0</td><td>25</td><td>62</td><td> 93</td><td>0</td></tr>\n",
              "\t<tr><th scope=row>7</th><td>138</td><td>244</td><td>0</td><td>33</td><td>62</td><td>178</td><td>0</td></tr>\n",
              "\t<tr><th scope=row>8</th><td>132</td><td>245</td><td>0</td><td>23</td><td>65</td><td>140</td><td>0</td></tr>\n",
              "</tbody>\n",
              "</table>\n"
            ],
            "text/latex": [
              "A data.frame: 6 × 7\n",
              "\\begin{tabular}{r|lllllll}\n",
              "  & bwt & gestation & parity & age & height & weight & smoke\\\\\n",
              "  & <int> & <int> & <int> & <int> & <int> & <int> & <int>\\\\\n",
              "\\hline\n",
              "\t1 & 120 & 284 & 0 & 27 & 62 & 100 & 0\\\\\n",
              "\t2 & 113 & 282 & 0 & 33 & 64 & 135 & 0\\\\\n",
              "\t4 & 123 & 999 & 0 & 36 & 69 & 190 & 0\\\\\n",
              "\t6 & 136 & 286 & 0 & 25 & 62 &  93 & 0\\\\\n",
              "\t7 & 138 & 244 & 0 & 33 & 62 & 178 & 0\\\\\n",
              "\t8 & 132 & 245 & 0 & 23 & 65 & 140 & 0\\\\\n",
              "\\end{tabular}\n"
            ],
            "text/markdown": [
              "\n",
              "A data.frame: 6 × 7\n",
              "\n",
              "| <!--/--> | bwt &lt;int&gt; | gestation &lt;int&gt; | parity &lt;int&gt; | age &lt;int&gt; | height &lt;int&gt; | weight &lt;int&gt; | smoke &lt;int&gt; |\n",
              "|---|---|---|---|---|---|---|---|\n",
              "| 1 | 120 | 284 | 0 | 27 | 62 | 100 | 0 |\n",
              "| 2 | 113 | 282 | 0 | 33 | 64 | 135 | 0 |\n",
              "| 4 | 123 | 999 | 0 | 36 | 69 | 190 | 0 |\n",
              "| 6 | 136 | 286 | 0 | 25 | 62 |  93 | 0 |\n",
              "| 7 | 138 | 244 | 0 | 33 | 62 | 178 | 0 |\n",
              "| 8 | 132 | 245 | 0 | 23 | 65 | 140 | 0 |\n",
              "\n"
            ],
            "text/plain": [
              "  bwt gestation parity age height weight smoke\n",
              "1 120 284       0      27  62     100    0    \n",
              "2 113 282       0      33  64     135    0    \n",
              "4 123 999       0      36  69     190    0    \n",
              "6 136 286       0      25  62      93    0    \n",
              "7 138 244       0      33  62     178    0    \n",
              "8 132 245       0      23  65     140    0    "
            ]
          },
          "metadata": {
            "tags": []
          },
          "output_type": "display_data"
        }
      ],
      "source": [
        "head(data.nosmoke)"
      ]
    },
    {
      "cell_type": "markdown",
      "metadata": {
        "id": "7mEjIf3TnXAw"
      },
      "source": [
        "data.smoke: the dataframe containing babies whose mothers smoked\n",
        "\n",
        "data.nosmoke: the dataframe containing babies whose mothers did not smoke"
      ]
    },
    {
      "cell_type": "markdown",
      "metadata": {
        "id": "DpK9yeKZwOxP"
      },
      "source": [
        "## Numerical Comparison"
      ]
    },
    {
      "cell_type": "code",
      "execution_count": null,
      "metadata": {
        "colab": {
          "base_uri": "https://localhost:8080/",
          "height": 260
        },
        "id": "fZ8CxhQkoxEa",
        "outputId": "f7ac5cd2-3f54-4785-f2bc-d8a40f5dc57b",
        "vscode": {
          "languageId": "r"
        }
      },
      "outputs": [
        {
          "data": {
            "text/plain": [
              "      bwt          gestation         parity            age       \n",
              " Min.   : 55.0   Min.   :148.0   Min.   :0.0000   Min.   :15.00  \n",
              " 1st Qu.:108.8   1st Qu.:272.0   1st Qu.:0.0000   1st Qu.:23.00  \n",
              " Median :120.0   Median :280.0   Median :0.0000   Median :26.00  \n",
              " Mean   :119.6   Mean   :286.9   Mean   :0.2549   Mean   :27.37  \n",
              " 3rd Qu.:131.0   3rd Qu.:288.0   3rd Qu.:1.0000   3rd Qu.:31.00  \n",
              " Max.   :176.0   Max.   :999.0   Max.   :1.0000   Max.   :99.00  \n",
              "     height          weight        smoke       \n",
              " Min.   :53.00   Min.   : 87   Min.   :0.0000  \n",
              " 1st Qu.:62.00   1st Qu.:115   1st Qu.:0.0000  \n",
              " Median :64.00   Median :126   Median :0.0000  \n",
              " Mean   :64.67   Mean   :154   Mean   :0.4644  \n",
              " 3rd Qu.:66.00   3rd Qu.:140   3rd Qu.:1.0000  \n",
              " Max.   :99.00   Max.   :999   Max.   :9.0000  "
            ]
          },
          "metadata": {
            "tags": []
          },
          "output_type": "display_data"
        }
      ],
      "source": [
        "summary(data)"
      ]
    },
    {
      "cell_type": "code",
      "execution_count": null,
      "metadata": {
        "colab": {
          "base_uri": "https://localhost:8080/",
          "height": 260
        },
        "id": "AnB7V_TPnQNV",
        "outputId": "390347a2-4d2c-465f-c95f-20fca56100bf",
        "vscode": {
          "languageId": "r"
        }
      },
      "outputs": [
        {
          "data": {
            "text/plain": [
              "      bwt          gestation         parity          age            height     \n",
              " Min.   : 58.0   Min.   :223.0   Min.   :0.00   Min.   :15.00   Min.   :53.00  \n",
              " 1st Qu.:102.0   1st Qu.:271.0   1st Qu.:0.00   1st Qu.:22.00   1st Qu.:63.00  \n",
              " Median :115.0   Median :279.0   Median :0.00   Median :26.00   Median :64.00  \n",
              " Mean   :114.1   Mean   :283.9   Mean   :0.25   Mean   :26.88   Mean   :65.03  \n",
              " 3rd Qu.:126.0   3rd Qu.:286.0   3rd Qu.:0.25   3rd Qu.:30.00   3rd Qu.:66.00  \n",
              " Max.   :163.0   Max.   :999.0   Max.   :1.00   Max.   :99.00   Max.   :99.00  \n",
              "     weight          smoke  \n",
              " Min.   : 87.0   Min.   :1  \n",
              " 1st Qu.:112.0   1st Qu.:1  \n",
              " Median :125.0   Median :1  \n",
              " Mean   :161.1   Mean   :1  \n",
              " 3rd Qu.:140.0   3rd Qu.:1  \n",
              " Max.   :999.0   Max.   :1  "
            ]
          },
          "metadata": {
            "tags": []
          },
          "output_type": "display_data"
        }
      ],
      "source": [
        "summary(data.smoke)"
      ]
    },
    {
      "cell_type": "code",
      "execution_count": null,
      "metadata": {
        "colab": {
          "base_uri": "https://localhost:8080/",
          "height": 35
        },
        "id": "PugRwcOcvWtF",
        "outputId": "5c7e5773-45ea-4854-b4cb-4f954b691121",
        "vscode": {
          "languageId": "r"
        }
      },
      "outputs": [
        {
          "data": {
            "text/html": [
              "18.0989456861524"
            ],
            "text/latex": [
              "18.0989456861524"
            ],
            "text/markdown": [
              "18.0989456861524"
            ],
            "text/plain": [
              "[1] 18.09895"
            ]
          },
          "metadata": {
            "tags": []
          },
          "output_type": "display_data"
        }
      ],
      "source": [
        "sd(data.smoke$bwt)"
      ]
    },
    {
      "cell_type": "code",
      "execution_count": null,
      "metadata": {
        "colab": {
          "base_uri": "https://localhost:8080/",
          "height": 260
        },
        "id": "2YOApKPjnWfj",
        "outputId": "43cbc099-1ee8-4774-f38d-428184873b91",
        "vscode": {
          "languageId": "r"
        }
      },
      "outputs": [
        {
          "data": {
            "text/plain": [
              "      bwt        gestation         parity            age            height     \n",
              " Min.   : 55   Min.   :148.0   Min.   :0.0000   Min.   :17.00   Min.   :56.00  \n",
              " 1st Qu.:113   1st Qu.:273.0   1st Qu.:0.0000   1st Qu.:23.00   1st Qu.:62.00  \n",
              " Median :123   Median :281.0   Median :0.0000   Median :27.00   Median :64.00  \n",
              " Mean   :123   Mean   :288.9   Mean   :0.2615   Mean   :27.66   Mean   :64.44  \n",
              " 3rd Qu.:134   3rd Qu.:289.0   3rd Qu.:1.0000   3rd Qu.:31.00   3rd Qu.:66.00  \n",
              " Max.   :176   Max.   :999.0   Max.   :1.0000   Max.   :99.00   Max.   :99.00  \n",
              "     weight          smoke  \n",
              " Min.   : 89.0   Min.   :0  \n",
              " 1st Qu.:115.0   1st Qu.:0  \n",
              " Median :127.0   Median :0  \n",
              " Mean   :149.6   Mean   :0  \n",
              " 3rd Qu.:140.0   3rd Qu.:0  \n",
              " Max.   :999.0   Max.   :0  "
            ]
          },
          "metadata": {
            "tags": []
          },
          "output_type": "display_data"
        }
      ],
      "source": [
        "summary(data.nosmoke)"
      ]
    },
    {
      "cell_type": "code",
      "execution_count": null,
      "metadata": {
        "colab": {
          "base_uri": "https://localhost:8080/",
          "height": 35
        },
        "id": "wir3JEyqvcey",
        "outputId": "6494812e-6655-460e-bc5e-e91299754862",
        "vscode": {
          "languageId": "r"
        }
      },
      "outputs": [
        {
          "data": {
            "text/html": [
              "17.3986887780803"
            ],
            "text/latex": [
              "17.3986887780803"
            ],
            "text/markdown": [
              "17.3986887780803"
            ],
            "text/plain": [
              "[1] 17.39869"
            ]
          },
          "metadata": {
            "tags": []
          },
          "output_type": "display_data"
        }
      ],
      "source": [
        "sd(data.nosmoke$bwt)"
      ]
    },
    {
      "cell_type": "markdown",
      "metadata": {
        "id": "2PgK4jMCwVHF"
      },
      "source": [
        "## Graphical Comparison"
      ]
    },
    {
      "cell_type": "markdown",
      "metadata": {
        "id": "vU3VyBuY0q91"
      },
      "source": [
        "Boxplot of the entire dataset (only the birthweight variable is shown):"
      ]
    },
    {
      "cell_type": "code",
      "execution_count": null,
      "metadata": {
        "colab": {
          "base_uri": "https://localhost:8080/",
          "height": 437
        },
        "id": "wPgCJKRq0OZj",
        "outputId": "299070aa-4048-4161-d62b-a7667aafb200",
        "vscode": {
          "languageId": "r"
        }
      },
      "outputs": [
        {
          "data": {
            "image/png": "[encoded data removed]",
            "text/plain": [
              "plot without title"
            ]
          },
          "metadata": {
            "image/png": {
              "height": 420,
              "width": 420
            },
            "tags": []
          },
          "output_type": "display_data"
        }
      ],
      "source": [
        "boxplot(data$bwt,ylab='birthweight (oz)')"
      ]
    },
    {
      "cell_type": "markdown",
      "metadata": {
        "id": "VMqQFqSjz18a"
      },
      "source": [
        "Histogram of the entire dataset:"
      ]
    },
    {
      "cell_type": "code",
      "execution_count": null,
      "metadata": {
        "colab": {
          "base_uri": "https://localhost:8080/",
          "height": 437
        },
        "id": "cB1iNle-z0SI",
        "outputId": "8624a3f8-d678-4606-c250-0196510a5edc",
        "vscode": {
          "languageId": "r"
        }
      },
      "outputs": [
        {
          "data": {
            "image/png": "[encoded data removed]",
            "text/plain": [
              "Plot with title “Histogram of data$bwt”"
            ]
          },
          "metadata": {
            "image/png": {
              "height": 420,
              "width": 420
            },
            "tags": []
          },
          "output_type": "display_data"
        }
      ],
      "source": [
        "hist(data$bwt)"
      ]
    },
    {
      "cell_type": "code",
      "execution_count": null,
      "metadata": {
        "colab": {
          "base_uri": "https://localhost:8080/",
          "height": 437
        },
        "id": "g6N3nxkq6E89",
        "outputId": "f7d80b74-3203-4f5c-df16-99849cb9a260",
        "vscode": {
          "languageId": "r"
        }
      },
      "outputs": [
        {
          "data": {
            "image/png": "[encoded data removed]",
            "text/plain": [
              "Plot with title “Histogram of normalized_entire_bwt”"
            ]
          },
          "metadata": {
            "image/png": {
              "height": 420,
              "width": 420
            },
            "tags": []
          },
          "output_type": "display_data"
        }
      ],
      "source": [
        "#trying to figure out how to add a normal curve\n",
        "#maybe need to normalize the histogram first?\n",
        "entire_mean = mean(data$bwt)\n",
        "entire_sd = sd(data$bwt)\n",
        "normalized_entire_bwt = (data$bwt - entire_mean)/entire_sd\n",
        "hist(normalized_entire_bwt,freq=FALSE)\n",
        "curve(dnorm(x),-4,4,col='red',add=TRUE)"
      ]
    },
    {
      "cell_type": "code",
      "execution_count": null,
      "metadata": {
        "colab": {
          "base_uri": "https://localhost:8080/",
          "height": 35
        },
        "id": "fZ7cHQCJJ0rd",
        "outputId": "0757b5d0-4291-4c23-c3aa-ce385ae9fbf4",
        "vscode": {
          "languageId": "r"
        }
      },
      "outputs": [
        {
          "data": {
            "text/html": [
              "18.2364518669726"
            ],
            "text/latex": [
              "18.2364518669726"
            ],
            "text/markdown": [
              "18.2364518669726"
            ],
            "text/plain": [
              "[1] 18.23645"
            ]
          },
          "metadata": {
            "tags": []
          },
          "output_type": "display_data"
        }
      ],
      "source": [
        "entire_sd"
      ]
    },
    {
      "cell_type": "code",
      "execution_count": null,
      "metadata": {
        "colab": {
          "base_uri": "https://localhost:8080/"
        },
        "id": "DYE_BRWarSia",
        "outputId": "841f3ccd-7ae3-488b-da10-b88af281fac3",
        "vscode": {
          "languageId": "r"
        }
      },
      "outputs": [
        {
          "name": "stdout",
          "output_type": "stream",
          "text": [
            "[1] 0.9959547\n",
            "[1] 0.9490291\n",
            "[1] 0.6966019\n"
          ]
        }
      ],
      "source": [
        "# how well does our data fit the 68–95–99.7 rule?\n",
        "# idea taken from lecture\n",
        "F = ecdf(normalized_entire_bwt)\n",
        "print(F(3) - F(-3)) # should be near 99.7\n",
        "print(F(2) - F(-2)) # should be near 95\n",
        "print(F(1) - F(-1)) # should be near 68"
      ]
    },
    {
      "cell_type": "code",
      "execution_count": null,
      "metadata": {
        "colab": {
          "base_uri": "https://localhost:8080/",
          "height": 35
        },
        "id": "Q2emoOp93UoS",
        "outputId": "0a70e919-fcb6-47e0-ef65-5268ea16c90b",
        "vscode": {
          "languageId": "r"
        }
      },
      "outputs": [
        {
          "data": {
            "text/html": [
              "-0.140473584296136"
            ],
            "text/latex": [
              "-0.140473584296136"
            ],
            "text/markdown": [
              "-0.140473584296136"
            ],
            "text/plain": [
              "[1] -0.1404736"
            ]
          },
          "metadata": {
            "tags": []
          },
          "output_type": "display_data"
        }
      ],
      "source": [
        "# skewness\n",
        "skewness = function(x) {\n",
        "  z = (x - mean(x))/sd(x)\n",
        "  mean(z^3)\n",
        "}\n",
        "skewness(data$bwt)"
      ]
    },
    {
      "cell_type": "code",
      "execution_count": null,
      "metadata": {
        "colab": {
          "base_uri": "https://localhost:8080/",
          "height": 35
        },
        "id": "_a1e8_W2wUpB",
        "outputId": "95f45b42-c3dc-4215-9e0b-9b3687afbf8f",
        "vscode": {
          "languageId": "r"
        }
      },
      "outputs": [
        {
          "data": {
            "text/html": [
              "3.43700804861651"
            ],
            "text/latex": [
              "3.43700804861651"
            ],
            "text/markdown": [
              "3.43700804861651"
            ],
            "text/plain": [
              "[1] 3.437008"
            ]
          },
          "metadata": {
            "tags": []
          },
          "output_type": "display_data"
        }
      ],
      "source": [
        "# kurtosis (normal distributions have a kurtosis of 3; expect values of 2.5-3.5)\n",
        "kurtosis = function(x) {\n",
        "  z = (x - mean(x))/sd(x)\n",
        "  mean(z^4)\n",
        "}\n",
        "kurtosis(data$bwt)"
      ]
    },
    {
      "cell_type": "code",
      "execution_count": null,
      "metadata": {
        "colab": {
          "base_uri": "https://localhost:8080/",
          "height": 437
        },
        "id": "2BTZeMXR2yI3",
        "outputId": "945c3c6e-f957-4332-a41b-68c2a58e70dd",
        "vscode": {
          "languageId": "r"
        }
      },
      "outputs": [
        {
          "data": {
            "image/png": "[encoded data removed]",
            "text/plain": [
              "Plot with title “Normal Q-Q Plot”"
            ]
          },
          "metadata": {
            "image/png": {
              "height": 420,
              "width": 420
            },
            "tags": []
          },
          "output_type": "display_data"
        }
      ],
      "source": [
        "qqnorm(normalized_entire_bwt)\n",
        "abline(0,1,col='red') # should be right on top of the plot, if it's approx. normal"
      ]
    },
    {
      "cell_type": "markdown",
      "metadata": {
        "id": "f8MkH8desPiz"
      },
      "source": [
        "Conclusion: data *appears* approximately normal. We cannot prove that the data is completely normal, not disprove that this distribution isn't normal."
      ]
    },
    {
      "cell_type": "markdown",
      "metadata": {
        "id": "uLqrjFh0shd5"
      },
      "source": [
        "### Separating data into smokers and nonsmokers\n",
        "Red histogram is the birthweights of babies whose mothers smoked:"
      ]
    },
    {
      "cell_type": "code",
      "execution_count": null,
      "metadata": {
        "colab": {
          "base_uri": "https://localhost:8080/",
          "height": 437
        },
        "id": "ct2E1cB6nysp",
        "outputId": "7297ef17-caac-422d-cfc6-669dbd9d4124",
        "vscode": {
          "languageId": "r"
        }
      },
      "outputs": [
        {
          "data": {
            "image/png": "[encoded data removed]",
            "text/plain": [
              "Plot with title “Histogram of data.nosmoke$bwt”"
            ]
          },
          "metadata": {
            "image/png": {
              "height": 420,
              "width": 420
            },
            "tags": []
          },
          "output_type": "display_data"
        }
      ],
      "source": [
        "c1 = rgb(255,0,0,max = 255, alpha = 80)\n",
        "hist(data.nosmoke$bwt)\n",
        "hist(data.smoke$bwt,add=TRUE,col=c1)"
      ]
    },
    {
      "cell_type": "markdown",
      "metadata": {
        "id": "I2vb9Nuzstdr"
      },
      "source": [
        "An important observation is that the smoker's histogram is overall shorter.\n",
        "\n",
        "This is because there are less mothers who smoke than mothers who don't smoke. Which makes sense, due to the perception that smoking is dangerous. Which is why a density histogram will be provided."
      ]
    },
    {
      "cell_type": "code",
      "execution_count": null,
      "metadata": {
        "colab": {
          "base_uri": "https://localhost:8080/",
          "height": 437
        },
        "id": "qnkgWtdQn7QV",
        "outputId": "c1a95a41-a331-4fcc-c5eb-b83f5163bb83",
        "vscode": {
          "languageId": "r"
        }
      },
      "outputs": [
        {
          "data": {
            "image/png": "[encoded data removed]",
            "text/plain": [
              "Plot with title “Histogram of data.nosmoke$bwt”"
            ]
          },
          "metadata": {
            "image/png": {
              "height": 420,
              "width": 420
            },
            "tags": []
          },
          "output_type": "display_data"
        }
      ],
      "source": [
        "# Now a density histogram.\n",
        "hist(data.nosmoke$bwt,freq=FALSE)\n",
        "hist(data.smoke$bwt,freq=FALSE,add=TRUE,col=c1)"
      ]
    },
    {
      "cell_type": "markdown",
      "metadata": {
        "id": "pf1V_hklugPV"
      },
      "source": [
        "In both histograms, the histogram for smoker's birthweights are shifted to the left of the nonsmokers."
      ]
    },
    {
      "cell_type": "code",
      "execution_count": null,
      "metadata": {
        "colab": {
          "base_uri": "https://localhost:8080/",
          "height": 437
        },
        "id": "br1R_9PVxkWj",
        "outputId": "4c3a5fae-ceb2-4dc1-eb96-407de0f1a89e",
        "vscode": {
          "languageId": "r"
        }
      },
      "outputs": [
        {
          "data": {
            "image/png": "[encoded data removed]",
            "text/plain": [
              "plot without title"
            ]
          },
          "metadata": {
            "image/png": {
              "height": 420,
              "width": 420
            },
            "tags": []
          },
          "output_type": "display_data"
        }
      ],
      "source": [
        "# boxplots\n",
        "boxplot(bwt~smoke, data)"
      ]
    },
    {
      "cell_type": "markdown",
      "metadata": {
        "id": "SSVCija6x1Kz"
      },
      "source": [
        "Uh oh, there are some extraneous smoke values (smoke = 9). For now, we can simply ignore the boxplot for smoke = 9 and everything will be fine, but in later analyses we may need to throw out extraneous values like this."
      ]
    },
    {
      "cell_type": "markdown",
      "metadata": {
        "id": "rYixPw0Ywelh"
      },
      "source": [
        "## Incidence Comparison"
      ]
    },
    {
      "cell_type": "markdown",
      "metadata": {
        "id": "Yuz2r5Xmxfly"
      },
      "source": [
        "Here we'll set different thresholds for what we consider to be \"low birth weight\", and count the incidence of low birth weight babies in the smoker vs. nonsmoker dataframes each time."
      ]
    },
    {
      "cell_type": "code",
      "execution_count": null,
      "metadata": {
        "colab": {
          "base_uri": "https://localhost:8080/",
          "height": 35
        },
        "id": "OkGtgB0-_PxK",
        "outputId": "27c14859-bf36-4e49-c6c8-771c521c4162",
        "vscode": {
          "languageId": "r"
        }
      },
      "outputs": [
        {
          "data": {
            "text/html": [
              "484"
            ],
            "text/latex": [
              "484"
            ],
            "text/markdown": [
              "484"
            ],
            "text/plain": [
              "[1] 484"
            ]
          },
          "metadata": {
            "tags": []
          },
          "output_type": "display_data"
        }
      ],
      "source": [
        "# total number of babies born to smokers\n",
        "nrow(data.smoke)"
      ]
    },
    {
      "cell_type": "code",
      "execution_count": null,
      "metadata": {
        "colab": {
          "base_uri": "https://localhost:8080/",
          "height": 35
        },
        "id": "U4tT-m-G_cdl",
        "outputId": "eed6a9f7-cca9-4176-83ee-4910f1a96fad",
        "vscode": {
          "languageId": "r"
        }
      },
      "outputs": [
        {
          "data": {
            "text/html": [
              "742"
            ],
            "text/latex": [
              "742"
            ],
            "text/markdown": [
              "742"
            ],
            "text/plain": [
              "[1] 742"
            ]
          },
          "metadata": {
            "tags": []
          },
          "output_type": "display_data"
        }
      ],
      "source": [
        "# total number of babies born to nonsmokers\n",
        "nrow(data.nosmoke)"
      ]
    },
    {
      "cell_type": "markdown",
      "metadata": {
        "id": "mFT4mwTAxQR3"
      },
      "source": [
        "### Threshold 1: Low Birth Weight <= 75.375 (Outliers are Low Birth Weights)"
      ]
    },
    {
      "cell_type": "markdown",
      "metadata": {
        "id": "LnCdzGsEyxxj"
      },
      "source": [
        "In boxplots, the lower whisker indicates a sort of minimum to the data, where any values below it indicates an outlier. We reason that our first threshold for what a low birth weight is should be the same as where the lower whisker would be on a boxplot of the entire dataset."
      ]
    },
    {
      "cell_type": "code",
      "execution_count": null,
      "metadata": {
        "colab": {
          "base_uri": "https://localhost:8080/",
          "height": 35
        },
        "id": "_AbfP3A7uZW8",
        "outputId": "b4c2abba-8868-46fd-f3eb-6f276c8ba8da",
        "vscode": {
          "languageId": "r"
        }
      },
      "outputs": [
        {
          "data": {
            "text/html": [
              "<strong>25%:</strong> 75.375"
            ],
            "text/latex": [
              "\\textbf{25\\textbackslash{}\\%:} 75.375"
            ],
            "text/markdown": [
              "**25%:** 75.375"
            ],
            "text/plain": [
              "   25% \n",
              "75.375 "
            ]
          },
          "metadata": {
            "tags": []
          },
          "output_type": "display_data"
        }
      ],
      "source": [
        "# Formula: Q_1 - (1.5 * IQR)\n",
        "q_1 = quantile(data$bwt,0.25)\n",
        "q_3 = quantile(data$bwt,0.75)\n",
        "iqr = q_3 - q_1\n",
        "threshold_1 = q_1 - (1.5*iqr)\n",
        "threshold_1"
      ]
    },
    {
      "cell_type": "code",
      "execution_count": null,
      "metadata": {
        "colab": {
          "base_uri": "https://localhost:8080/",
          "height": 35
        },
        "id": "M39Y_IWq8PAD",
        "outputId": "a7dc7d24-8bb0-4c56-cedd-fa82d2fa6edd",
        "vscode": {
          "languageId": "r"
        }
      },
      "outputs": [
        {
          "data": {
            "text/html": [
              "12"
            ],
            "text/latex": [
              "12"
            ],
            "text/markdown": [
              "12"
            ],
            "text/plain": [
              "[1] 12"
            ]
          },
          "metadata": {
            "tags": []
          },
          "output_type": "display_data"
        }
      ],
      "source": [
        "# find out how many smokers had low birth weight babies, according to threshold_1:\n",
        "smoke_t1 = data.smoke[which(data.smoke$bwt < threshold_1),]\n",
        "nrow(smoke_t1)"
      ]
    },
    {
      "cell_type": "code",
      "execution_count": null,
      "metadata": {
        "colab": {
          "base_uri": "https://localhost:8080/",
          "height": 35
        },
        "id": "P1P7SO_R9lRB",
        "outputId": "c9fccefe-9227-49d9-cb3a-a72e06b59a36",
        "vscode": {
          "languageId": "r"
        }
      },
      "outputs": [
        {
          "data": {
            "text/html": [
              "9"
            ],
            "text/latex": [
              "9"
            ],
            "text/markdown": [
              "9"
            ],
            "text/plain": [
              "[1] 9"
            ]
          },
          "metadata": {
            "tags": []
          },
          "output_type": "display_data"
        }
      ],
      "source": [
        "# now, for nonsmokers:\n",
        "nosmoke_t1 = data.nosmoke[which(data.nosmoke$bwt < threshold_1),]\n",
        "nrow(nosmoke_t1)"
      ]
    },
    {
      "cell_type": "markdown",
      "metadata": {
        "id": "jm0fBg4J9RaY"
      },
      "source": [
        "With threshold_1 = 76.375, 12 out of 484 babies (mothers smoked) and 9 out of 742 babies (no smoking) are considered to have low birth weights."
      ]
    },
    {
      "cell_type": "markdown",
      "metadata": {
        "id": "s461siul-NkS"
      },
      "source": [
        "### Threshold 2: Low Birth Weight <= 108.75 (Q1 of the entire dataset's birth weight)"
      ]
    },
    {
      "cell_type": "code",
      "execution_count": null,
      "metadata": {
        "colab": {
          "base_uri": "https://localhost:8080/",
          "height": 35
        },
        "id": "pq3ZI7YI85ft",
        "outputId": "2b1ffaad-053c-49c2-ce9a-d13a7b5353fd",
        "vscode": {
          "languageId": "r"
        }
      },
      "outputs": [
        {
          "data": {
            "text/html": [
              "<strong>25%:</strong> 108.75"
            ],
            "text/latex": [
              "\\textbf{25\\textbackslash{}\\%:} 108.75"
            ],
            "text/markdown": [
              "**25%:** 108.75"
            ],
            "text/plain": [
              "   25% \n",
              "108.75 "
            ]
          },
          "metadata": {
            "tags": []
          },
          "output_type": "display_data"
        }
      ],
      "source": [
        "threshold_2 = q_1\n",
        "threshold_2"
      ]
    },
    {
      "cell_type": "code",
      "execution_count": null,
      "metadata": {
        "colab": {
          "base_uri": "https://localhost:8080/",
          "height": 35
        },
        "id": "cwAhRsj9-Yha",
        "outputId": "6c5b38d0-dd15-4be9-9f56-e93c34f3874d",
        "vscode": {
          "languageId": "r"
        }
      },
      "outputs": [
        {
          "data": {
            "text/html": [
              "182"
            ],
            "text/latex": [
              "182"
            ],
            "text/markdown": [
              "182"
            ],
            "text/plain": [
              "[1] 182"
            ]
          },
          "metadata": {
            "tags": []
          },
          "output_type": "display_data"
        }
      ],
      "source": [
        "# find out how many smokers had low birth weight babies, according to threshold_2:\n",
        "smoke_t2 = data.smoke[which(data.smoke$bwt < threshold_2),]\n",
        "nrow(smoke_t2)"
      ]
    },
    {
      "cell_type": "code",
      "execution_count": null,
      "metadata": {
        "colab": {
          "base_uri": "https://localhost:8080/",
          "height": 35
        },
        "id": "O4O1S-Vs-3BE",
        "outputId": "78879ac0-d1c0-44db-a492-d178e8d2999a",
        "vscode": {
          "languageId": "r"
        }
      },
      "outputs": [
        {
          "data": {
            "text/html": [
              "124"
            ],
            "text/latex": [
              "124"
            ],
            "text/markdown": [
              "124"
            ],
            "text/plain": [
              "[1] 124"
            ]
          },
          "metadata": {
            "tags": []
          },
          "output_type": "display_data"
        }
      ],
      "source": [
        "# now, for nonsmokers:\n",
        "nosmoke_t2 = data.nosmoke[which(data.nosmoke$bwt < threshold_2),]\n",
        "nrow(nosmoke_t2)"
      ]
    },
    {
      "cell_type": "markdown",
      "metadata": {
        "id": "uECMspP5_FRz"
      },
      "source": [
        "With threshold_2 = 108.75, 182 out of 484 babies (mothers smoked) and 124 out of 742 babies (no smoking) are considered to have low birth weights."
      ]
    },
    {
      "cell_type": "markdown",
      "metadata": {
        "id": "n4O5UxdQAr_n"
      },
      "source": [
        "### Threshold 3: Low Birth Weight <= 83.53 (According to the WHO)"
      ]
    },
    {
      "cell_type": "markdown",
      "metadata": {
        "id": "UYjxAqNvAGVJ"
      },
      "source": [
        "According to the World Health Organization (https://www.ncbi.nlm.nih.gov/books/NBK487900/table/fm.s1.t1/), another way to determine a threshold is by using the value 2 SDs below the median.\n"
      ]
    },
    {
      "cell_type": "code",
      "execution_count": null,
      "metadata": {
        "colab": {
          "base_uri": "https://localhost:8080/",
          "height": 35
        },
        "id": "basWD2j_-_Cl",
        "outputId": "1c65cec0-9672-4d41-b41a-5e6ac4c35261",
        "vscode": {
          "languageId": "r"
        }
      },
      "outputs": [
        {
          "data": {
            "text/html": [
              "83.5270962660548"
            ],
            "text/latex": [
              "83.5270962660548"
            ],
            "text/markdown": [
              "83.5270962660548"
            ],
            "text/plain": [
              "[1] 83.5271"
            ]
          },
          "metadata": {
            "tags": []
          },
          "output_type": "display_data"
        }
      ],
      "source": [
        "# find the value that is 2 SDs below the median birthweight of the entire dataset\n",
        "entire_median = median(data$bwt)\n",
        "threshold_3 = entire_median - (2*entire_sd)\n",
        "threshold_3"
      ]
    },
    {
      "cell_type": "code",
      "execution_count": null,
      "metadata": {
        "colab": {
          "base_uri": "https://localhost:8080/",
          "height": 35
        },
        "id": "985yQJbYKAwj",
        "outputId": "34b25a92-1d04-448c-ef22-75547787cb6d",
        "vscode": {
          "languageId": "r"
        }
      },
      "outputs": [
        {
          "data": {
            "text/html": [
              "18.2364518669726"
            ],
            "text/latex": [
              "18.2364518669726"
            ],
            "text/markdown": [
              "18.2364518669726"
            ],
            "text/plain": [
              "[1] 18.23645"
            ]
          },
          "metadata": {
            "tags": []
          },
          "output_type": "display_data"
        }
      ],
      "source": [
        "entire_sd"
      ]
    },
    {
      "cell_type": "code",
      "execution_count": null,
      "metadata": {
        "colab": {
          "base_uri": "https://localhost:8080/",
          "height": 35
        },
        "id": "KvdSZmbEBDC9",
        "outputId": "0c0ea0fd-2297-43f1-b74f-0d0e9ebf1347",
        "vscode": {
          "languageId": "r"
        }
      },
      "outputs": [
        {
          "data": {
            "text/html": [
              "21"
            ],
            "text/latex": [
              "21"
            ],
            "text/markdown": [
              "21"
            ],
            "text/plain": [
              "[1] 21"
            ]
          },
          "metadata": {
            "tags": []
          },
          "output_type": "display_data"
        }
      ],
      "source": [
        "# find out how many smokers had low birth weight babies, according to threshold_2:\n",
        "smoke_t3 = data.smoke[which(data.smoke$bwt < threshold_3),]\n",
        "nrow(smoke_t3)"
      ]
    },
    {
      "cell_type": "code",
      "execution_count": null,
      "metadata": {
        "colab": {
          "base_uri": "https://localhost:8080/",
          "height": 35
        },
        "id": "-qmFoi1gVzd0",
        "outputId": "319d52ab-de78-48a0-fc12-c513170a22aa",
        "vscode": {
          "languageId": "r"
        }
      },
      "outputs": [
        {
          "data": {
            "text/html": [
              "14"
            ],
            "text/latex": [
              "14"
            ],
            "text/markdown": [
              "14"
            ],
            "text/plain": [
              "[1] 14"
            ]
          },
          "metadata": {
            "tags": []
          },
          "output_type": "display_data"
        }
      ],
      "source": [
        "# now, for nonsmokers:\n",
        "nosmoke_t3 = data.nosmoke[which(data.nosmoke$bwt < threshold_3),]\n",
        "nrow(nosmoke_t3)"
      ]
    },
    {
      "cell_type": "markdown",
      "metadata": {
        "id": "VCbICLoRV5e6"
      },
      "source": [
        "With threshold_3 = 83.53, 21 out of 484 babies (mothers smoked) and 14 out of 742 babies (no smoking) are considered to have low birth weights."
      ]
    },
    {
      "cell_type": "markdown",
      "metadata": {
        "id": "ADqgQr7VYXx9"
      },
      "source": [
        "# Testing correlations between birth weight and other factors"
      ]
    },
    {
      "cell_type": "markdown",
      "metadata": {
        "id": "NCzO1QkFdiYy"
      },
      "source": [
        "Use of ggcorrplot from https://rkabacoff.github.io/datavis/Models.html"
      ]
    },
    {
      "cell_type": "code",
      "execution_count": null,
      "metadata": {
        "colab": {
          "base_uri": "https://localhost:8080/"
        },
        "id": "Jxe8ZtR7bKef",
        "outputId": "9ada2509-0174-40e6-b2c3-c6edc01fc1c4",
        "vscode": {
          "languageId": "r"
        }
      },
      "outputs": [
        {
          "name": "stderr",
          "output_type": "stream",
          "text": [
            "Installing package into ‘/usr/local/lib/R/site-library’\n",
            "(as ‘lib’ is unspecified)\n",
            "\n",
            "also installing the dependencies ‘plyr’, ‘reshape2’\n",
            "\n",
            "\n"
          ]
        }
      ],
      "source": [
        "install.packages('ggcorrplot',repos=\"http://cran.rstudio.com/\")\n",
        "library(ggcorrplot)"
      ]
    },
    {
      "cell_type": "code",
      "execution_count": null,
      "metadata": {
        "colab": {
          "base_uri": "https://localhost:8080/",
          "height": 437
        },
        "id": "7xfn5hDVV1I8",
        "outputId": "259a92c1-cfc0-4760-b6cc-ca1145ec56f9",
        "vscode": {
          "languageId": "r"
        }
      },
      "outputs": [
        {
          "data": {
            "image/png": "[encoded data removed]",
            "text/plain": [
              "plot without title"
            ]
          },
          "metadata": {
            "image/png": {
              "height": 420,
              "width": 420
            },
            "tags": []
          },
          "output_type": "display_data"
        }
      ],
      "source": [
        "ggcorrplot(cor(data),lab=TRUE)"
      ]
    },
    {
      "cell_type": "code",
      "execution_count": null,
      "metadata": {
        "colab": {
          "base_uri": "https://localhost:8080/",
          "height": 472
        },
        "id": "Vivum8mDbERg",
        "outputId": "bae63599-50d4-44f2-bcbc-85088ce6f0b8",
        "vscode": {
          "languageId": "r"
        }
      },
      "outputs": [
        {
          "name": "stderr",
          "output_type": "stream",
          "text": [
            "Warning message in cor(data.smoke):\n",
            "“the standard deviation is zero”\n"
          ]
        },
        {
          "data": {
            "image/png": "[encoded data removed]",
            "text/plain": [
              "plot without title"
            ]
          },
          "metadata": {
            "image/png": {
              "height": 420,
              "width": 420
            },
            "tags": []
          },
          "output_type": "display_data"
        }
      ],
      "source": [
        "ggcorrplot(cor(data.smoke),lab=TRUE)\n",
        "# the warning message that appears may be due to the smoke variable all being 1"
      ]
    },
    {
      "cell_type": "code",
      "execution_count": null,
      "metadata": {
        "colab": {
          "base_uri": "https://localhost:8080/",
          "height": 472
        },
        "id": "YbyOuRFFbJKd",
        "outputId": "d0d2bcba-598b-442a-b1c5-15f245e7b693",
        "vscode": {
          "languageId": "r"
        }
      },
      "outputs": [
        {
          "name": "stderr",
          "output_type": "stream",
          "text": [
            "Warning message in cor(data.nosmoke):\n",
            "“the standard deviation is zero”\n"
          ]
        },
        {
          "data": {
            "image/png": "[encoded data removed]",
            "text/plain": [
              "plot without title"
            ]
          },
          "metadata": {
            "image/png": {
              "height": 420,
              "width": 420
            },
            "tags": []
          },
          "output_type": "display_data"
        }
      ],
      "source": [
        "ggcorrplot(cor(data.nosmoke),lab=TRUE)"
      ]
    },
    {
      "cell_type": "markdown",
      "metadata": {
        "id": "lLx7bzVobZY7"
      },
      "source": [
        "Birthweight isn't too correlated with the other variables (then again, we haven't thrown out the extraneous/irregular values), though for some odd reason, birthweight is more correlated with the gestation values for babies whose mothers smoked vs. didn't smoke by 0.1."
      ]
    },
    {
      "cell_type": "markdown",
      "metadata": {
        "id": "QRmxwy4BfsaD"
      },
      "source": [
        "# Advanced Analysis"
      ]
    },
    {
      "cell_type": "markdown",
      "metadata": {
        "id": "VbB1yN6QbLZo"
      },
      "source": [
        "## Testing whether the gestation period is associated with birthweight"
      ]
    },
    {
      "cell_type": "code",
      "execution_count": null,
      "metadata": {
        "colab": {
          "base_uri": "https://localhost:8080/",
          "height": 437
        },
        "id": "JkC03VlqaWrl",
        "outputId": "02a2a575-e217-48fd-cbbd-36e9e9661c05",
        "vscode": {
          "languageId": "r"
        }
      },
      "outputs": [
        {
          "data": {
            "image/png": "[encoded data removed]",
            "text/plain": [
              "plot without title"
            ]
          },
          "metadata": {
            "image/png": {
              "height": 420,
              "width": 420
            },
            "tags": []
          },
          "output_type": "display_data"
        }
      ],
      "source": [
        "# compare gestation and birthweight\n",
        "plot(data$gestation,data$bwt)"
      ]
    },
    {
      "cell_type": "markdown",
      "metadata": {
        "id": "dehQ5J-odyjB"
      },
      "source": [
        "This is when the extraneous values make a difference! Removing the rows that had gestation = 999..."
      ]
    },
    {
      "cell_type": "code",
      "execution_count": null,
      "metadata": {
        "colab": {
          "base_uri": "https://localhost:8080/",
          "height": 455
        },
        "id": "hb-RjrWkbcAT",
        "outputId": "daa3cc0d-9795-4e0a-e728-9a8d962b3f67",
        "vscode": {
          "languageId": "r"
        }
      },
      "outputs": [
        {
          "name": "stdout",
          "output_type": "stream",
          "text": [
            "Correlation coefficient: 0.407854"
          ]
        },
        {
          "data": {
            "image/png": "[encoded data removed]",
            "text/plain": [
              "plot without title"
            ]
          },
          "metadata": {
            "image/png": {
              "height": 420,
              "width": 420
            },
            "tags": []
          },
          "output_type": "display_data"
        }
      ],
      "source": [
        "no_extraneous_gestation = which(data$gestation != 999)\n",
        "data.gestation_fix = data[no_extraneous_gestation,]\n",
        "plot(data.gestation_fix$gestation,data.gestation_fix$bwt)\n",
        "r = cor(data.gestation_fix$gestation,data.gestation_fix$bwt)\n",
        "cat(\"Correlation coefficient:\",r)"
      ]
    },
    {
      "cell_type": "markdown",
      "metadata": {
        "id": "9hyBRChaetYt"
      },
      "source": [
        "Conclusion: There is a slight positive correlation between the gestation period and the baby's birth weight."
      ]
    },
    {
      "cell_type": "markdown",
      "metadata": {
        "id": "Puz8vs95b4cJ"
      },
      "source": [
        "## Permutation testing, take one: Testing whether the gestation period is different for babies whose mothers smoked vs. did not smoke"
      ]
    },
    {
      "cell_type": "code",
      "execution_count": null,
      "metadata": {
        "colab": {
          "base_uri": "https://localhost:8080/",
          "height": 437
        },
        "id": "icEojBmrb9XK",
        "outputId": "869e1ad8-7e57-4e00-ac1b-c3a226bfb394",
        "vscode": {
          "languageId": "r"
        }
      },
      "outputs": [
        {
          "data": {
            "image/png": "[encoded data removed]",
            "text/plain": [
              "plot without title"
            ]
          },
          "metadata": {
            "image/png": {
              "height": 420,
              "width": 420
            },
            "tags": []
          },
          "output_type": "display_data"
        }
      ],
      "source": [
        "# plot gestation period for smoke-only, then plot gestation period for nonsmokers\n",
        "# throw out extraneous smoke values, just so the 3rd boxplot won't appear\n",
        "data.gestation_fix.smoke_fix = data.gestation_fix[which(data.gestation_fix$smoke != 9),]\n",
        "\n",
        "boxplot(gestation~smoke, data.gestation_fix.smoke_fix)\n",
        "# smoke = 1 means the mother smoked"
      ]
    },
    {
      "cell_type": "markdown",
      "metadata": {
        "id": "jis_SdevgsrU"
      },
      "source": [
        "Visibly, this isn't much of a difference. Let's test this with statistics: is the difference in gestation period due to chance (null hypothesis)?"
      ]
    },
    {
      "cell_type": "code",
      "execution_count": null,
      "metadata": {
        "colab": {
          "base_uri": "https://localhost:8080/"
        },
        "id": "6R_ED3cWhkST",
        "outputId": "88f87f40-7161-4ce7-aa66-a409d9c91ced",
        "vscode": {
          "languageId": "r"
        }
      },
      "outputs": [
        {
          "name": "stdout",
          "output_type": "stream",
          "text": [
            "Gestation mean for smokers:  277.9792 \n",
            "Gestation mean for nonsmokers:  280.1869\n",
            "Difference in means:  2.207736"
          ]
        }
      ],
      "source": [
        "# Find the difference between the mean gestation period for smokers vs. nonsmokers\n",
        "\n",
        "# first, separate data.gestation_fix.smoke_fix into two dataframes: one for smokers, other for nonsmokers\n",
        "data.fixed.smoke = data.gestation_fix.smoke_fix[which(data.gestation_fix.smoke_fix$smoke == 1),]\n",
        "data.fixed.nosmoke = data.gestation_fix.smoke_fix[which(data.gestation_fix.smoke_fix$smoke == 0),]\n",
        "\n",
        "gestation_mean_smoke = mean(data.fixed.smoke$gestation)\n",
        "gestation_mean_nosmoke = mean(data.fixed.nosmoke$gestation)\n",
        "cat(\"Gestation mean for smokers: \",gestation_mean_smoke,\"\\nGestation mean for nonsmokers: \",gestation_mean_nosmoke)\n",
        "observed_difference_in_gestation_mean = gestation_mean_nosmoke-gestation_mean_smoke\n",
        "cat(\"\\nDifference in means: \",observed_difference_in_gestation_mean)"
      ]
    },
    {
      "cell_type": "markdown",
      "metadata": {
        "id": "ivSZpZuuw_Ce"
      },
      "source": [
        "An important note: we did not square the difference in means."
      ]
    },
    {
      "cell_type": "code",
      "execution_count": null,
      "metadata": {
        "colab": {
          "base_uri": "https://localhost:8080/",
          "height": 281
        },
        "id": "R6s9Lny8n5El",
        "outputId": "b1e67c40-d6bf-4f6a-ee03-b1a022168aef",
        "vscode": {
          "languageId": "r"
        }
      },
      "outputs": [
        {
          "data": {
            "text/html": [
              "<table class=\"dataframe\">\n",
              "<caption>A data.frame: 6 × 8</caption>\n",
              "<thead>\n",
              "\t<tr><th></th><th scope=col>bwt</th><th scope=col>gestation</th><th scope=col>parity</th><th scope=col>age</th><th scope=col>height</th><th scope=col>weight</th><th scope=col>smoke</th><th scope=col>permutated_smoke</th></tr>\n",
              "\t<tr><th></th><th scope=col>&lt;int&gt;</th><th scope=col>&lt;int&gt;</th><th scope=col>&lt;int&gt;</th><th scope=col>&lt;int&gt;</th><th scope=col>&lt;int&gt;</th><th scope=col>&lt;int&gt;</th><th scope=col>&lt;int&gt;</th><th scope=col>&lt;int&gt;</th></tr>\n",
              "</thead>\n",
              "<tbody>\n",
              "\t<tr><th scope=row>1</th><td>120</td><td>284</td><td>0</td><td>27</td><td>62</td><td>100</td><td>0</td><td>0</td></tr>\n",
              "\t<tr><th scope=row>2</th><td>113</td><td>282</td><td>0</td><td>33</td><td>64</td><td>135</td><td>0</td><td>0</td></tr>\n",
              "\t<tr><th scope=row>3</th><td>128</td><td>279</td><td>0</td><td>28</td><td>64</td><td>115</td><td>1</td><td>0</td></tr>\n",
              "\t<tr><th scope=row>5</th><td>108</td><td>282</td><td>0</td><td>23</td><td>67</td><td>125</td><td>1</td><td>1</td></tr>\n",
              "\t<tr><th scope=row>6</th><td>136</td><td>286</td><td>0</td><td>25</td><td>62</td><td> 93</td><td>0</td><td>0</td></tr>\n",
              "\t<tr><th scope=row>7</th><td>138</td><td>244</td><td>0</td><td>33</td><td>62</td><td>178</td><td>0</td><td>1</td></tr>\n",
              "</tbody>\n",
              "</table>\n"
            ],
            "text/latex": [
              "A data.frame: 6 × 8\n",
              "\\begin{tabular}{r|llllllll}\n",
              "  & bwt & gestation & parity & age & height & weight & smoke & permutated\\_smoke\\\\\n",
              "  & <int> & <int> & <int> & <int> & <int> & <int> & <int> & <int>\\\\\n",
              "\\hline\n",
              "\t1 & 120 & 284 & 0 & 27 & 62 & 100 & 0 & 0\\\\\n",
              "\t2 & 113 & 282 & 0 & 33 & 64 & 135 & 0 & 0\\\\\n",
              "\t3 & 128 & 279 & 0 & 28 & 64 & 115 & 1 & 0\\\\\n",
              "\t5 & 108 & 282 & 0 & 23 & 67 & 125 & 1 & 1\\\\\n",
              "\t6 & 136 & 286 & 0 & 25 & 62 &  93 & 0 & 0\\\\\n",
              "\t7 & 138 & 244 & 0 & 33 & 62 & 178 & 0 & 1\\\\\n",
              "\\end{tabular}\n"
            ],
            "text/markdown": [
              "\n",
              "A data.frame: 6 × 8\n",
              "\n",
              "| <!--/--> | bwt &lt;int&gt; | gestation &lt;int&gt; | parity &lt;int&gt; | age &lt;int&gt; | height &lt;int&gt; | weight &lt;int&gt; | smoke &lt;int&gt; | permutated_smoke &lt;int&gt; |\n",
              "|---|---|---|---|---|---|---|---|---|\n",
              "| 1 | 120 | 284 | 0 | 27 | 62 | 100 | 0 | 0 |\n",
              "| 2 | 113 | 282 | 0 | 33 | 64 | 135 | 0 | 0 |\n",
              "| 3 | 128 | 279 | 0 | 28 | 64 | 115 | 1 | 0 |\n",
              "| 5 | 108 | 282 | 0 | 23 | 67 | 125 | 1 | 1 |\n",
              "| 6 | 136 | 286 | 0 | 25 | 62 |  93 | 0 | 0 |\n",
              "| 7 | 138 | 244 | 0 | 33 | 62 | 178 | 0 | 1 |\n",
              "\n"
            ],
            "text/plain": [
              "  bwt gestation parity age height weight smoke permutated_smoke\n",
              "1 120 284       0      27  62     100    0     0               \n",
              "2 113 282       0      33  64     135    0     0               \n",
              "3 128 279       0      28  64     115    1     0               \n",
              "5 108 282       0      23  67     125    1     1               \n",
              "6 136 286       0      25  62      93    0     0               \n",
              "7 138 244       0      33  62     178    0     1               "
            ]
          },
          "metadata": {
            "tags": []
          },
          "output_type": "display_data"
        }
      ],
      "source": [
        "# Learning how to do 1 permutation:\n",
        "# shuffle all rows\n",
        "data.fixed.shuffled = data.gestation_fix.smoke_fix[sample(nrow(data.gestation_fix.smoke_fix)),]\n",
        "# extract the smoke column\n",
        "permute_smoke = data.fixed.shuffled$smoke\n",
        "# append permutated column to the pre-shuffled data frame\n",
        "data.fixed.with_permute <- cbind(data.gestation_fix.smoke_fix,permutated_smoke = permute_smoke)\n",
        "head(data.fixed.with_permute)"
      ]
    },
    {
      "cell_type": "code",
      "execution_count": null,
      "metadata": {
        "id": "KY7dnSlomQnD",
        "vscode": {
          "languageId": "r"
        }
      },
      "outputs": [],
      "source": [
        "# Use permutation testing 1000 times to determine whether this difference in means is due to chance\n",
        "difference_in_means = vector()\n",
        "for(i in 1:1000) {\n",
        "  # shuffle all rows\n",
        "  data.fixed.shuffled = data.gestation_fix.smoke_fix[sample(nrow(data.gestation_fix.smoke_fix)),]\n",
        "  # extract the smoke column\n",
        "  permute_smoke = data.fixed.shuffled$smoke\n",
        "  # append permutated column to the pre-shuffled data frame\n",
        "  data.fixed.with_permute <- cbind(data.gestation_fix.smoke_fix,permutated_smoke = permute_smoke)\n",
        "\n",
        "  # separate the dataframe into smokers and nonsmokers only\n",
        "  temp.data.smoke = data.fixed.with_permute[which(data.fixed.with_permute$permutated_smoke == 1),]\n",
        "  temp.data.nosmoke = data.fixed.with_permute[which(data.fixed.with_permute$permutated_smoke == 0),]\n",
        "\n",
        "  # append difference of means\n",
        "  difference_in_means = c(difference_in_means,mean(temp.data.nosmoke$gestation) - mean(temp.data.smoke$gestation))\n",
        "}"
      ]
    },
    {
      "cell_type": "code",
      "execution_count": null,
      "metadata": {
        "colab": {
          "base_uri": "https://localhost:8080/",
          "height": 35
        },
        "id": "JgM9yrykta2p",
        "outputId": "8c3430ab-c720-416d-c96f-59c854c1aeff",
        "vscode": {
          "languageId": "r"
        }
      },
      "outputs": [
        {
          "data": {
            "text/html": [
              "<style>\n",
              ".list-inline {list-style: none; margin:0; padding: 0}\n",
              ".list-inline>li {display: inline-block}\n",
              ".list-inline>li:not(:last-child)::after {content: \"\\00b7\"; padding: 0 .5ex}\n",
              "</style>\n",
              "<ol class=list-inline><li>-1.20882503410638</li><li>0.925233060482014</li><li>-0.529649840836726</li><li>-0.69513415188726</li><li>-1.70183037744425</li><li>-0.136624602091842</li></ol>\n"
            ],
            "text/latex": [
              "\\begin{enumerate*}\n",
              "\\item -1.20882503410638\n",
              "\\item 0.925233060482014\n",
              "\\item -0.529649840836726\n",
              "\\item -0.69513415188726\n",
              "\\item -1.70183037744425\n",
              "\\item -0.136624602091842\n",
              "\\end{enumerate*}\n"
            ],
            "text/markdown": [
              "1. -1.20882503410638\n",
              "2. 0.925233060482014\n",
              "3. -0.529649840836726\n",
              "4. -0.69513415188726\n",
              "5. -1.70183037744425\n",
              "6. -0.136624602091842\n",
              "\n",
              "\n"
            ],
            "text/plain": [
              "[1] -1.2088250  0.9252331 -0.5296498 -0.6951342 -1.7018304 -0.1366246"
            ]
          },
          "metadata": {
            "tags": []
          },
          "output_type": "display_data"
        }
      ],
      "source": [
        "head(difference_in_means)"
      ]
    },
    {
      "cell_type": "code",
      "execution_count": null,
      "metadata": {
        "colab": {
          "base_uri": "https://localhost:8080/",
          "height": 437
        },
        "id": "Oh3ZKjrFtxXp",
        "outputId": "323e55a0-7013-43cc-a0fe-84f960d7cbc8",
        "vscode": {
          "languageId": "r"
        }
      },
      "outputs": [
        {
          "data": {
            "image/png": "[encoded data removed]",
            "text/plain": [
              "Plot with title “Histogram of difference_in_means”"
            ]
          },
          "metadata": {
            "image/png": {
              "height": 420,
              "width": 420
            },
            "tags": []
          },
          "output_type": "display_data"
        }
      ],
      "source": [
        "# plot null hypothesis\n",
        "hist(difference_in_means)\n",
        "# draw a dot where our observed difference in means was\n",
        "abline(v=observed_difference_in_gestation_mean,col=\"red\")"
      ]
    },
    {
      "cell_type": "code",
      "execution_count": null,
      "metadata": {
        "colab": {
          "base_uri": "https://localhost:8080/",
          "height": 35
        },
        "id": "hBLknoA3uveg",
        "outputId": "c2d893b6-1599-4598-e692-82349f290ecb",
        "vscode": {
          "languageId": "r"
        }
      },
      "outputs": [
        {
          "data": {
            "text/html": [
              "0.006"
            ],
            "text/latex": [
              "0.006"
            ],
            "text/markdown": [
              "0.006"
            ],
            "text/plain": [
              "[1] 0.006"
            ]
          },
          "metadata": {
            "tags": []
          },
          "output_type": "display_data"
        }
      ],
      "source": [
        "# Finally, calculate the p-value:\n",
        "values_over_observed_mean = difference_in_means >= observed_difference_in_gestation_mean\n",
        "num_values_over_observed_mean = sum(values_over_observed_mean)\n",
        "p_value_gestation = num_values_over_observed_mean / 1000\n",
        "p_value_gestation"
      ]
    },
    {
      "cell_type": "markdown",
      "metadata": {
        "id": "lpvhOxE6woH0"
      },
      "source": [
        "**Conclusion: With a p-value of 0.006, we reject the null hypothesis that the difference in gestation periods for smokers vs. nonsmokers is due to chance. This difference is indeed NOT due to chance.**"
      ]
    },
    {
      "cell_type": "markdown",
      "metadata": {
        "id": "LtCehmGVxlV_"
      },
      "source": [
        "A quick check: what if we did square the differences in means?"
      ]
    },
    {
      "cell_type": "code",
      "execution_count": null,
      "metadata": {
        "colab": {
          "base_uri": "https://localhost:8080/",
          "height": 35
        },
        "id": "GZuXn4IMxpRP",
        "outputId": "8c248bba-30c2-4096-8844-2678a7d2c897",
        "vscode": {
          "languageId": "r"
        }
      },
      "outputs": [
        {
          "data": {
            "text/html": [
              "4.87410032592757"
            ],
            "text/latex": [
              "4.87410032592757"
            ],
            "text/markdown": [
              "4.87410032592757"
            ],
            "text/plain": [
              "[1] 4.8741"
            ]
          },
          "metadata": {
            "tags": []
          },
          "output_type": "display_data"
        }
      ],
      "source": [
        "squared_observed_difference_in_gestation_mean = observed_difference_in_gestation_mean^2\n",
        "squared_observed_difference_in_gestation_mean"
      ]
    },
    {
      "cell_type": "code",
      "execution_count": null,
      "metadata": {
        "id": "FV6zUFD1x3yn",
        "vscode": {
          "languageId": "r"
        }
      },
      "outputs": [],
      "source": [
        "# 1000 trials like before\n",
        "squared_difference_in_means = vector()\n",
        "for(i in 1:1000) {\n",
        "  # shuffle all rows\n",
        "  data.fixed.shuffled = data.gestation_fix.smoke_fix[sample(nrow(data.gestation_fix.smoke_fix)),]\n",
        "  # extract the smoke column\n",
        "  permute_smoke = data.fixed.shuffled$smoke\n",
        "  # append permutated column to the pre-shuffled data frame\n",
        "  data.fixed.with_permute <- cbind(data.gestation_fix.smoke_fix,permutated_smoke = permute_smoke)\n",
        "\n",
        "  # separate the dataframe into smokers and nonsmokers only\n",
        "  temp.data.smoke = data.fixed.with_permute[which(data.fixed.with_permute$permutated_smoke == 1),]\n",
        "  temp.data.nosmoke = data.fixed.with_permute[which(data.fixed.with_permute$permutated_smoke == 0),]\n",
        "\n",
        "  # append difference of means\n",
        "  squared_difference_in_means = c(squared_difference_in_means,(mean(temp.data.nosmoke$gestation) - mean(temp.data.smoke$gestation))^2)\n",
        "}"
      ]
    },
    {
      "cell_type": "code",
      "execution_count": null,
      "metadata": {
        "colab": {
          "base_uri": "https://localhost:8080/",
          "height": 437
        },
        "id": "4MjI1LZ0yHIH",
        "outputId": "3ba3bf37-409e-4121-9f71-5e25a20aa028",
        "vscode": {
          "languageId": "r"
        }
      },
      "outputs": [
        {
          "data": {
            "image/png": "[encoded data removed]",
            "text/plain": [
              "Plot with title “Histogram of squared_difference_in_means”"
            ]
          },
          "metadata": {
            "image/png": {
              "height": 420,
              "width": 420
            },
            "tags": []
          },
          "output_type": "display_data"
        }
      ],
      "source": [
        "# plot null hypothesis\n",
        "hist(squared_difference_in_means)\n",
        "# draw a dot where our observed difference in means was\n",
        "abline(v=squared_observed_difference_in_gestation_mean,col=\"red\")"
      ]
    },
    {
      "cell_type": "code",
      "execution_count": null,
      "metadata": {
        "colab": {
          "base_uri": "https://localhost:8080/",
          "height": 35
        },
        "id": "_kKRlqeAyRuD",
        "outputId": "7f31e548-503e-4d51-8aef-1e898583d919",
        "vscode": {
          "languageId": "r"
        }
      },
      "outputs": [
        {
          "data": {
            "text/html": [
              "0.017"
            ],
            "text/latex": [
              "0.017"
            ],
            "text/markdown": [
              "0.017"
            ],
            "text/plain": [
              "[1] 0.017"
            ]
          },
          "metadata": {
            "tags": []
          },
          "output_type": "display_data"
        }
      ],
      "source": [
        "# Finally, calculate the p-value:\n",
        "values_over_squared_observed_mean = squared_difference_in_means >= squared_observed_difference_in_gestation_mean\n",
        "num_values_over_squared_observed_mean = sum(values_over_squared_observed_mean)\n",
        "p_value_gestation_squared = num_values_over_squared_observed_mean / 1000\n",
        "p_value_gestation_squared"
      ]
    },
    {
      "cell_type": "markdown",
      "metadata": {
        "id": "F2AOZT1EzF1r"
      },
      "source": [
        "With a p-value of 0.017, the null hypothesis can still be rejected."
      ]
    },
    {
      "cell_type": "markdown",
      "metadata": {
        "id": "hW-B_Qbjiaku"
      },
      "source": [
        "## Permutation testing, take two: Testing whether the birth weight is different for babies whose mothers smoked vs. did not smoke"
      ]
    },
    {
      "cell_type": "code",
      "execution_count": null,
      "metadata": {
        "colab": {
          "base_uri": "https://localhost:8080/",
          "height": 437
        },
        "id": "qn-XuDInd4qK",
        "outputId": "1b609e26-3388-4b1a-ce9f-5f64fde71cdb",
        "vscode": {
          "languageId": "r"
        }
      },
      "outputs": [
        {
          "data": {
            "image/png": "[encoded data removed]",
            "text/plain": [
              "plot without title"
            ]
          },
          "metadata": {
            "image/png": {
              "height": 420,
              "width": 420
            },
            "tags": []
          },
          "output_type": "display_data"
        }
      ],
      "source": [
        "# throw out extraneous smoke values, just so the 3rd boxplot won't appear\n",
        "# it's okay if there are extraneous gestation values, so we won't throw them out\n",
        "data.smoke_fix = data[which(data$smoke != 9),]\n",
        "boxplot(bwt~smoke, data.smoke_fix)"
      ]
    },
    {
      "cell_type": "code",
      "execution_count": null,
      "metadata": {
        "colab": {
          "base_uri": "https://localhost:8080/"
        },
        "id": "vVJ42gNJ0PpL",
        "outputId": "34b3864d-f54c-4517-c055-12d07108d83c",
        "vscode": {
          "languageId": "r"
        }
      },
      "outputs": [
        {
          "name": "stdout",
          "output_type": "stream",
          "text": [
            "Birthweight mean for smokers:  114.1095 \n",
            "Birthweight mean for nonsmokers:  123.0472\n",
            "Difference in means:  8.937666"
          ]
        }
      ],
      "source": [
        "# Begin permutation test procedures.\n",
        "\n",
        "# Find the difference between the mean gestation period for smokers vs. nonsmokers\n",
        "\n",
        "# first, separate data.smoke_fix into two dataframes: one for smokers, other for nonsmokers\n",
        "data.smoke_fix.smoke = data.smoke_fix[which(data.smoke_fix$smoke == 1),]\n",
        "data.smoke_fix.nosmoke = data.smoke_fix[which(data.smoke_fix$smoke == 0),]\n",
        "\n",
        "bwt_mean_smoke = mean(data.smoke_fix.smoke$bwt)\n",
        "bwt_mean_nosmoke = mean(data.smoke_fix.nosmoke$bwt)\n",
        "cat(\"Birthweight mean for smokers: \",bwt_mean_smoke,\"\\nBirthweight mean for nonsmokers: \",bwt_mean_nosmoke)\n",
        "observed_difference_in_bwt_mean = bwt_mean_nosmoke-bwt_mean_smoke\n",
        "cat(\"\\nDifference in means: \",observed_difference_in_bwt_mean)"
      ]
    },
    {
      "cell_type": "code",
      "execution_count": null,
      "metadata": {
        "id": "-LbIvQ6J1HEM",
        "vscode": {
          "languageId": "r"
        }
      },
      "outputs": [],
      "source": [
        "# Use permutation testing 1000 times to determine whether this difference in means is due to chance\n",
        "difference_in_bwt_means = vector()\n",
        "for(i in 1:1000) {\n",
        "  # shuffle all rows\n",
        "  data.smoke_fix.shuffled = data.smoke_fix[sample(nrow(data.smoke_fix)),]\n",
        "  # extract the smoke column\n",
        "  permute_smoke = data.smoke_fix.shuffled$smoke\n",
        "  # append permutated column to the pre-shuffled data frame\n",
        "  data.smoke_fix.with_permute <- cbind(data.smoke_fix,permutated_smoke = permute_smoke)\n",
        "\n",
        "  # separate the dataframe into smokers and nonsmokers only\n",
        "  temp.data.smoke = data.smoke_fix.with_permute[which(data.smoke_fix.with_permute$permutated_smoke == 1),]\n",
        "  temp.data.nosmoke = data.smoke_fix.with_permute[which(data.smoke_fix.with_permute$permutated_smoke == 0),]\n",
        "\n",
        "  # append difference of means\n",
        "  difference_in_bwt_means = c(difference_in_bwt_means,mean(temp.data.nosmoke$bwt) - mean(temp.data.smoke$bwt))\n",
        "}"
      ]
    },
    {
      "cell_type": "code",
      "execution_count": null,
      "metadata": {
        "colab": {
          "base_uri": "https://localhost:8080/",
          "height": 35
        },
        "id": "wU7ZPfWK2Z7i",
        "outputId": "0d8ba43a-748f-4320-ad26-a79dfcf71679",
        "vscode": {
          "languageId": "r"
        }
      },
      "outputs": [
        {
          "data": {
            "text/html": [
              "<style>\n",
              ".list-inline {list-style: none; margin:0; padding: 0}\n",
              ".list-inline>li {display: inline-block}\n",
              ".list-inline>li:not(:last-child)::after {content: \"\\00b7\"; padding: 0 .5ex}\n",
              "</style>\n",
              "<ol class=list-inline><li>-1.78515738121227</li><li>2.08953353678912</li><li>-0.631284667305252</li><li>0.0309973045822147</li><li>0.35189681673387</li><li>0.38603506270745</li></ol>\n"
            ],
            "text/latex": [
              "\\begin{enumerate*}\n",
              "\\item -1.78515738121227\n",
              "\\item 2.08953353678912\n",
              "\\item -0.631284667305252\n",
              "\\item 0.0309973045822147\n",
              "\\item 0.35189681673387\n",
              "\\item 0.38603506270745\n",
              "\\end{enumerate*}\n"
            ],
            "text/markdown": [
              "1. -1.78515738121227\n",
              "2. 2.08953353678912\n",
              "3. -0.631284667305252\n",
              "4. 0.0309973045822147\n",
              "5. 0.35189681673387\n",
              "6. 0.38603506270745\n",
              "\n",
              "\n"
            ],
            "text/plain": [
              "[1] -1.7851574  2.0895335 -0.6312847  0.0309973  0.3518968  0.3860351"
            ]
          },
          "metadata": {
            "tags": []
          },
          "output_type": "display_data"
        }
      ],
      "source": [
        "head(difference_in_bwt_means)"
      ]
    },
    {
      "cell_type": "code",
      "execution_count": null,
      "metadata": {
        "colab": {
          "base_uri": "https://localhost:8080/",
          "height": 281
        },
        "id": "6P8na0Uw2bi0",
        "outputId": "c61b6cad-d170-4c52-a45a-b04b91cbc4a1",
        "vscode": {
          "languageId": "r"
        }
      },
      "outputs": [
        {
          "data": {
            "text/html": [
              "<table class=\"dataframe\">\n",
              "<caption>A data.frame: 6 × 8</caption>\n",
              "<thead>\n",
              "\t<tr><th></th><th scope=col>bwt</th><th scope=col>gestation</th><th scope=col>parity</th><th scope=col>age</th><th scope=col>height</th><th scope=col>weight</th><th scope=col>smoke</th><th scope=col>permutated_smoke</th></tr>\n",
              "\t<tr><th></th><th scope=col>&lt;int&gt;</th><th scope=col>&lt;int&gt;</th><th scope=col>&lt;int&gt;</th><th scope=col>&lt;int&gt;</th><th scope=col>&lt;int&gt;</th><th scope=col>&lt;int&gt;</th><th scope=col>&lt;int&gt;</th><th scope=col>&lt;int&gt;</th></tr>\n",
              "</thead>\n",
              "<tbody>\n",
              "\t<tr><th scope=row>1</th><td>120</td><td>284</td><td>0</td><td>27</td><td>62</td><td>100</td><td>0</td><td>1</td></tr>\n",
              "\t<tr><th scope=row>2</th><td>113</td><td>282</td><td>0</td><td>33</td><td>64</td><td>135</td><td>0</td><td>1</td></tr>\n",
              "\t<tr><th scope=row>3</th><td>128</td><td>279</td><td>0</td><td>28</td><td>64</td><td>115</td><td>1</td><td>0</td></tr>\n",
              "\t<tr><th scope=row>4</th><td>123</td><td>999</td><td>0</td><td>36</td><td>69</td><td>190</td><td>0</td><td>0</td></tr>\n",
              "\t<tr><th scope=row>5</th><td>108</td><td>282</td><td>0</td><td>23</td><td>67</td><td>125</td><td>1</td><td>1</td></tr>\n",
              "\t<tr><th scope=row>6</th><td>136</td><td>286</td><td>0</td><td>25</td><td>62</td><td> 93</td><td>0</td><td>0</td></tr>\n",
              "</tbody>\n",
              "</table>\n"
            ],
            "text/latex": [
              "A data.frame: 6 × 8\n",
              "\\begin{tabular}{r|llllllll}\n",
              "  & bwt & gestation & parity & age & height & weight & smoke & permutated\\_smoke\\\\\n",
              "  & <int> & <int> & <int> & <int> & <int> & <int> & <int> & <int>\\\\\n",
              "\\hline\n",
              "\t1 & 120 & 284 & 0 & 27 & 62 & 100 & 0 & 1\\\\\n",
              "\t2 & 113 & 282 & 0 & 33 & 64 & 135 & 0 & 1\\\\\n",
              "\t3 & 128 & 279 & 0 & 28 & 64 & 115 & 1 & 0\\\\\n",
              "\t4 & 123 & 999 & 0 & 36 & 69 & 190 & 0 & 0\\\\\n",
              "\t5 & 108 & 282 & 0 & 23 & 67 & 125 & 1 & 1\\\\\n",
              "\t6 & 136 & 286 & 0 & 25 & 62 &  93 & 0 & 0\\\\\n",
              "\\end{tabular}\n"
            ],
            "text/markdown": [
              "\n",
              "A data.frame: 6 × 8\n",
              "\n",
              "| <!--/--> | bwt &lt;int&gt; | gestation &lt;int&gt; | parity &lt;int&gt; | age &lt;int&gt; | height &lt;int&gt; | weight &lt;int&gt; | smoke &lt;int&gt; | permutated_smoke &lt;int&gt; |\n",
              "|---|---|---|---|---|---|---|---|---|\n",
              "| 1 | 120 | 284 | 0 | 27 | 62 | 100 | 0 | 1 |\n",
              "| 2 | 113 | 282 | 0 | 33 | 64 | 135 | 0 | 1 |\n",
              "| 3 | 128 | 279 | 0 | 28 | 64 | 115 | 1 | 0 |\n",
              "| 4 | 123 | 999 | 0 | 36 | 69 | 190 | 0 | 0 |\n",
              "| 5 | 108 | 282 | 0 | 23 | 67 | 125 | 1 | 1 |\n",
              "| 6 | 136 | 286 | 0 | 25 | 62 |  93 | 0 | 0 |\n",
              "\n"
            ],
            "text/plain": [
              "  bwt gestation parity age height weight smoke permutated_smoke\n",
              "1 120 284       0      27  62     100    0     1               \n",
              "2 113 282       0      33  64     135    0     1               \n",
              "3 128 279       0      28  64     115    1     0               \n",
              "4 123 999       0      36  69     190    0     0               \n",
              "5 108 282       0      23  67     125    1     1               \n",
              "6 136 286       0      25  62      93    0     0               "
            ]
          },
          "metadata": {
            "tags": []
          },
          "output_type": "display_data"
        }
      ],
      "source": [
        "head(data.smoke_fix.with_permute)"
      ]
    },
    {
      "cell_type": "code",
      "execution_count": null,
      "metadata": {
        "colab": {
          "base_uri": "https://localhost:8080/",
          "height": 437
        },
        "id": "WvHHV6B32ifB",
        "outputId": "0d46d041-f01e-48e4-deff-d880a19f30dd",
        "vscode": {
          "languageId": "r"
        }
      },
      "outputs": [
        {
          "data": {
            "image/png": "[encoded data removed]",
            "text/plain": [
              "Plot with title “Histogram of difference_in_bwt_means”"
            ]
          },
          "metadata": {
            "image/png": {
              "height": 420,
              "width": 420
            },
            "tags": []
          },
          "output_type": "display_data"
        }
      ],
      "source": [
        "# plot null hypothesis\n",
        "hist(difference_in_bwt_means)\n",
        "# draw a dot where our observed difference in means was\n",
        "abline(v=observed_difference_in_bwt_mean,col=\"red\")"
      ]
    },
    {
      "cell_type": "markdown",
      "metadata": {
        "id": "77J8jn9B2z34"
      },
      "source": [
        "The line's not even on the histogram!"
      ]
    },
    {
      "cell_type": "code",
      "execution_count": null,
      "metadata": {
        "colab": {
          "base_uri": "https://localhost:8080/",
          "height": 35
        },
        "id": "6_N7CL6w2sPx",
        "outputId": "3aa436dc-d6b4-4552-be09-3b3369416970",
        "vscode": {
          "languageId": "r"
        }
      },
      "outputs": [
        {
          "data": {
            "text/html": [
              "0"
            ],
            "text/latex": [
              "0"
            ],
            "text/markdown": [
              "0"
            ],
            "text/plain": [
              "[1] 0"
            ]
          },
          "metadata": {
            "tags": []
          },
          "output_type": "display_data"
        }
      ],
      "source": [
        "# Finally, calculate the p-value:\n",
        "values_over_observed_bwt_mean = difference_in_bwt_means >= observed_difference_in_bwt_mean\n",
        "num_values_over_observed_bwt_mean = sum(values_over_observed_bwt_mean)\n",
        "p_value_bwt = num_values_over_observed_bwt_mean / 1000\n",
        "p_value_bwt"
      ]
    },
    {
      "cell_type": "markdown",
      "metadata": {
        "id": "BMgauLMn3IlI"
      },
      "source": [
        "**Conclusion: With a p-value of 0.000, we reject the null hypothesis that the difference in birth weights of babies with mothers who smoked vs. didn't smoke is due to chance. This difference is indeed NOT due to chance.**"
      ]
    },
    {
      "cell_type": "code",
      "execution_count": null,
      "metadata": {
        "id": "NZ7RJpew28EQ",
        "vscode": {
          "languageId": "r"
        }
      },
      "outputs": [],
      "source": []
    }
  ],
  "metadata": {
    "colab": {
      "collapsed_sections": [],
      "provenance": [],
      "toc_visible": true
    },
    "kernelspec": {
      "display_name": "R",
      "name": "ir"
    },
    "language_info": {
      "name": "R"
    }
  },
  "nbformat": 4,
  "nbformat_minor": 0
}
